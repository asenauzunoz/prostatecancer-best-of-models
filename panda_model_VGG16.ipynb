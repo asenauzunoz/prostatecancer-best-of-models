{
  "nbformat": 4,
  "nbformat_minor": 0,
  "metadata": {
    "colab": {
      "provenance": [],
      "mount_file_id": "1spJGrd5o3qojzZwTF7iHtZJ5u0tP8Nt3",
      "authorship_tag": "ABX9TyPN395dtJ91/bAF4c3QVEDY"
    },
    "kernelspec": {
      "name": "python3",
      "display_name": "Python 3"
    },
    "language_info": {
      "name": "python"
    }
  },
  "cells": [
    {
      "cell_type": "markdown",
      "source": [
        "# LIBRARIES"
      ],
      "metadata": {
        "id": "2dwZ4C50m87A"
      }
    },
    {
      "cell_type": "code",
      "execution_count": 2,
      "metadata": {
        "id": "Rdpyd6-2frvL"
      },
      "outputs": [],
      "source": [
        "import os\n",
        "import skimage.io\n",
        "import random\n",
        "import seaborn as sns\n",
        "import cv2\n",
        "\n",
        "# General packages\n",
        "import pandas as pd\n",
        "import numpy as np\n",
        "import matplotlib\n",
        "import matplotlib.pyplot as plt\n",
        "import PIL\n",
        "from IPython.display import Image, display\n",
        "\n",
        "# Plotly for the interactive viewer (see last section)\n",
        "import plotly.graph_objs as go\n",
        "\n",
        "from skimage.io import MultiImage,imsave,imread"
      ]
    },
    {
      "cell_type": "code",
      "source": [
        "import sys\n",
        "sys.path = [\n",
        "    '../input/efficientnet-pytorch/EfficientNet-PyTorch/EfficientNet-PyTorch-master',\n",
        "] + sys.path"
      ],
      "metadata": {
        "colab": {
          "base_uri": "https://localhost:8080/"
        },
        "id": "cxE9jEUBxEXb",
        "outputId": "b11d5960-f27d-43c8-c5d8-abc773c92e2a"
      },
      "execution_count": 32,
      "outputs": [
        {
          "output_type": "stream",
          "name": "stdout",
          "text": [
            "time: 876 µs (started: 2022-12-11 19:58:21 +00:00)\n"
          ]
        }
      ]
    },
    {
      "cell_type": "code",
      "source": [
        "!apt update && apt install -y openslide-tools\n",
        "!pip install openslide-python"
      ],
      "metadata": {
        "colab": {
          "base_uri": "https://localhost:8080/"
        },
        "id": "Ho9WX9Xfmag-",
        "outputId": "7ed9b08a-54ff-4ab3-f14a-a45e17f29081"
      },
      "execution_count": 3,
      "outputs": [
        {
          "output_type": "stream",
          "name": "stdout",
          "text": [
            "Get:1 https://cloud.r-project.org/bin/linux/ubuntu bionic-cran40/ InRelease [3,626 B]\n",
            "Get:2 http://security.ubuntu.com/ubuntu bionic-security InRelease [88.7 kB]\n",
            "Ign:3 https://developer.download.nvidia.com/compute/machine-learning/repos/ubuntu1804/x86_64  InRelease\n",
            "Get:4 https://developer.download.nvidia.com/compute/cuda/repos/ubuntu1804/x86_64  InRelease [1,581 B]\n",
            "Hit:5 https://developer.download.nvidia.com/compute/machine-learning/repos/ubuntu1804/x86_64  Release\n",
            "Hit:6 http://ppa.launchpad.net/c2d4u.team/c2d4u4.0+/ubuntu bionic InRelease\n",
            "Get:7 https://developer.download.nvidia.com/compute/cuda/repos/ubuntu1804/x86_64  Packages [1,073 kB]\n",
            "Hit:8 http://archive.ubuntu.com/ubuntu bionic InRelease\n",
            "Get:9 http://archive.ubuntu.com/ubuntu bionic-updates InRelease [88.7 kB]\n",
            "Hit:11 http://ppa.launchpad.net/cran/libgit2/ubuntu bionic InRelease\n",
            "Hit:12 http://ppa.launchpad.net/deadsnakes/ppa/ubuntu bionic InRelease\n",
            "Get:13 http://archive.ubuntu.com/ubuntu bionic-backports InRelease [83.3 kB]\n",
            "Get:14 http://security.ubuntu.com/ubuntu bionic-security/restricted amd64 Packages [1,311 kB]\n",
            "Hit:15 http://ppa.launchpad.net/graphics-drivers/ppa/ubuntu bionic InRelease\n",
            "Get:16 http://archive.ubuntu.com/ubuntu bionic-updates/main amd64 Packages [3,524 kB]\n",
            "Get:17 http://security.ubuntu.com/ubuntu bionic-security/universe amd64 Packages [1,567 kB]\n",
            "Get:18 http://security.ubuntu.com/ubuntu bionic-security/main amd64 Packages [3,099 kB]\n",
            "Get:19 http://archive.ubuntu.com/ubuntu bionic-updates/restricted amd64 Packages [1,352 kB]\n",
            "Get:20 http://archive.ubuntu.com/ubuntu bionic-updates/universe amd64 Packages [2,342 kB]\n",
            "Fetched 14.5 MB in 4s (3,613 kB/s)\n",
            "Reading package lists... Done\n",
            "Building dependency tree       \n",
            "Reading state information... Done\n",
            "34 packages can be upgraded. Run 'apt list --upgradable' to see them.\n",
            "Reading package lists... Done\n",
            "Building dependency tree       \n",
            "Reading state information... Done\n",
            "The following package was automatically installed and is no longer required:\n",
            "  libnvidia-common-460\n",
            "Use 'apt autoremove' to remove it.\n",
            "The following additional packages will be installed:\n",
            "  libopenslide0\n",
            "Suggested packages:\n",
            "  libtiff-tools\n",
            "The following NEW packages will be installed:\n",
            "  libopenslide0 openslide-tools\n",
            "0 upgraded, 2 newly installed, 0 to remove and 34 not upgraded.\n",
            "Need to get 92.5 kB of archives.\n",
            "After this operation, 268 kB of additional disk space will be used.\n",
            "Get:1 http://archive.ubuntu.com/ubuntu bionic/universe amd64 libopenslide0 amd64 3.4.1+dfsg-2 [79.8 kB]\n",
            "Get:2 http://archive.ubuntu.com/ubuntu bionic/universe amd64 openslide-tools amd64 3.4.1+dfsg-2 [12.7 kB]\n",
            "Fetched 92.5 kB in 1s (88.8 kB/s)\n",
            "Selecting previously unselected package libopenslide0.\n",
            "(Reading database ... 124013 files and directories currently installed.)\n",
            "Preparing to unpack .../libopenslide0_3.4.1+dfsg-2_amd64.deb ...\n",
            "Unpacking libopenslide0 (3.4.1+dfsg-2) ...\n",
            "Selecting previously unselected package openslide-tools.\n",
            "Preparing to unpack .../openslide-tools_3.4.1+dfsg-2_amd64.deb ...\n",
            "Unpacking openslide-tools (3.4.1+dfsg-2) ...\n",
            "Setting up libopenslide0 (3.4.1+dfsg-2) ...\n",
            "Setting up openslide-tools (3.4.1+dfsg-2) ...\n",
            "Processing triggers for libc-bin (2.27-3ubuntu1.6) ...\n",
            "Processing triggers for man-db (2.8.3-2ubuntu0.1) ...\n",
            "Looking in indexes: https://pypi.org/simple, https://us-python.pkg.dev/colab-wheels/public/simple/\n",
            "Collecting openslide-python\n",
            "  Downloading openslide-python-1.2.0.tar.gz (338 kB)\n",
            "\u001b[K     |████████████████████████████████| 338 kB 4.4 MB/s \n",
            "\u001b[?25hRequirement already satisfied: Pillow in /usr/local/lib/python3.8/dist-packages (from openslide-python) (7.1.2)\n",
            "Building wheels for collected packages: openslide-python\n",
            "  Building wheel for openslide-python (setup.py) ... \u001b[?25l\u001b[?25hdone\n",
            "  Created wheel for openslide-python: filename=openslide_python-1.2.0-cp38-cp38-linux_x86_64.whl size=27713 sha256=013859d5b7e48a8dc6616b3f3dacdf796f1b3cfa0872d2ba081dbb9e7e357936\n",
            "  Stored in directory: /root/.cache/pip/wheels/ae/74/4e/f8654d229eb249d1345e3df0191030ad77e7a6a2114df7cd28\n",
            "Successfully built openslide-python\n",
            "Installing collected packages: openslide-python\n",
            "Successfully installed openslide-python-1.2.0\n"
          ]
        }
      ]
    },
    {
      "cell_type": "code",
      "source": [
        "import openslide\n",
        "import glob\n",
        "\n",
        "import skimage\n",
        "import tifffile\n",
        "import multiprocessing\n",
        "multiprocessing.cpu_count()\n",
        "\n",
        "#BASIC\n",
        "import numpy as np \n",
        "import pandas as pd \n",
        "import os\n",
        "\n",
        "# DATA visualization\n",
        "import matplotlib.pyplot as plt\n",
        "import seaborn as sns\n",
        "import PIL\n",
        "from IPython.display import Image, display\n",
        "from plotly import graph_objs as go\n",
        "import plotly.express as px\n",
        "\n",
        "\n",
        "import random\n",
        "import collections"
      ],
      "metadata": {
        "id": "gkIJgIh6mf9d"
      },
      "execution_count": 4,
      "outputs": []
    },
    {
      "cell_type": "code",
      "source": [
        "!pip install tensorflow==2.2.0  --quiet\n",
        "!pip install tf-nightly --quiet"
      ],
      "metadata": {
        "colab": {
          "base_uri": "https://localhost:8080/"
        },
        "id": "aT7NMdjgzf7n",
        "outputId": "3ce5c87d-8963-4189-9d00-3a8a512b2ef1"
      },
      "execution_count": 37,
      "outputs": [
        {
          "output_type": "stream",
          "name": "stdout",
          "text": [
            "\u001b[K     |████████████████████████████████| 516.3 MB 2.7 kB/s \n",
            "\u001b[K     |████████████████████████████████| 3.0 MB 13.7 MB/s \n",
            "\u001b[K     |████████████████████████████████| 454 kB 49.9 MB/s \n",
            "\u001b[K     |████████████████████████████████| 26.0 MB 56.1 MB/s \n",
            "\u001b[K     |████████████████████████████████| 2.9 MB 42.3 MB/s \n",
            "\u001b[K     |████████████████████████████████| 152 kB 44.2 MB/s \n",
            "\u001b[31mERROR: pip's dependency resolver does not currently take into account all the packages that are installed. This behaviour is the source of the following dependency conflicts.\n",
            "xarray-einstats 0.3.0 requires scipy>=1.5, but you have scipy 1.4.1 which is incompatible.\n",
            "plotnine 0.8.0 requires scipy>=1.5.0, but you have scipy 1.4.1 which is incompatible.\n",
            "jaxlib 0.3.25+cuda11.cudnn805 requires scipy>=1.5, but you have scipy 1.4.1 which is incompatible.\n",
            "jax 0.3.25 requires scipy>=1.5, but you have scipy 1.4.1 which is incompatible.\u001b[0m\n",
            "\u001b[K     |████████████████████████████████| 558.1 MB 6.7 kB/s \n",
            "\u001b[K     |████████████████████████████████| 439 kB 49.3 MB/s \n",
            "\u001b[K     |████████████████████████████████| 1.7 MB 26.0 MB/s \n",
            "\u001b[K     |████████████████████████████████| 5.7 MB 41.0 MB/s \n",
            "\u001b[K     |████████████████████████████████| 33.8 MB 2.9 MB/s \n",
            "\u001b[31mERROR: pip's dependency resolver does not currently take into account all the packages that are installed. This behaviour is the source of the following dependency conflicts.\n",
            "tensorflow 2.2.0 requires scipy==1.4.1; python_version >= \"3\", but you have scipy 1.9.3 which is incompatible.\u001b[0m\n",
            "\u001b[?25htime: 2min 56s (started: 2022-12-11 20:08:58 +00:00)\n"
          ]
        }
      ]
    },
    {
      "cell_type": "code",
      "source": [
        "import os\n",
        "import PIL\n",
        "import time\n",
        "import math\n",
        "import warnings\n",
        "import numpy as np\n",
        "import pandas as pd\n",
        "import tensorflow as tf\n",
        "import matplotlib.pyplot as plt\n",
        "from sklearn.model_selection import train_test_split\n",
        "from tensorflow.keras.preprocessing.image import load_img\n",
        "\n",
        "SEED = 1337\n",
        "print('Tensorflow version : {}'.format(tf.__version__))\n",
        "\n",
        "try:\n",
        "    tpu = tf.distribute.cluster_resolver.TPUClusterResolver()\n",
        "    tf.config.experimental_connect_to_cluster(tpu)\n",
        "    tf.tpu.experimental.initialize_tpu_system(tpu)\n",
        "    strategy = tf.distribute.experimental.TPUStrategy(tpu)\n",
        "except ValueError:\n",
        "    strategy = tf.distribute.get_strategy() # for CPU and single GPU\n",
        "    print('Number of replicas:', strategy.num_replicas_in_sync)\n",
        "    \n",
        "print(tf.__version__)"
      ],
      "metadata": {
        "colab": {
          "base_uri": "https://localhost:8080/"
        },
        "id": "mVNSZq_uzggM",
        "outputId": "604ebf9a-4f0d-4abe-cda1-f92d29f08b42"
      },
      "execution_count": 39,
      "outputs": [
        {
          "output_type": "stream",
          "name": "stdout",
          "text": [
            "Tensorflow version : 2.9.2\n",
            "Number of replicas: 1\n",
            "2.9.2\n",
            "time: 13.9 ms (started: 2022-12-11 20:12:00 +00:00)\n"
          ]
        }
      ]
    },
    {
      "cell_type": "markdown",
      "source": [
        "Yeryüzündeki tüm kütüphaneleri import etmeye devam ✌\n"
      ],
      "metadata": {
        "id": "Jf7biJzSnxwd"
      }
    },
    {
      "cell_type": "code",
      "source": [
        "%%capture\n",
        "import pandas as pd\n",
        "import numpy as np\n",
        "import seaborn as sns\n",
        "import matplotlib.pyplot as plt\n",
        "from warnings import filterwarnings\n",
        "from sklearn.metrics import confusion_matrix, accuracy_score, classification_report, roc_auc_score, roc_curve\n",
        "from tensorflow.keras.models import Sequential\n",
        "from keras.layers import Dense, Dropout, Flatten, Conv2D, MaxPool2D, BatchNormalization,MaxPooling2D, Permute, TimeDistributed, Bidirectional,GRU, SimpleRNN, LSTM\n",
        "from keras import models\n",
        "import tensorflow as tf\n",
        "import os\n",
        "import os.path\n",
        "from pathlib import Path\n",
        "import cv2\n",
        "from tensorflow.keras.preprocessing.image import ImageDataGenerator\n",
        "from keras.utils.np_utils import to_categorical\n",
        "from sklearn.model_selection import train_test_split\n",
        "from keras import regularizers\n",
        "from tensorflow.keras.optimizers import *\n",
        "import glob\n",
        "from pathlib import Path\n",
        "from PIL import Image\n",
        "import PIL\n",
        "import copy\n",
        "\n",
        "from keras.utils.layer_utils import count_params\n",
        "\n",
        "from tensorflow.python.keras.utils.vis_utils import model_to_dot\n",
        "from keras.utils.vis_utils import plot_model\n",
        "from IPython.display import SVG\n",
        "import pydot\n",
        "import graphviz\n",
        "\n",
        "from keras.models import model_from_json\n",
        "!pip install ipython-autotime\n",
        "%load_ext autotime\n",
        "\n",
        "\n",
        "!pip install tensorflow_addons\n",
        "import tensorflow_addons as tfa\n",
        "\n",
        "from tensorflow.keras.callbacks import *\n",
        "\n",
        "%matplotlib inline\n",
        "import datetime\n",
        "import time\n",
        "import gc\n",
        "import shutil\n",
        "\n",
        "from tensorflow import keras\n",
        "from tensorflow.keras.layers import *\n",
        "\n",
        "from sklearn.model_selection import KFold, StratifiedKFold\n",
        "\n",
        "!pip install -U tensorboard-plugin-profile\n",
        "\n",
        "# IGNORING UNNECESSARRY WARNINGS\n",
        "\n",
        "filterwarnings(\"ignore\",category=DeprecationWarning)\n",
        "filterwarnings(\"ignore\", category=FutureWarning) \n",
        "filterwarnings(\"ignore\", category=UserWarning)"
      ],
      "metadata": {
        "colab": {
          "base_uri": "https://localhost:8080/"
        },
        "id": "Qajsqqyfnw25",
        "outputId": "3b2c6a6e-001b-480e-e68d-2a38f818f7f2"
      },
      "execution_count": 7,
      "outputs": [
        {
          "output_type": "stream",
          "name": "stdout",
          "text": [
            "time: 10.4 s (started: 2022-12-11 19:18:49 +00:00)\n"
          ]
        }
      ]
    },
    {
      "cell_type": "code",
      "source": [
        "gpus = tf.config.experimental.list_physical_devices('GPU')\n",
        "if gpus:\n",
        "    try:\n",
        "    # Currently, memory growth needs to be the same across GPUs\n",
        "        for gpu in gpus:\n",
        "            tf.config.experimental.set_memory_growth(gpu, True)\n",
        "        logical_gpus = tf.config.experimental.list_logical_devices('GPU')\n",
        "        print(len(gpus), \"Physical GPUs,\", len(logical_gpus), \"Logical GPUs\")\n",
        "    except RuntimeError as e:\n",
        "    # Memory growth must be set before GPUs have been initialized\n",
        "        print(e)\n",
        "\n",
        "print('TF Version:', tf.__version__)\n",
        "print('TFA Version:', tfa.__version__)"
      ],
      "metadata": {
        "colab": {
          "base_uri": "https://localhost:8080/"
        },
        "id": "jXuF6A1hoRyc",
        "outputId": "10fd4587-d960-42d8-a7a1-10e8ccf411a1"
      },
      "execution_count": 8,
      "outputs": [
        {
          "output_type": "stream",
          "name": "stdout",
          "text": [
            "TF Version: 2.9.2\n",
            "TFA Version: 0.19.0\n",
            "time: 87.8 ms (started: 2022-12-11 19:19:56 +00:00)\n"
          ]
        }
      ]
    },
    {
      "cell_type": "markdown",
      "source": [
        "# DATA MATA"
      ],
      "metadata": {
        "id": "m0RJHHp0nN-1"
      }
    },
    {
      "cell_type": "code",
      "source": [
        "# Location of the training images\n",
        "BASE_PATH = '/content/drive/MyDrive/PANDA'\n",
        "\n",
        "# image and mask directories\n",
        "data_dir = f'{BASE_PATH}/train_images'\n",
        "image_folder = f'{BASE_PATH}/train_images'\n",
        "mask_dir = f'{BASE_PATH}/train_label_masks'\n",
        "\n",
        "\n",
        "# Location of training labels\n",
        "#train = pd.read_csv(f'{BASE_PATH}/train.csv').set_index('image_id')\n",
        "df_train = pd.read_csv(f'{BASE_PATH}/train.csv')\n",
        "df_test = pd.read_csv(f'{BASE_PATH}/test.csv')\n",
        "df_submission = pd.read_csv(f'{BASE_PATH}/sample_submission.csv')"
      ],
      "metadata": {
        "colab": {
          "base_uri": "https://localhost:8080/"
        },
        "id": "KjGhtRJWnQxp",
        "outputId": "c2e45096-1d74-4a28-a329-2207de073ad2"
      },
      "execution_count": 157,
      "outputs": [
        {
          "output_type": "stream",
          "name": "stdout",
          "text": [
            "time: 36.2 ms (started: 2022-12-11 20:42:30 +00:00)\n"
          ]
        }
      ]
    },
    {
      "cell_type": "code",
      "source": [
        "display(df_train.head())\n",
        "print(\"-----------------------------------------------------------\")\n",
        "print(\"Shape of training data :\", df_train.shape)\n",
        "print(\"unique data provider :\", len(df_train.data_provider.unique()))\n",
        "print(\"unique isup_grade(target) :\", len(df_train.isup_grade.unique()))\n",
        "print(\"unique gleason_score :\", len(df_train.gleason_score.unique()))"
      ],
      "metadata": {
        "colab": {
          "base_uri": "https://localhost:8080/",
          "height": 311
        },
        "id": "YSkhMbVmnct8",
        "outputId": "e4df5227-3ffd-4f8a-b21f-1e0b2280388b"
      },
      "execution_count": 105,
      "outputs": [
        {
          "output_type": "display_data",
          "data": {
            "text/plain": [
              "                           image_id data_provider  isup_grade gleason_score\n",
              "0  0005f7aaab2800f6170c399693a96917    karolinska           0           0+0\n",
              "1  000920ad0b612851f8e01bcc880d9b3d    karolinska           0           0+0\n",
              "2  0018ae58b01bdadc8e347995b69f99aa       radboud           4           4+4\n",
              "3  001c62abd11fa4b57bf7a6c603a11bb9    karolinska           4           4+4\n",
              "4  001d865e65ef5d2579c190a0e0350d8f    karolinska           0           0+0"
            ],
            "text/html": [
              "\n",
              "  <div id=\"df-bedf7f3d-7b88-4946-aebf-96708801942e\">\n",
              "    <div class=\"colab-df-container\">\n",
              "      <div>\n",
              "<style scoped>\n",
              "    .dataframe tbody tr th:only-of-type {\n",
              "        vertical-align: middle;\n",
              "    }\n",
              "\n",
              "    .dataframe tbody tr th {\n",
              "        vertical-align: top;\n",
              "    }\n",
              "\n",
              "    .dataframe thead th {\n",
              "        text-align: right;\n",
              "    }\n",
              "</style>\n",
              "<table border=\"1\" class=\"dataframe\">\n",
              "  <thead>\n",
              "    <tr style=\"text-align: right;\">\n",
              "      <th></th>\n",
              "      <th>image_id</th>\n",
              "      <th>data_provider</th>\n",
              "      <th>isup_grade</th>\n",
              "      <th>gleason_score</th>\n",
              "    </tr>\n",
              "  </thead>\n",
              "  <tbody>\n",
              "    <tr>\n",
              "      <th>0</th>\n",
              "      <td>0005f7aaab2800f6170c399693a96917</td>\n",
              "      <td>karolinska</td>\n",
              "      <td>0</td>\n",
              "      <td>0+0</td>\n",
              "    </tr>\n",
              "    <tr>\n",
              "      <th>1</th>\n",
              "      <td>000920ad0b612851f8e01bcc880d9b3d</td>\n",
              "      <td>karolinska</td>\n",
              "      <td>0</td>\n",
              "      <td>0+0</td>\n",
              "    </tr>\n",
              "    <tr>\n",
              "      <th>2</th>\n",
              "      <td>0018ae58b01bdadc8e347995b69f99aa</td>\n",
              "      <td>radboud</td>\n",
              "      <td>4</td>\n",
              "      <td>4+4</td>\n",
              "    </tr>\n",
              "    <tr>\n",
              "      <th>3</th>\n",
              "      <td>001c62abd11fa4b57bf7a6c603a11bb9</td>\n",
              "      <td>karolinska</td>\n",
              "      <td>4</td>\n",
              "      <td>4+4</td>\n",
              "    </tr>\n",
              "    <tr>\n",
              "      <th>4</th>\n",
              "      <td>001d865e65ef5d2579c190a0e0350d8f</td>\n",
              "      <td>karolinska</td>\n",
              "      <td>0</td>\n",
              "      <td>0+0</td>\n",
              "    </tr>\n",
              "  </tbody>\n",
              "</table>\n",
              "</div>\n",
              "      <button class=\"colab-df-convert\" onclick=\"convertToInteractive('df-bedf7f3d-7b88-4946-aebf-96708801942e')\"\n",
              "              title=\"Convert this dataframe to an interactive table.\"\n",
              "              style=\"display:none;\">\n",
              "        \n",
              "  <svg xmlns=\"http://www.w3.org/2000/svg\" height=\"24px\"viewBox=\"0 0 24 24\"\n",
              "       width=\"24px\">\n",
              "    <path d=\"M0 0h24v24H0V0z\" fill=\"none\"/>\n",
              "    <path d=\"M18.56 5.44l.94 2.06.94-2.06 2.06-.94-2.06-.94-.94-2.06-.94 2.06-2.06.94zm-11 1L8.5 8.5l.94-2.06 2.06-.94-2.06-.94L8.5 2.5l-.94 2.06-2.06.94zm10 10l.94 2.06.94-2.06 2.06-.94-2.06-.94-.94-2.06-.94 2.06-2.06.94z\"/><path d=\"M17.41 7.96l-1.37-1.37c-.4-.4-.92-.59-1.43-.59-.52 0-1.04.2-1.43.59L10.3 9.45l-7.72 7.72c-.78.78-.78 2.05 0 2.83L4 21.41c.39.39.9.59 1.41.59.51 0 1.02-.2 1.41-.59l7.78-7.78 2.81-2.81c.8-.78.8-2.07 0-2.86zM5.41 20L4 18.59l7.72-7.72 1.47 1.35L5.41 20z\"/>\n",
              "  </svg>\n",
              "      </button>\n",
              "      \n",
              "  <style>\n",
              "    .colab-df-container {\n",
              "      display:flex;\n",
              "      flex-wrap:wrap;\n",
              "      gap: 12px;\n",
              "    }\n",
              "\n",
              "    .colab-df-convert {\n",
              "      background-color: #E8F0FE;\n",
              "      border: none;\n",
              "      border-radius: 50%;\n",
              "      cursor: pointer;\n",
              "      display: none;\n",
              "      fill: #1967D2;\n",
              "      height: 32px;\n",
              "      padding: 0 0 0 0;\n",
              "      width: 32px;\n",
              "    }\n",
              "\n",
              "    .colab-df-convert:hover {\n",
              "      background-color: #E2EBFA;\n",
              "      box-shadow: 0px 1px 2px rgba(60, 64, 67, 0.3), 0px 1px 3px 1px rgba(60, 64, 67, 0.15);\n",
              "      fill: #174EA6;\n",
              "    }\n",
              "\n",
              "    [theme=dark] .colab-df-convert {\n",
              "      background-color: #3B4455;\n",
              "      fill: #D2E3FC;\n",
              "    }\n",
              "\n",
              "    [theme=dark] .colab-df-convert:hover {\n",
              "      background-color: #434B5C;\n",
              "      box-shadow: 0px 1px 3px 1px rgba(0, 0, 0, 0.15);\n",
              "      filter: drop-shadow(0px 1px 2px rgba(0, 0, 0, 0.3));\n",
              "      fill: #FFFFFF;\n",
              "    }\n",
              "  </style>\n",
              "\n",
              "      <script>\n",
              "        const buttonEl =\n",
              "          document.querySelector('#df-bedf7f3d-7b88-4946-aebf-96708801942e button.colab-df-convert');\n",
              "        buttonEl.style.display =\n",
              "          google.colab.kernel.accessAllowed ? 'block' : 'none';\n",
              "\n",
              "        async function convertToInteractive(key) {\n",
              "          const element = document.querySelector('#df-bedf7f3d-7b88-4946-aebf-96708801942e');\n",
              "          const dataTable =\n",
              "            await google.colab.kernel.invokeFunction('convertToInteractive',\n",
              "                                                     [key], {});\n",
              "          if (!dataTable) return;\n",
              "\n",
              "          const docLinkHtml = 'Like what you see? Visit the ' +\n",
              "            '<a target=\"_blank\" href=https://colab.research.google.com/notebooks/data_table.ipynb>data table notebook</a>'\n",
              "            + ' to learn more about interactive tables.';\n",
              "          element.innerHTML = '';\n",
              "          dataTable['output_type'] = 'display_data';\n",
              "          await google.colab.output.renderOutput(dataTable, element);\n",
              "          const docLink = document.createElement('div');\n",
              "          docLink.innerHTML = docLinkHtml;\n",
              "          element.appendChild(docLink);\n",
              "        }\n",
              "      </script>\n",
              "    </div>\n",
              "  </div>\n",
              "  "
            ]
          },
          "metadata": {}
        },
        {
          "output_type": "stream",
          "name": "stdout",
          "text": [
            "-----------------------------------------------------------\n",
            "Shape of training data : (10616, 4)\n",
            "unique data provider : 2\n",
            "unique isup_grade(target) : 6\n",
            "unique gleason_score : 11\n",
            "time: 25.5 ms (started: 2022-12-11 20:29:37 +00:00)\n"
          ]
        }
      ]
    },
    {
      "cell_type": "code",
      "source": [
        "df_train['gleason_score'].unique()"
      ],
      "metadata": {
        "colab": {
          "base_uri": "https://localhost:8080/"
        },
        "id": "HZ0aWYZvqZl0",
        "outputId": "58624652-91ae-4e7b-8edc-b3810fe48a05"
      },
      "execution_count": 106,
      "outputs": [
        {
          "output_type": "execute_result",
          "data": {
            "text/plain": [
              "array(['0+0', '4+4', '3+3', '4+3', 'negative', '4+5', '3+4', '5+4', '5+5',\n",
              "       '5+3', '3+5'], dtype=object)"
            ]
          },
          "metadata": {},
          "execution_count": 106
        },
        {
          "output_type": "stream",
          "name": "stdout",
          "text": [
            "time: 39.2 ms (started: 2022-12-11 20:29:43 +00:00)\n"
          ]
        }
      ]
    },
    {
      "cell_type": "markdown",
      "source": [
        "0+0 and negative represent the same value"
      ],
      "metadata": {
        "id": "i6_93GmJqfq5"
      }
    },
    {
      "cell_type": "code",
      "source": [
        "print(df_train[df_train['gleason_score']=='0+0']['isup_grade'].unique())\n",
        "print(df_train[df_train['gleason_score']=='negative']['isup_grade'].unique())"
      ],
      "metadata": {
        "colab": {
          "base_uri": "https://localhost:8080/"
        },
        "id": "-3WzOlVQqeLA",
        "outputId": "b52e9127-533e-4164-98c3-27b57fd8a9b5"
      },
      "execution_count": 107,
      "outputs": [
        {
          "output_type": "stream",
          "name": "stdout",
          "text": [
            "[0]\n",
            "[0]\n",
            "time: 10.1 ms (started: 2022-12-11 20:29:47 +00:00)\n"
          ]
        }
      ]
    },
    {
      "cell_type": "markdown",
      "source": [
        " it's (2892/10616) 27 percent of the total data"
      ],
      "metadata": {
        "id": "491aK9BRqu2W"
      }
    },
    {
      "cell_type": "code",
      "source": [
        "print(len(df_train[df_train['gleason_score']=='0+0']['isup_grade']))\n",
        "print(len(df_train[df_train['gleason_score']=='negative']['isup_grade']))"
      ],
      "metadata": {
        "colab": {
          "base_uri": "https://localhost:8080/"
        },
        "id": "hiRgylM7qt1E",
        "outputId": "b87cf51a-791f-4030-ad82-13582abb3dde"
      },
      "execution_count": 17,
      "outputs": [
        {
          "output_type": "stream",
          "name": "stdout",
          "text": [
            "1925\n",
            "967\n",
            "time: 40.2 ms (started: 2022-12-11 19:31:36 +00:00)\n"
          ]
        }
      ]
    },
    {
      "cell_type": "markdown",
      "source": [
        "We can see that 3+4 maps to one unique Isup  2 but to our surprise 4+3 maps to two different values "
      ],
      "metadata": {
        "id": "-8J8yTMaq_jJ"
      }
    },
    {
      "cell_type": "code",
      "source": [
        "print(df_train[df_train['gleason_score']=='3+4']['isup_grade'].unique())\n",
        "print(df_train[df_train['gleason_score']=='4+3']['isup_grade'].unique())"
      ],
      "metadata": {
        "colab": {
          "base_uri": "https://localhost:8080/"
        },
        "id": "W8H3JKqvq2e5",
        "outputId": "7b8f6f00-6e4a-46b4-f213-a3a76b524406"
      },
      "execution_count": 18,
      "outputs": [
        {
          "output_type": "stream",
          "name": "stdout",
          "text": [
            "[2]\n",
            "[3 2]\n",
            "time: 10.8 ms (started: 2022-12-11 19:31:45 +00:00)\n"
          ]
        }
      ]
    },
    {
      "cell_type": "markdown",
      "source": [
        "We can see there is one mislabelled information like that, drop this!!"
      ],
      "metadata": {
        "id": "sD3VWzQ7rLTj"
      }
    },
    {
      "cell_type": "code",
      "source": [
        "df_train[(df_train['isup_grade'] == 2) & (df_train['gleason_score'] == '4+3')]"
      ],
      "metadata": {
        "colab": {
          "base_uri": "https://localhost:8080/",
          "height": 98
        },
        "id": "3Xn74wexrRWl",
        "outputId": "30d4b000-5945-4412-d34e-6c8189910b63"
      },
      "execution_count": 20,
      "outputs": [
        {
          "output_type": "execute_result",
          "data": {
            "text/plain": [
              "                              image_id data_provider  isup_grade gleason_score\n",
              "7273  b0a92a74cb53899311acc30b7405e101    karolinska           2           4+3"
            ],
            "text/html": [
              "\n",
              "  <div id=\"df-979a2c63-f896-4c56-a8a1-b347bd9474e6\">\n",
              "    <div class=\"colab-df-container\">\n",
              "      <div>\n",
              "<style scoped>\n",
              "    .dataframe tbody tr th:only-of-type {\n",
              "        vertical-align: middle;\n",
              "    }\n",
              "\n",
              "    .dataframe tbody tr th {\n",
              "        vertical-align: top;\n",
              "    }\n",
              "\n",
              "    .dataframe thead th {\n",
              "        text-align: right;\n",
              "    }\n",
              "</style>\n",
              "<table border=\"1\" class=\"dataframe\">\n",
              "  <thead>\n",
              "    <tr style=\"text-align: right;\">\n",
              "      <th></th>\n",
              "      <th>image_id</th>\n",
              "      <th>data_provider</th>\n",
              "      <th>isup_grade</th>\n",
              "      <th>gleason_score</th>\n",
              "    </tr>\n",
              "  </thead>\n",
              "  <tbody>\n",
              "    <tr>\n",
              "      <th>7273</th>\n",
              "      <td>b0a92a74cb53899311acc30b7405e101</td>\n",
              "      <td>karolinska</td>\n",
              "      <td>2</td>\n",
              "      <td>4+3</td>\n",
              "    </tr>\n",
              "  </tbody>\n",
              "</table>\n",
              "</div>\n",
              "      <button class=\"colab-df-convert\" onclick=\"convertToInteractive('df-979a2c63-f896-4c56-a8a1-b347bd9474e6')\"\n",
              "              title=\"Convert this dataframe to an interactive table.\"\n",
              "              style=\"display:none;\">\n",
              "        \n",
              "  <svg xmlns=\"http://www.w3.org/2000/svg\" height=\"24px\"viewBox=\"0 0 24 24\"\n",
              "       width=\"24px\">\n",
              "    <path d=\"M0 0h24v24H0V0z\" fill=\"none\"/>\n",
              "    <path d=\"M18.56 5.44l.94 2.06.94-2.06 2.06-.94-2.06-.94-.94-2.06-.94 2.06-2.06.94zm-11 1L8.5 8.5l.94-2.06 2.06-.94-2.06-.94L8.5 2.5l-.94 2.06-2.06.94zm10 10l.94 2.06.94-2.06 2.06-.94-2.06-.94-.94-2.06-.94 2.06-2.06.94z\"/><path d=\"M17.41 7.96l-1.37-1.37c-.4-.4-.92-.59-1.43-.59-.52 0-1.04.2-1.43.59L10.3 9.45l-7.72 7.72c-.78.78-.78 2.05 0 2.83L4 21.41c.39.39.9.59 1.41.59.51 0 1.02-.2 1.41-.59l7.78-7.78 2.81-2.81c.8-.78.8-2.07 0-2.86zM5.41 20L4 18.59l7.72-7.72 1.47 1.35L5.41 20z\"/>\n",
              "  </svg>\n",
              "      </button>\n",
              "      \n",
              "  <style>\n",
              "    .colab-df-container {\n",
              "      display:flex;\n",
              "      flex-wrap:wrap;\n",
              "      gap: 12px;\n",
              "    }\n",
              "\n",
              "    .colab-df-convert {\n",
              "      background-color: #E8F0FE;\n",
              "      border: none;\n",
              "      border-radius: 50%;\n",
              "      cursor: pointer;\n",
              "      display: none;\n",
              "      fill: #1967D2;\n",
              "      height: 32px;\n",
              "      padding: 0 0 0 0;\n",
              "      width: 32px;\n",
              "    }\n",
              "\n",
              "    .colab-df-convert:hover {\n",
              "      background-color: #E2EBFA;\n",
              "      box-shadow: 0px 1px 2px rgba(60, 64, 67, 0.3), 0px 1px 3px 1px rgba(60, 64, 67, 0.15);\n",
              "      fill: #174EA6;\n",
              "    }\n",
              "\n",
              "    [theme=dark] .colab-df-convert {\n",
              "      background-color: #3B4455;\n",
              "      fill: #D2E3FC;\n",
              "    }\n",
              "\n",
              "    [theme=dark] .colab-df-convert:hover {\n",
              "      background-color: #434B5C;\n",
              "      box-shadow: 0px 1px 3px 1px rgba(0, 0, 0, 0.15);\n",
              "      filter: drop-shadow(0px 1px 2px rgba(0, 0, 0, 0.3));\n",
              "      fill: #FFFFFF;\n",
              "    }\n",
              "  </style>\n",
              "\n",
              "      <script>\n",
              "        const buttonEl =\n",
              "          document.querySelector('#df-979a2c63-f896-4c56-a8a1-b347bd9474e6 button.colab-df-convert');\n",
              "        buttonEl.style.display =\n",
              "          google.colab.kernel.accessAllowed ? 'block' : 'none';\n",
              "\n",
              "        async function convertToInteractive(key) {\n",
              "          const element = document.querySelector('#df-979a2c63-f896-4c56-a8a1-b347bd9474e6');\n",
              "          const dataTable =\n",
              "            await google.colab.kernel.invokeFunction('convertToInteractive',\n",
              "                                                     [key], {});\n",
              "          if (!dataTable) return;\n",
              "\n",
              "          const docLinkHtml = 'Like what you see? Visit the ' +\n",
              "            '<a target=\"_blank\" href=https://colab.research.google.com/notebooks/data_table.ipynb>data table notebook</a>'\n",
              "            + ' to learn more about interactive tables.';\n",
              "          element.innerHTML = '';\n",
              "          dataTable['output_type'] = 'display_data';\n",
              "          await google.colab.output.renderOutput(dataTable, element);\n",
              "          const docLink = document.createElement('div');\n",
              "          docLink.innerHTML = docLinkHtml;\n",
              "          element.appendChild(docLink);\n",
              "        }\n",
              "      </script>\n",
              "    </div>\n",
              "  </div>\n",
              "  "
            ]
          },
          "metadata": {},
          "execution_count": 20
        },
        {
          "output_type": "stream",
          "name": "stdout",
          "text": [
            "time: 14.7 ms (started: 2022-12-11 19:33:19 +00:00)\n"
          ]
        }
      ]
    },
    {
      "cell_type": "code",
      "source": [
        "df_train.drop([7273],inplace=True)"
      ],
      "metadata": {
        "colab": {
          "base_uri": "https://localhost:8080/"
        },
        "id": "r_lrLyH8rXQ9",
        "outputId": "54787dc4-5d06-48a0-9c7d-67bd52555d7b"
      },
      "execution_count": 22,
      "outputs": [
        {
          "output_type": "stream",
          "name": "stdout",
          "text": [
            "time: 4.64 ms (started: 2022-12-11 19:33:39 +00:00)\n"
          ]
        }
      ]
    },
    {
      "cell_type": "markdown",
      "source": [
        " change negative to '0+0'"
      ],
      "metadata": {
        "id": "hB650pnWrdwW"
      }
    },
    {
      "cell_type": "code",
      "source": [
        "df_train['gleason_score'] = df_train['gleason_score'].apply(lambda x: \"0+0\" if x==\"negative\" else x)"
      ],
      "metadata": {
        "colab": {
          "base_uri": "https://localhost:8080/"
        },
        "id": "e5Ll6s0vrdE2",
        "outputId": "e5354f3f-8ab1-45d9-ccf6-c80e5510024d"
      },
      "execution_count": 23,
      "outputs": [
        {
          "output_type": "stream",
          "name": "stdout",
          "text": [
            "time: 7.27 ms (started: 2022-12-11 19:34:26 +00:00)\n"
          ]
        }
      ]
    },
    {
      "cell_type": "code",
      "source": [
        "print(\"shape : \", test.shape)\n",
        "print(\"unique ids : \", len(test.image_id.unique()))\n",
        "print(\"unique data provider : \", len(test.data_provider.unique()))"
      ],
      "metadata": {
        "colab": {
          "base_uri": "https://localhost:8080/"
        },
        "id": "vmnmjty3rp72",
        "outputId": "f71fed07-fb9d-4c45-f5c6-e62a93e37506"
      },
      "execution_count": 83,
      "outputs": [
        {
          "output_type": "stream",
          "name": "stdout",
          "text": [
            "shape :  (3, 2)\n",
            "unique ids :  3\n",
            "unique data provider :  2\n",
            "time: 1.4 ms (started: 2022-12-11 20:24:27 +00:00)\n"
          ]
        }
      ]
    },
    {
      "cell_type": "code",
      "source": [
        "valid_images = tf.io.gfile.glob(data_dir + '/.png')\n",
        "img_ids = df_train['image_id']"
      ],
      "metadata": {
        "colab": {
          "base_uri": "https://localhost:8080/"
        },
        "id": "94AnvYjTyxqo",
        "outputId": "e63f11ae-ba81-47cd-94d2-554d6b5d2d86"
      },
      "execution_count": 108,
      "outputs": [
        {
          "output_type": "stream",
          "name": "stdout",
          "text": [
            "time: 3.41 ms (started: 2022-12-11 20:29:58 +00:00)\n"
          ]
        }
      ]
    },
    {
      "cell_type": "code",
      "source": [
        "\n",
        "\n",
        "df_train = df_train[df_train['image_id'] != img_id]\n",
        "        \n",
        "radboud_csv = df_train[df_train['data_provider'] == 'radboud']\n",
        "karolinska_csv = df_train[df_train['data_provider'] != 'radboud']"
      ],
      "metadata": {
        "colab": {
          "base_uri": "https://localhost:8080/"
        },
        "id": "khypCoa9y5pc",
        "outputId": "0884d3d0-ce8b-4442-ff26-56b74ebdb634"
      },
      "execution_count": 158,
      "outputs": [
        {
          "output_type": "stream",
          "name": "stdout",
          "text": [
            "time: 11.5 ms (started: 2022-12-11 20:42:36 +00:00)\n"
          ]
        }
      ]
    },
    {
      "cell_type": "code",
      "source": [
        "display(df_train.head())"
      ],
      "metadata": {
        "colab": {
          "base_uri": "https://localhost:8080/",
          "height": 224
        },
        "id": "uIgAYHQR0h1C",
        "outputId": "5cec66b3-253c-4daf-9fcd-45a26e812c0d"
      },
      "execution_count": 110,
      "outputs": [
        {
          "output_type": "display_data",
          "data": {
            "text/plain": [
              "                           image_id data_provider  isup_grade gleason_score\n",
              "0  0005f7aaab2800f6170c399693a96917    karolinska           0           0+0\n",
              "1  000920ad0b612851f8e01bcc880d9b3d    karolinska           0           0+0\n",
              "2  0018ae58b01bdadc8e347995b69f99aa       radboud           4           4+4\n",
              "3  001c62abd11fa4b57bf7a6c603a11bb9    karolinska           4           4+4\n",
              "4  001d865e65ef5d2579c190a0e0350d8f    karolinska           0           0+0"
            ],
            "text/html": [
              "\n",
              "  <div id=\"df-25136b82-721f-4d58-aa65-e62ed26af9f8\">\n",
              "    <div class=\"colab-df-container\">\n",
              "      <div>\n",
              "<style scoped>\n",
              "    .dataframe tbody tr th:only-of-type {\n",
              "        vertical-align: middle;\n",
              "    }\n",
              "\n",
              "    .dataframe tbody tr th {\n",
              "        vertical-align: top;\n",
              "    }\n",
              "\n",
              "    .dataframe thead th {\n",
              "        text-align: right;\n",
              "    }\n",
              "</style>\n",
              "<table border=\"1\" class=\"dataframe\">\n",
              "  <thead>\n",
              "    <tr style=\"text-align: right;\">\n",
              "      <th></th>\n",
              "      <th>image_id</th>\n",
              "      <th>data_provider</th>\n",
              "      <th>isup_grade</th>\n",
              "      <th>gleason_score</th>\n",
              "    </tr>\n",
              "  </thead>\n",
              "  <tbody>\n",
              "    <tr>\n",
              "      <th>0</th>\n",
              "      <td>0005f7aaab2800f6170c399693a96917</td>\n",
              "      <td>karolinska</td>\n",
              "      <td>0</td>\n",
              "      <td>0+0</td>\n",
              "    </tr>\n",
              "    <tr>\n",
              "      <th>1</th>\n",
              "      <td>000920ad0b612851f8e01bcc880d9b3d</td>\n",
              "      <td>karolinska</td>\n",
              "      <td>0</td>\n",
              "      <td>0+0</td>\n",
              "    </tr>\n",
              "    <tr>\n",
              "      <th>2</th>\n",
              "      <td>0018ae58b01bdadc8e347995b69f99aa</td>\n",
              "      <td>radboud</td>\n",
              "      <td>4</td>\n",
              "      <td>4+4</td>\n",
              "    </tr>\n",
              "    <tr>\n",
              "      <th>3</th>\n",
              "      <td>001c62abd11fa4b57bf7a6c603a11bb9</td>\n",
              "      <td>karolinska</td>\n",
              "      <td>4</td>\n",
              "      <td>4+4</td>\n",
              "    </tr>\n",
              "    <tr>\n",
              "      <th>4</th>\n",
              "      <td>001d865e65ef5d2579c190a0e0350d8f</td>\n",
              "      <td>karolinska</td>\n",
              "      <td>0</td>\n",
              "      <td>0+0</td>\n",
              "    </tr>\n",
              "  </tbody>\n",
              "</table>\n",
              "</div>\n",
              "      <button class=\"colab-df-convert\" onclick=\"convertToInteractive('df-25136b82-721f-4d58-aa65-e62ed26af9f8')\"\n",
              "              title=\"Convert this dataframe to an interactive table.\"\n",
              "              style=\"display:none;\">\n",
              "        \n",
              "  <svg xmlns=\"http://www.w3.org/2000/svg\" height=\"24px\"viewBox=\"0 0 24 24\"\n",
              "       width=\"24px\">\n",
              "    <path d=\"M0 0h24v24H0V0z\" fill=\"none\"/>\n",
              "    <path d=\"M18.56 5.44l.94 2.06.94-2.06 2.06-.94-2.06-.94-.94-2.06-.94 2.06-2.06.94zm-11 1L8.5 8.5l.94-2.06 2.06-.94-2.06-.94L8.5 2.5l-.94 2.06-2.06.94zm10 10l.94 2.06.94-2.06 2.06-.94-2.06-.94-.94-2.06-.94 2.06-2.06.94z\"/><path d=\"M17.41 7.96l-1.37-1.37c-.4-.4-.92-.59-1.43-.59-.52 0-1.04.2-1.43.59L10.3 9.45l-7.72 7.72c-.78.78-.78 2.05 0 2.83L4 21.41c.39.39.9.59 1.41.59.51 0 1.02-.2 1.41-.59l7.78-7.78 2.81-2.81c.8-.78.8-2.07 0-2.86zM5.41 20L4 18.59l7.72-7.72 1.47 1.35L5.41 20z\"/>\n",
              "  </svg>\n",
              "      </button>\n",
              "      \n",
              "  <style>\n",
              "    .colab-df-container {\n",
              "      display:flex;\n",
              "      flex-wrap:wrap;\n",
              "      gap: 12px;\n",
              "    }\n",
              "\n",
              "    .colab-df-convert {\n",
              "      background-color: #E8F0FE;\n",
              "      border: none;\n",
              "      border-radius: 50%;\n",
              "      cursor: pointer;\n",
              "      display: none;\n",
              "      fill: #1967D2;\n",
              "      height: 32px;\n",
              "      padding: 0 0 0 0;\n",
              "      width: 32px;\n",
              "    }\n",
              "\n",
              "    .colab-df-convert:hover {\n",
              "      background-color: #E2EBFA;\n",
              "      box-shadow: 0px 1px 2px rgba(60, 64, 67, 0.3), 0px 1px 3px 1px rgba(60, 64, 67, 0.15);\n",
              "      fill: #174EA6;\n",
              "    }\n",
              "\n",
              "    [theme=dark] .colab-df-convert {\n",
              "      background-color: #3B4455;\n",
              "      fill: #D2E3FC;\n",
              "    }\n",
              "\n",
              "    [theme=dark] .colab-df-convert:hover {\n",
              "      background-color: #434B5C;\n",
              "      box-shadow: 0px 1px 3px 1px rgba(0, 0, 0, 0.15);\n",
              "      filter: drop-shadow(0px 1px 2px rgba(0, 0, 0, 0.3));\n",
              "      fill: #FFFFFF;\n",
              "    }\n",
              "  </style>\n",
              "\n",
              "      <script>\n",
              "        const buttonEl =\n",
              "          document.querySelector('#df-25136b82-721f-4d58-aa65-e62ed26af9f8 button.colab-df-convert');\n",
              "        buttonEl.style.display =\n",
              "          google.colab.kernel.accessAllowed ? 'block' : 'none';\n",
              "\n",
              "        async function convertToInteractive(key) {\n",
              "          const element = document.querySelector('#df-25136b82-721f-4d58-aa65-e62ed26af9f8');\n",
              "          const dataTable =\n",
              "            await google.colab.kernel.invokeFunction('convertToInteractive',\n",
              "                                                     [key], {});\n",
              "          if (!dataTable) return;\n",
              "\n",
              "          const docLinkHtml = 'Like what you see? Visit the ' +\n",
              "            '<a target=\"_blank\" href=https://colab.research.google.com/notebooks/data_table.ipynb>data table notebook</a>'\n",
              "            + ' to learn more about interactive tables.';\n",
              "          element.innerHTML = '';\n",
              "          dataTable['output_type'] = 'display_data';\n",
              "          await google.colab.output.renderOutput(dataTable, element);\n",
              "          const docLink = document.createElement('div');\n",
              "          docLink.innerHTML = docLinkHtml;\n",
              "          element.appendChild(docLink);\n",
              "        }\n",
              "      </script>\n",
              "    </div>\n",
              "  </div>\n",
              "  "
            ]
          },
          "metadata": {}
        },
        {
          "output_type": "stream",
          "name": "stdout",
          "text": [
            "time: 24.9 ms (started: 2022-12-11 20:30:01 +00:00)\n"
          ]
        }
      ]
    },
    {
      "cell_type": "code",
      "source": [
        "r_train, r_test = train_test_split(\n",
        "    radboud_csv,\n",
        "    test_size=0.2, random_state=SEED\n",
        ")\n",
        "\n",
        "k_train, k_test = train_test_split(\n",
        "    karolinska_csv,\n",
        "    test_size=0.2, random_state=SEED\n",
        ")"
      ],
      "metadata": {
        "colab": {
          "base_uri": "https://localhost:8080/"
        },
        "id": "ajJl6xr0zUs6",
        "outputId": "4e1878a8-695c-4475-e933-9ca687d4f3c1"
      },
      "execution_count": 159,
      "outputs": [
        {
          "output_type": "stream",
          "name": "stdout",
          "text": [
            "time: 8.73 ms (started: 2022-12-11 20:42:38 +00:00)\n"
          ]
        }
      ]
    },
    {
      "cell_type": "code",
      "source": [
        "df_train = pd.concat([r_train, k_train])\n",
        "valid_df = pd.concat([r_test, k_test])\n",
        "\n",
        "print(df_train.shape)\n",
        "print(valid_df.shape)\n"
      ],
      "metadata": {
        "colab": {
          "base_uri": "https://localhost:8080/"
        },
        "id": "KjFsdiGL0nsU",
        "outputId": "21007e3b-30f0-4048-f02a-b0bd92d4a8d4"
      },
      "execution_count": 160,
      "outputs": [
        {
          "output_type": "stream",
          "name": "stdout",
          "text": [
            "(8491, 4)\n",
            "(2124, 4)\n",
            "time: 7.35 ms (started: 2022-12-11 20:42:41 +00:00)\n"
          ]
        }
      ]
    },
    {
      "cell_type": "markdown",
      "source": [
        "# PARAMETERS"
      ],
      "metadata": {
        "id": "rXruDYE5obSd"
      }
    },
    {
      "cell_type": "code",
      "source": [
        "#replaceable\n",
        "IMG_DIM = (256, 256)\n",
        "CLASSES_NUM = 6\n",
        "BATCH_SIZE = 32\n",
        "EPOCHS = 100\n",
        "N=12\n",
        "\n",
        "LEARNING_RATE = 1e-4\n",
        "FOLDED_NUM_TRAIN_IMAGES = df_train.shape[0]\n",
        "FOLDED_NUM_VALID_IMAGES = valid_df.shape[0]\n",
        "STEPS_PER_EPOCH = FOLDED_NUM_TRAIN_IMAGES // BATCH_SIZE\n",
        "VALIDATION_STEPS = FOLDED_NUM_VALID_IMAGES // BATCH_SIZE\n"
      ],
      "metadata": {
        "colab": {
          "base_uri": "https://localhost:8080/"
        },
        "id": "zvq7oIkfofjh",
        "outputId": "895d03ac-9d21-4aec-d7c0-eca7208ab9af"
      },
      "execution_count": 161,
      "outputs": [
        {
          "output_type": "stream",
          "name": "stdout",
          "text": [
            "time: 1.77 ms (started: 2022-12-11 20:42:46 +00:00)\n"
          ]
        }
      ]
    },
    {
      "cell_type": "code",
      "source": [
        "class DataGenerator(tf.keras.utils.Sequence):\n",
        "    \n",
        "    def __init__(self,\n",
        "                 image_shape,\n",
        "                 batch_size, \n",
        "                 df,\n",
        "                 img_dir,\n",
        "                 mask_dir,\n",
        "                 is_training=True\n",
        "                 ):\n",
        "        \n",
        "        self.image_shape = image_shape\n",
        "        self.batch_size = batch_size\n",
        "        self.df = df\n",
        "        self.img_dir = img_dir\n",
        "        self.mask_dir = mask_dir\n",
        "        self.is_training = is_training\n",
        "        self.indices = range(df.shape[0])\n",
        "        \n",
        "    def __len__(self):\n",
        "        return self.df.shape[0] // self.batch_size\n",
        "    \n",
        "    def on_epoch_start(self):\n",
        "        if self.is_training:\n",
        "            np.random.shuffle(self.indices)\n",
        "    \n",
        "    def __getitem__(self, index):\n",
        "        batch_indices = self.indices[index * self.batch_size : (index+1) * self.batch_size]\n",
        "        image_ids = self.df['image_id'].iloc[batch_indices].values\n",
        "        batch_images = [self.__getimages__(image_id) for image_id in image_ids]\n",
        "        batch_labels = [self.df[self.df['image_id'] == image_id]['isup_grade'].values[0] for image_id in image_ids]\n",
        "        batch_labels = tf.one_hot(batch_labels, CLASSES_NUM)\n",
        "        \n",
        "        return np.squeeze(np.stack(batch_images).reshape(-1, 1536, 128, 3)), np.stack(batch_labels)\n",
        "        \n",
        "    def __getimages__(self, image_id):\n",
        "        fnames = [image_id+'.png' for i in range(N)]\n",
        "        images = []\n",
        "        for fn in fnames:\n",
        "            img = np.array(PIL.Image.open(os.path.join(self.img_dir, fn)).convert('RGB'))[:, :, ::-1]\n",
        "            images.append(img)\n",
        "        result = np.stack(images).reshape(1,256, 256,3) / 255.0\n",
        "        return result"
      ],
      "metadata": {
        "colab": {
          "base_uri": "https://localhost:8080/"
        },
        "id": "u-sPrO-g1qIQ",
        "outputId": "d702ae2a-4746-429f-a9c6-3e91c0d7e476"
      },
      "execution_count": 217,
      "outputs": [
        {
          "output_type": "stream",
          "name": "stdout",
          "text": [
            "time: 6.74 ms (started: 2022-12-11 20:54:27 +00:00)\n"
          ]
        }
      ]
    },
    {
      "cell_type": "code",
      "source": [
        "train_generator = DataGenerator(image_shape=IMG_DIM,\n",
        "                                batch_size=BATCH_SIZE,\n",
        "                                df=df_train,\n",
        "                                img_dir=data_dir,\n",
        "                                mask_dir=mask_dir)\n",
        "\n",
        "valid_generator = DataGenerator(image_shape=IMG_DIM,\n",
        "                                batch_size=BATCH_SIZE,\n",
        "                                df=valid_df,\n",
        "                                img_dir=df_train,\n",
        "                                mask_dir=mask_dir)"
      ],
      "metadata": {
        "colab": {
          "base_uri": "https://localhost:8080/"
        },
        "id": "bY8Fiozs1zpm",
        "outputId": "66df505e-2e85-4489-adb7-c3cb0e600b51"
      },
      "execution_count": 218,
      "outputs": [
        {
          "output_type": "stream",
          "name": "stdout",
          "text": [
            "time: 1.17 ms (started: 2022-12-11 20:54:28 +00:00)\n"
          ]
        }
      ]
    },
    {
      "cell_type": "markdown",
      "source": [
        "# Visualize our input data"
      ],
      "metadata": {
        "id": "w2lE1e1D2Jqa"
      }
    },
    {
      "cell_type": "code",
      "source": [
        "def show_tiles(image_batch, label_batch):\n",
        "    plt.figure(figsize=(128,20))\n",
        "    for n in range(10):\n",
        "        ax = plt.subplot(1,10,n+1)\n",
        "        plt.imshow(image_batch[n])\n",
        "        decoded = np.argmax(label_batch[n])\n",
        "        plt.title(decoded)\n",
        "        plt.axis(\"off\")"
      ],
      "metadata": {
        "colab": {
          "base_uri": "https://localhost:8080/"
        },
        "id": "-_fkYvmx2MKH",
        "outputId": "637f77aa-9393-450e-f486-c24ff2e3336d"
      },
      "execution_count": 219,
      "outputs": [
        {
          "output_type": "stream",
          "name": "stdout",
          "text": [
            "time: 1.64 ms (started: 2022-12-11 20:54:29 +00:00)\n"
          ]
        }
      ]
    },
    {
      "cell_type": "code",
      "source": [
        "image_batch, label_batch = next(iter(train_generator))"
      ],
      "metadata": {
        "id": "p4i4sH2P2QEk"
      },
      "execution_count": null,
      "outputs": []
    },
    {
      "cell_type": "code",
      "source": [
        "show_tiles(image_batch, label_batch)"
      ],
      "metadata": {
        "id": "UMY0qrW85nxk"
      },
      "execution_count": null,
      "outputs": []
    },
    {
      "cell_type": "markdown",
      "source": [
        "# AUGMENTATION"
      ],
      "metadata": {
        "id": "lTZQD2Es9jwa"
      }
    },
    {
      "cell_type": "code",
      "source": [
        "def make_model():\n",
        "    data_augmentation = tf.keras.Sequential([\n",
        "        tf.keras.layers.experimental.preprocessing.RandomContrast(0.15, seed=SEED),\n",
        "        tf.keras.layers.experimental.preprocessing.RandomFlip(\"horizontal\", seed=SEED),\n",
        "        tf.keras.layers.experimental.preprocessing.RandomFlip(\"vertical\", seed=SEED),\n",
        "        tf.keras.layers.experimental.preprocessing.RandomTranslation(0.1, 0.1, seed=SEED)\n",
        "    ])\n",
        "    \n",
        "    base_model = tf.keras.applications.VGG16(input_shape=(*IMG_DIM, 3),\n",
        "                                             include_top=False,\n",
        "                                             weights='imagenet')\n",
        "    \n",
        "    base_model.trainable = True\n",
        "    \n",
        "    model = tf.keras.Sequential([\n",
        "        data_augmentation,\n",
        "        \n",
        "        base_model,\n",
        "        \n",
        "        tf.keras.layers.GlobalAveragePooling2D(),\n",
        "        tf.keras.layers.Dense(16, activation='relu'),\n",
        "        tf.keras.layers.BatchNormalization(),\n",
        "        tf.keras.layers.Dense(CLASSES_NUM, activation='softmax'),\n",
        "    ])\n",
        "    \n",
        "    model.compile(optimizer=tf.keras.optimizers.RMSprop(),\n",
        "                  loss='categorical_crossentropy',\n",
        "                  metrics=tf.keras.metrics.AUC(name='auc'))\n",
        "    \n",
        "    return model"
      ],
      "metadata": {
        "colab": {
          "base_uri": "https://localhost:8080/"
        },
        "id": "ZTAUgRC39oFh",
        "outputId": "12200034-57fd-4024-dfce-a945fda26119"
      },
      "execution_count": 213,
      "outputs": [
        {
          "output_type": "stream",
          "name": "stdout",
          "text": [
            "time: 5.48 ms (started: 2022-12-11 20:53:23 +00:00)\n"
          ]
        }
      ]
    },
    {
      "cell_type": "markdown",
      "source": [
        "BUİLD MODEL 💯"
      ],
      "metadata": {
        "id": "rUWP8hwU9u6_"
      }
    },
    {
      "cell_type": "code",
      "source": [
        "with strategy.scope():\n",
        "    model = make_model()"
      ],
      "metadata": {
        "colab": {
          "base_uri": "https://localhost:8080/"
        },
        "id": "qe1FfrGV9ssS",
        "outputId": "e1dea0ec-bb41-4c70-8e40-7081b90cc2dd"
      },
      "execution_count": 214,
      "outputs": [
        {
          "output_type": "stream",
          "name": "stdout",
          "text": [
            "Downloading data from https://storage.googleapis.com/tensorflow/keras-applications/vgg16/vgg16_weights_tf_dim_ordering_tf_kernels_notop.h5\n",
            "58889256/58889256 [==============================] - 3s 0us/step\n",
            "time: 4.91 s (started: 2022-12-11 20:53:31 +00:00)\n"
          ]
        }
      ]
    },
    {
      "cell_type": "code",
      "source": [
        "def exponential_decay(lr0, s):\n",
        "    def exponential_decay_fn(epoch):\n",
        "        return lr0 * 0.1 **(epoch / s)\n",
        "    return exponential_decay_fn\n",
        "\n",
        "exponential_decay_fn = exponential_decay(0.01, 20)\n",
        "\n",
        "lr_scheduler = tf.keras.callbacks.LearningRateScheduler(exponential_decay_fn)\n",
        "\n",
        "checkpoint_cb = tf.keras.callbacks.ModelCheckpoint(\"panda_model.h5\",\n",
        "                                                    save_best_only=True)\n",
        "\n",
        "early_stopping_cb = tf.keras.callbacks.EarlyStopping(patience=10,\n",
        "                                                     restore_best_weights=True)"
      ],
      "metadata": {
        "colab": {
          "base_uri": "https://localhost:8080/"
        },
        "id": "hVmqoVMv9t8A",
        "outputId": "8eb1f3c4-1548-456b-ff29-7291a7fa1f15"
      },
      "execution_count": 215,
      "outputs": [
        {
          "output_type": "stream",
          "name": "stdout",
          "text": [
            "time: 6.44 ms (started: 2022-12-11 20:54:06 +00:00)\n"
          ]
        }
      ]
    },
    {
      "cell_type": "code",
      "source": [
        "history = model.fit(\n",
        "    train_generator, epochs=EPOCHS,\n",
        "    steps_per_epoch=STEPS_PER_EPOCH,\n",
        "    validation_data=valid_generator,\n",
        "    validation_steps=VALIDATION_STEPS,\n",
        "    callbacks=[checkpoint_cb, early_stopping_cb, lr_scheduler]\n",
        ")"
      ],
      "metadata": {
        "id": "kbWMpO2C93kj"
      },
      "execution_count": null,
      "outputs": []
    }
  ]
}