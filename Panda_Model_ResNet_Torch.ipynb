{
  "nbformat": 4,
  "nbformat_minor": 0,
  "metadata": {
    "colab": {
      "provenance": [],
      "mount_file_id": "1lZo3J30D0YKoZHKLJdp-VAJBxlRODq_x",
      "authorship_tag": "ABX9TyMJIzIFfgORkAQdFCGGH80Y"
    },
    "kernelspec": {
      "name": "python3",
      "display_name": "Python 3"
    },
    "language_info": {
      "name": "python"
    },
    "gpuClass": "standard",
    "widgets": {
      "application/vnd.jupyter.widget-state+json": {
        "a9019bcf2c9c473fa061e28f89361870": {
          "model_module": "@jupyter-widgets/controls",
          "model_name": "HBoxModel",
          "model_module_version": "1.5.0",
          "state": {
            "_dom_classes": [],
            "_model_module": "@jupyter-widgets/controls",
            "_model_module_version": "1.5.0",
            "_model_name": "HBoxModel",
            "_view_count": null,
            "_view_module": "@jupyter-widgets/controls",
            "_view_module_version": "1.5.0",
            "_view_name": "HBoxView",
            "box_style": "",
            "children": [
              "IPY_MODEL_e9f1788a04704322bbce268738eeef75",
              "IPY_MODEL_4f7ce2cb368b431ba94e641943331627",
              "IPY_MODEL_f87e7a7dc3424a28baafb4f79bcd5871"
            ],
            "layout": "IPY_MODEL_b7fac3bb426c4db0b4eff254029d9a3c"
          }
        },
        "e9f1788a04704322bbce268738eeef75": {
          "model_module": "@jupyter-widgets/controls",
          "model_name": "HTMLModel",
          "model_module_version": "1.5.0",
          "state": {
            "_dom_classes": [],
            "_model_module": "@jupyter-widgets/controls",
            "_model_module_version": "1.5.0",
            "_model_name": "HTMLModel",
            "_view_count": null,
            "_view_module": "@jupyter-widgets/controls",
            "_view_module_version": "1.5.0",
            "_view_name": "HTMLView",
            "description": "",
            "description_tooltip": null,
            "layout": "IPY_MODEL_aa8c0b113c034ce788b9df893c91b887",
            "placeholder": "​",
            "style": "IPY_MODEL_ac97867ee95549b4a675c57580fc3c50",
            "value": "100%"
          }
        },
        "4f7ce2cb368b431ba94e641943331627": {
          "model_module": "@jupyter-widgets/controls",
          "model_name": "FloatProgressModel",
          "model_module_version": "1.5.0",
          "state": {
            "_dom_classes": [],
            "_model_module": "@jupyter-widgets/controls",
            "_model_module_version": "1.5.0",
            "_model_name": "FloatProgressModel",
            "_view_count": null,
            "_view_module": "@jupyter-widgets/controls",
            "_view_module_version": "1.5.0",
            "_view_name": "ProgressView",
            "bar_style": "success",
            "description": "",
            "description_tooltip": null,
            "layout": "IPY_MODEL_6fa09f95fdd94725a3047ed90e8fd72f",
            "max": 46830571,
            "min": 0,
            "orientation": "horizontal",
            "style": "IPY_MODEL_af3222b9ccff4778bb0665d5becf9ce1",
            "value": 46830571
          }
        },
        "f87e7a7dc3424a28baafb4f79bcd5871": {
          "model_module": "@jupyter-widgets/controls",
          "model_name": "HTMLModel",
          "model_module_version": "1.5.0",
          "state": {
            "_dom_classes": [],
            "_model_module": "@jupyter-widgets/controls",
            "_model_module_version": "1.5.0",
            "_model_name": "HTMLModel",
            "_view_count": null,
            "_view_module": "@jupyter-widgets/controls",
            "_view_module_version": "1.5.0",
            "_view_name": "HTMLView",
            "description": "",
            "description_tooltip": null,
            "layout": "IPY_MODEL_f8edc8329a544b2486627d7007504d83",
            "placeholder": "​",
            "style": "IPY_MODEL_15672075657e482987b1d8c8d7480cf1",
            "value": " 44.7M/44.7M [00:00&lt;00:00, 78.3MB/s]"
          }
        },
        "b7fac3bb426c4db0b4eff254029d9a3c": {
          "model_module": "@jupyter-widgets/base",
          "model_name": "LayoutModel",
          "model_module_version": "1.2.0",
          "state": {
            "_model_module": "@jupyter-widgets/base",
            "_model_module_version": "1.2.0",
            "_model_name": "LayoutModel",
            "_view_count": null,
            "_view_module": "@jupyter-widgets/base",
            "_view_module_version": "1.2.0",
            "_view_name": "LayoutView",
            "align_content": null,
            "align_items": null,
            "align_self": null,
            "border": null,
            "bottom": null,
            "display": null,
            "flex": null,
            "flex_flow": null,
            "grid_area": null,
            "grid_auto_columns": null,
            "grid_auto_flow": null,
            "grid_auto_rows": null,
            "grid_column": null,
            "grid_gap": null,
            "grid_row": null,
            "grid_template_areas": null,
            "grid_template_columns": null,
            "grid_template_rows": null,
            "height": null,
            "justify_content": null,
            "justify_items": null,
            "left": null,
            "margin": null,
            "max_height": null,
            "max_width": null,
            "min_height": null,
            "min_width": null,
            "object_fit": null,
            "object_position": null,
            "order": null,
            "overflow": null,
            "overflow_x": null,
            "overflow_y": null,
            "padding": null,
            "right": null,
            "top": null,
            "visibility": null,
            "width": null
          }
        },
        "aa8c0b113c034ce788b9df893c91b887": {
          "model_module": "@jupyter-widgets/base",
          "model_name": "LayoutModel",
          "model_module_version": "1.2.0",
          "state": {
            "_model_module": "@jupyter-widgets/base",
            "_model_module_version": "1.2.0",
            "_model_name": "LayoutModel",
            "_view_count": null,
            "_view_module": "@jupyter-widgets/base",
            "_view_module_version": "1.2.0",
            "_view_name": "LayoutView",
            "align_content": null,
            "align_items": null,
            "align_self": null,
            "border": null,
            "bottom": null,
            "display": null,
            "flex": null,
            "flex_flow": null,
            "grid_area": null,
            "grid_auto_columns": null,
            "grid_auto_flow": null,
            "grid_auto_rows": null,
            "grid_column": null,
            "grid_gap": null,
            "grid_row": null,
            "grid_template_areas": null,
            "grid_template_columns": null,
            "grid_template_rows": null,
            "height": null,
            "justify_content": null,
            "justify_items": null,
            "left": null,
            "margin": null,
            "max_height": null,
            "max_width": null,
            "min_height": null,
            "min_width": null,
            "object_fit": null,
            "object_position": null,
            "order": null,
            "overflow": null,
            "overflow_x": null,
            "overflow_y": null,
            "padding": null,
            "right": null,
            "top": null,
            "visibility": null,
            "width": null
          }
        },
        "ac97867ee95549b4a675c57580fc3c50": {
          "model_module": "@jupyter-widgets/controls",
          "model_name": "DescriptionStyleModel",
          "model_module_version": "1.5.0",
          "state": {
            "_model_module": "@jupyter-widgets/controls",
            "_model_module_version": "1.5.0",
            "_model_name": "DescriptionStyleModel",
            "_view_count": null,
            "_view_module": "@jupyter-widgets/base",
            "_view_module_version": "1.2.0",
            "_view_name": "StyleView",
            "description_width": ""
          }
        },
        "6fa09f95fdd94725a3047ed90e8fd72f": {
          "model_module": "@jupyter-widgets/base",
          "model_name": "LayoutModel",
          "model_module_version": "1.2.0",
          "state": {
            "_model_module": "@jupyter-widgets/base",
            "_model_module_version": "1.2.0",
            "_model_name": "LayoutModel",
            "_view_count": null,
            "_view_module": "@jupyter-widgets/base",
            "_view_module_version": "1.2.0",
            "_view_name": "LayoutView",
            "align_content": null,
            "align_items": null,
            "align_self": null,
            "border": null,
            "bottom": null,
            "display": null,
            "flex": null,
            "flex_flow": null,
            "grid_area": null,
            "grid_auto_columns": null,
            "grid_auto_flow": null,
            "grid_auto_rows": null,
            "grid_column": null,
            "grid_gap": null,
            "grid_row": null,
            "grid_template_areas": null,
            "grid_template_columns": null,
            "grid_template_rows": null,
            "height": null,
            "justify_content": null,
            "justify_items": null,
            "left": null,
            "margin": null,
            "max_height": null,
            "max_width": null,
            "min_height": null,
            "min_width": null,
            "object_fit": null,
            "object_position": null,
            "order": null,
            "overflow": null,
            "overflow_x": null,
            "overflow_y": null,
            "padding": null,
            "right": null,
            "top": null,
            "visibility": null,
            "width": null
          }
        },
        "af3222b9ccff4778bb0665d5becf9ce1": {
          "model_module": "@jupyter-widgets/controls",
          "model_name": "ProgressStyleModel",
          "model_module_version": "1.5.0",
          "state": {
            "_model_module": "@jupyter-widgets/controls",
            "_model_module_version": "1.5.0",
            "_model_name": "ProgressStyleModel",
            "_view_count": null,
            "_view_module": "@jupyter-widgets/base",
            "_view_module_version": "1.2.0",
            "_view_name": "StyleView",
            "bar_color": null,
            "description_width": ""
          }
        },
        "f8edc8329a544b2486627d7007504d83": {
          "model_module": "@jupyter-widgets/base",
          "model_name": "LayoutModel",
          "model_module_version": "1.2.0",
          "state": {
            "_model_module": "@jupyter-widgets/base",
            "_model_module_version": "1.2.0",
            "_model_name": "LayoutModel",
            "_view_count": null,
            "_view_module": "@jupyter-widgets/base",
            "_view_module_version": "1.2.0",
            "_view_name": "LayoutView",
            "align_content": null,
            "align_items": null,
            "align_self": null,
            "border": null,
            "bottom": null,
            "display": null,
            "flex": null,
            "flex_flow": null,
            "grid_area": null,
            "grid_auto_columns": null,
            "grid_auto_flow": null,
            "grid_auto_rows": null,
            "grid_column": null,
            "grid_gap": null,
            "grid_row": null,
            "grid_template_areas": null,
            "grid_template_columns": null,
            "grid_template_rows": null,
            "height": null,
            "justify_content": null,
            "justify_items": null,
            "left": null,
            "margin": null,
            "max_height": null,
            "max_width": null,
            "min_height": null,
            "min_width": null,
            "object_fit": null,
            "object_position": null,
            "order": null,
            "overflow": null,
            "overflow_x": null,
            "overflow_y": null,
            "padding": null,
            "right": null,
            "top": null,
            "visibility": null,
            "width": null
          }
        },
        "15672075657e482987b1d8c8d7480cf1": {
          "model_module": "@jupyter-widgets/controls",
          "model_name": "DescriptionStyleModel",
          "model_module_version": "1.5.0",
          "state": {
            "_model_module": "@jupyter-widgets/controls",
            "_model_module_version": "1.5.0",
            "_model_name": "DescriptionStyleModel",
            "_view_count": null,
            "_view_module": "@jupyter-widgets/base",
            "_view_module_version": "1.2.0",
            "_view_name": "StyleView",
            "description_width": ""
          }
        },
        "f8401485d58643e9ac4af73d0f8ef095": {
          "model_module": "@jupyter-widgets/controls",
          "model_name": "HBoxModel",
          "model_module_version": "1.5.0",
          "state": {
            "_dom_classes": [],
            "_model_module": "@jupyter-widgets/controls",
            "_model_module_version": "1.5.0",
            "_model_name": "HBoxModel",
            "_view_count": null,
            "_view_module": "@jupyter-widgets/controls",
            "_view_module_version": "1.5.0",
            "_view_name": "HBoxView",
            "box_style": "",
            "children": [
              "IPY_MODEL_33945479017447718c76623ccba69405",
              "IPY_MODEL_cf7b136a951849028167d985c8fbb914",
              "IPY_MODEL_084a877ee8e848d58105e370c8724359"
            ],
            "layout": "IPY_MODEL_f7642b5f2c01448b892bb9bef848f7fc"
          }
        },
        "33945479017447718c76623ccba69405": {
          "model_module": "@jupyter-widgets/controls",
          "model_name": "HTMLModel",
          "model_module_version": "1.5.0",
          "state": {
            "_dom_classes": [],
            "_model_module": "@jupyter-widgets/controls",
            "_model_module_version": "1.5.0",
            "_model_name": "HTMLModel",
            "_view_count": null,
            "_view_module": "@jupyter-widgets/controls",
            "_view_module_version": "1.5.0",
            "_view_name": "HTMLView",
            "description": "",
            "description_tooltip": null,
            "layout": "IPY_MODEL_e859750f82a84784817dd86662928a06",
            "placeholder": "​",
            "style": "IPY_MODEL_40e87c8246174800b762de1aac443b75",
            "value": "100%"
          }
        },
        "cf7b136a951849028167d985c8fbb914": {
          "model_module": "@jupyter-widgets/controls",
          "model_name": "FloatProgressModel",
          "model_module_version": "1.5.0",
          "state": {
            "_dom_classes": [],
            "_model_module": "@jupyter-widgets/controls",
            "_model_module_version": "1.5.0",
            "_model_name": "FloatProgressModel",
            "_view_count": null,
            "_view_module": "@jupyter-widgets/controls",
            "_view_module_version": "1.5.0",
            "_view_name": "ProgressView",
            "bar_style": "success",
            "description": "",
            "description_tooltip": null,
            "layout": "IPY_MODEL_617417b8eb144583be2e31bbed1dbc16",
            "max": 8,
            "min": 0,
            "orientation": "horizontal",
            "style": "IPY_MODEL_e49e862a2c5b4b599363214d17f6298d",
            "value": 8
          }
        },
        "084a877ee8e848d58105e370c8724359": {
          "model_module": "@jupyter-widgets/controls",
          "model_name": "HTMLModel",
          "model_module_version": "1.5.0",
          "state": {
            "_dom_classes": [],
            "_model_module": "@jupyter-widgets/controls",
            "_model_module_version": "1.5.0",
            "_model_name": "HTMLModel",
            "_view_count": null,
            "_view_module": "@jupyter-widgets/controls",
            "_view_module_version": "1.5.0",
            "_view_name": "HTMLView",
            "description": "",
            "description_tooltip": null,
            "layout": "IPY_MODEL_7f8aa8ddf1334655bd2074ec367ec4d4",
            "placeholder": "​",
            "style": "IPY_MODEL_4e5566c865fd4ac2825400454a554aff",
            "value": " 8/8 [00:00&lt;00:00, 93.60it/s]"
          }
        },
        "f7642b5f2c01448b892bb9bef848f7fc": {
          "model_module": "@jupyter-widgets/base",
          "model_name": "LayoutModel",
          "model_module_version": "1.2.0",
          "state": {
            "_model_module": "@jupyter-widgets/base",
            "_model_module_version": "1.2.0",
            "_model_name": "LayoutModel",
            "_view_count": null,
            "_view_module": "@jupyter-widgets/base",
            "_view_module_version": "1.2.0",
            "_view_name": "LayoutView",
            "align_content": null,
            "align_items": null,
            "align_self": null,
            "border": null,
            "bottom": null,
            "display": null,
            "flex": null,
            "flex_flow": null,
            "grid_area": null,
            "grid_auto_columns": null,
            "grid_auto_flow": null,
            "grid_auto_rows": null,
            "grid_column": null,
            "grid_gap": null,
            "grid_row": null,
            "grid_template_areas": null,
            "grid_template_columns": null,
            "grid_template_rows": null,
            "height": null,
            "justify_content": null,
            "justify_items": null,
            "left": null,
            "margin": null,
            "max_height": null,
            "max_width": null,
            "min_height": null,
            "min_width": null,
            "object_fit": null,
            "object_position": null,
            "order": null,
            "overflow": null,
            "overflow_x": null,
            "overflow_y": null,
            "padding": null,
            "right": null,
            "top": null,
            "visibility": null,
            "width": null
          }
        },
        "e859750f82a84784817dd86662928a06": {
          "model_module": "@jupyter-widgets/base",
          "model_name": "LayoutModel",
          "model_module_version": "1.2.0",
          "state": {
            "_model_module": "@jupyter-widgets/base",
            "_model_module_version": "1.2.0",
            "_model_name": "LayoutModel",
            "_view_count": null,
            "_view_module": "@jupyter-widgets/base",
            "_view_module_version": "1.2.0",
            "_view_name": "LayoutView",
            "align_content": null,
            "align_items": null,
            "align_self": null,
            "border": null,
            "bottom": null,
            "display": null,
            "flex": null,
            "flex_flow": null,
            "grid_area": null,
            "grid_auto_columns": null,
            "grid_auto_flow": null,
            "grid_auto_rows": null,
            "grid_column": null,
            "grid_gap": null,
            "grid_row": null,
            "grid_template_areas": null,
            "grid_template_columns": null,
            "grid_template_rows": null,
            "height": null,
            "justify_content": null,
            "justify_items": null,
            "left": null,
            "margin": null,
            "max_height": null,
            "max_width": null,
            "min_height": null,
            "min_width": null,
            "object_fit": null,
            "object_position": null,
            "order": null,
            "overflow": null,
            "overflow_x": null,
            "overflow_y": null,
            "padding": null,
            "right": null,
            "top": null,
            "visibility": null,
            "width": null
          }
        },
        "40e87c8246174800b762de1aac443b75": {
          "model_module": "@jupyter-widgets/controls",
          "model_name": "DescriptionStyleModel",
          "model_module_version": "1.5.0",
          "state": {
            "_model_module": "@jupyter-widgets/controls",
            "_model_module_version": "1.5.0",
            "_model_name": "DescriptionStyleModel",
            "_view_count": null,
            "_view_module": "@jupyter-widgets/base",
            "_view_module_version": "1.2.0",
            "_view_name": "StyleView",
            "description_width": ""
          }
        },
        "617417b8eb144583be2e31bbed1dbc16": {
          "model_module": "@jupyter-widgets/base",
          "model_name": "LayoutModel",
          "model_module_version": "1.2.0",
          "state": {
            "_model_module": "@jupyter-widgets/base",
            "_model_module_version": "1.2.0",
            "_model_name": "LayoutModel",
            "_view_count": null,
            "_view_module": "@jupyter-widgets/base",
            "_view_module_version": "1.2.0",
            "_view_name": "LayoutView",
            "align_content": null,
            "align_items": null,
            "align_self": null,
            "border": null,
            "bottom": null,
            "display": null,
            "flex": null,
            "flex_flow": null,
            "grid_area": null,
            "grid_auto_columns": null,
            "grid_auto_flow": null,
            "grid_auto_rows": null,
            "grid_column": null,
            "grid_gap": null,
            "grid_row": null,
            "grid_template_areas": null,
            "grid_template_columns": null,
            "grid_template_rows": null,
            "height": null,
            "justify_content": null,
            "justify_items": null,
            "left": null,
            "margin": null,
            "max_height": null,
            "max_width": null,
            "min_height": null,
            "min_width": null,
            "object_fit": null,
            "object_position": null,
            "order": null,
            "overflow": null,
            "overflow_x": null,
            "overflow_y": null,
            "padding": null,
            "right": null,
            "top": null,
            "visibility": null,
            "width": null
          }
        },
        "e49e862a2c5b4b599363214d17f6298d": {
          "model_module": "@jupyter-widgets/controls",
          "model_name": "ProgressStyleModel",
          "model_module_version": "1.5.0",
          "state": {
            "_model_module": "@jupyter-widgets/controls",
            "_model_module_version": "1.5.0",
            "_model_name": "ProgressStyleModel",
            "_view_count": null,
            "_view_module": "@jupyter-widgets/base",
            "_view_module_version": "1.2.0",
            "_view_name": "StyleView",
            "bar_color": null,
            "description_width": ""
          }
        },
        "7f8aa8ddf1334655bd2074ec367ec4d4": {
          "model_module": "@jupyter-widgets/base",
          "model_name": "LayoutModel",
          "model_module_version": "1.2.0",
          "state": {
            "_model_module": "@jupyter-widgets/base",
            "_model_module_version": "1.2.0",
            "_model_name": "LayoutModel",
            "_view_count": null,
            "_view_module": "@jupyter-widgets/base",
            "_view_module_version": "1.2.0",
            "_view_name": "LayoutView",
            "align_content": null,
            "align_items": null,
            "align_self": null,
            "border": null,
            "bottom": null,
            "display": null,
            "flex": null,
            "flex_flow": null,
            "grid_area": null,
            "grid_auto_columns": null,
            "grid_auto_flow": null,
            "grid_auto_rows": null,
            "grid_column": null,
            "grid_gap": null,
            "grid_row": null,
            "grid_template_areas": null,
            "grid_template_columns": null,
            "grid_template_rows": null,
            "height": null,
            "justify_content": null,
            "justify_items": null,
            "left": null,
            "margin": null,
            "max_height": null,
            "max_width": null,
            "min_height": null,
            "min_width": null,
            "object_fit": null,
            "object_position": null,
            "order": null,
            "overflow": null,
            "overflow_x": null,
            "overflow_y": null,
            "padding": null,
            "right": null,
            "top": null,
            "visibility": null,
            "width": null
          }
        },
        "4e5566c865fd4ac2825400454a554aff": {
          "model_module": "@jupyter-widgets/controls",
          "model_name": "DescriptionStyleModel",
          "model_module_version": "1.5.0",
          "state": {
            "_model_module": "@jupyter-widgets/controls",
            "_model_module_version": "1.5.0",
            "_model_name": "DescriptionStyleModel",
            "_view_count": null,
            "_view_module": "@jupyter-widgets/base",
            "_view_module_version": "1.2.0",
            "_view_name": "StyleView",
            "description_width": ""
          }
        }
      }
    }
  },
  "cells": [
    {
      "cell_type": "markdown",
      "source": [
        "# Import Libraries"
      ],
      "metadata": {
        "id": "uk0xeK-2H1xK"
      }
    },
    {
      "cell_type": "code",
      "source": [
        "pip install colorama"
      ],
      "metadata": {
        "colab": {
          "base_uri": "https://localhost:8080/"
        },
        "id": "WHcYVAiQIAwa",
        "outputId": "de18c8df-c80a-44d5-a1a4-218229ff4051"
      },
      "execution_count": 2,
      "outputs": [
        {
          "output_type": "stream",
          "name": "stdout",
          "text": [
            "Looking in indexes: https://pypi.org/simple, https://us-python.pkg.dev/colab-wheels/public/simple/\n",
            "Collecting colorama\n",
            "  Downloading colorama-0.4.6-py2.py3-none-any.whl (25 kB)\n",
            "Installing collected packages: colorama\n",
            "Successfully installed colorama-0.4.6\n"
          ]
        }
      ]
    },
    {
      "cell_type": "code",
      "source": [
        "    !pip install torchvision\n",
        "    !pip install torch==1.4.0\n",
        "    !pip install torchaudio==0.4.0\n",
        "    %matplotlib inline\n",
        "    !python pytorch-xla-env-setup.py --version $VERSION"
      ],
      "metadata": {
        "id": "pwJnRV7xINGP"
      },
      "execution_count": null,
      "outputs": []
    },
    {
      "cell_type": "code",
      "source": [
        "!pip uninstall -y torch\n",
        "!pip install torch==1.8.2+cpu -f https://download.pytorch.org/whl/lts/1.8/torch_lts.html\n",
        "!pip install -q cloud-tpu-client==0.10 https://storage.googleapis.com/tpu-pytorch/wheels/torch_xla-1.8-cp37-cp37m-linux_x86_64.whl\n"
      ],
      "metadata": {
        "id": "GViqgdDyI_1q"
      },
      "execution_count": null,
      "outputs": []
    },
    {
      "cell_type": "code",
      "source": [
        "pip install torchviz\n"
      ],
      "metadata": {
        "colab": {
          "base_uri": "https://localhost:8080/"
        },
        "id": "zd7xR-IAJyiN",
        "outputId": "dbf8ca35-4430-43f8-b177-28968ab32013"
      },
      "execution_count": 9,
      "outputs": [
        {
          "output_type": "stream",
          "name": "stdout",
          "text": [
            "Looking in indexes: https://pypi.org/simple, https://us-python.pkg.dev/colab-wheels/public/simple/\n",
            "Collecting torchviz\n",
            "  Downloading torchviz-0.0.2.tar.gz (4.9 kB)\n",
            "Requirement already satisfied: torch in /usr/local/lib/python3.8/dist-packages (from torchviz) (1.8.2+cpu)\n",
            "Requirement already satisfied: graphviz in /usr/local/lib/python3.8/dist-packages (from torchviz) (0.10.1)\n",
            "Requirement already satisfied: numpy in /usr/local/lib/python3.8/dist-packages (from torch->torchviz) (1.21.6)\n",
            "Requirement already satisfied: typing-extensions in /usr/local/lib/python3.8/dist-packages (from torch->torchviz) (4.4.0)\n",
            "Building wheels for collected packages: torchviz\n",
            "  Building wheel for torchviz (setup.py) ... \u001b[?25l\u001b[?25hdone\n",
            "  Created wheel for torchviz: filename=torchviz-0.0.2-py3-none-any.whl size=4151 sha256=0fc8fa5145100dddc423dd7a510e858b8fb7b81af92a3c928aacac8bbe186688\n",
            "  Stored in directory: /root/.cache/pip/wheels/05/7d/1b/8306781244e42ede119edbb053bdcda1c1f424ca226165a417\n",
            "Successfully built torchviz\n",
            "Installing collected packages: torchviz\n",
            "Successfully installed torchviz-0.0.2\n"
          ]
        }
      ]
    },
    {
      "cell_type": "code",
      "source": [
        "import torch\n",
        "\n",
        "import torch_xla\n",
        "import torch_xla.core.xla_model as xm"
      ],
      "metadata": {
        "id": "mh7aKzX5S0zR"
      },
      "execution_count": null,
      "outputs": []
    },
    {
      "cell_type": "code",
      "source": [
        "import os\n",
        "import gc\n",
        "import cv2\n",
        "import time\n",
        "import numpy as np\n",
        "import pandas as pd\n",
        "\n",
        "import matplotlib.pyplot as plt\n",
        "from tqdm.notebook import tqdm\n",
        "from skimage.io import MultiImage\n",
        "from joblib import Parallel, delayed\n",
        "\n",
        "from sklearn.utils import shuffle\n",
        "from colorama import Fore, Back, Style\n",
        "from keras.utils import to_categorical as cat\n",
        "\n",
        "import torch\n",
        "import torch.nn as nn\n",
        "from torch.optim import Adam\n",
        "from torch import LongTensor as LongTensor\n",
        "from torch import FloatTensor as FloatTensor\n",
        "\n",
        "\n",
        "\n",
        "from torchviz import make_dot\n",
        "from torch.utils.data import Dataset, DataLoader\n",
        "from torch.optim.lr_scheduler import ReduceLROnPlateau\n",
        "from torchvision.models import resnet18, densenet121, mobilenet_v2\n",
        "from albumentations import RandomRotate90, Flip, Compose, Normalize, RandomResizedCrop"
      ],
      "metadata": {
        "id": "6jHJy0yZH4_w"
      },
      "execution_count": 10,
      "outputs": []
    },
    {
      "cell_type": "code",
      "source": [
        "np.random.seed(42)\n",
        "torch.manual_seed(42)"
      ],
      "metadata": {
        "colab": {
          "base_uri": "https://localhost:8080/"
        },
        "id": "9q3cZ1tdJ8WD",
        "outputId": "b0af5889-7e8b-425e-ac17-d320a775642f"
      },
      "execution_count": 11,
      "outputs": [
        {
          "output_type": "execute_result",
          "data": {
            "text/plain": [
              "<torch._C.Generator at 0x7eff142c0f70>"
            ]
          },
          "metadata": {},
          "execution_count": 11
        }
      ]
    },
    {
      "cell_type": "markdown",
      "source": [
        "# Hyperparameters"
      ],
      "metadata": {
        "id": "BluHPlN2KUd3"
      }
    },
    {
      "cell_type": "code",
      "source": [
        "FOLDS = 8\n",
        "EPOCHS = 4\n",
        "\n",
        "RRC = 1.0\n",
        "FLIP = 1.0\n",
        "NORM = 1.0\n",
        "ROTATE = 1.0\n",
        "LR = (1e-4, 1e-3)\n",
        "MODEL_SAVE_PATH = \"resnet_model\"\n",
        "\n",
        "WIDTH = 512\n",
        "HEIGHT = 512\n",
        "BATCH_SIZE = 128\n",
        "VAL_BATCH_SIZE = 128"
      ],
      "metadata": {
        "id": "yVQRIMnWKuG9"
      },
      "execution_count": 12,
      "outputs": []
    },
    {
      "cell_type": "markdown",
      "source": [
        "# Data Path"
      ],
      "metadata": {
        "id": "UF56x3T4KwQw"
      }
    },
    {
      "cell_type": "code",
      "source": [
        "DATA_PATH = '/content/drive/MyDrive/PANDA/'\n",
        "RESIZED_PATH = '/content/drive/MyDrive/PANDA/train_images/'"
      ],
      "metadata": {
        "id": "27B6EJL0K1VJ"
      },
      "execution_count": 13,
      "outputs": []
    },
    {
      "cell_type": "code",
      "source": [
        "TEST_DATA_PATH = DATA_PATH + 'test.csv'\n",
        "TRAIN_DATA_PATH = DATA_PATH + 'train.csv'\n",
        "TEST_IMG_PATH = DATA_PATH + 'test_images/'\n",
        "TRAIN_IMG_PATH = RESIZED_PATH + 'train_images/'\n",
        "SAMPLE_SUB_PATH = DATA_PATH + 'sample_submission.csv'"
      ],
      "metadata": {
        "id": "nu9dtUXuLhZv"
      },
      "execution_count": 14,
      "outputs": []
    },
    {
      "cell_type": "code",
      "source": [
        "test_df = pd.read_csv(TEST_DATA_PATH)\n",
        "train_df = pd.read_csv(TRAIN_DATA_PATH)\n",
        "sample_submission = pd.read_csv(SAMPLE_SUB_PATH)"
      ],
      "metadata": {
        "id": "tAqXZ76uLlUY"
      },
      "execution_count": 15,
      "outputs": []
    },
    {
      "cell_type": "markdown",
      "source": [
        "# Convert Gleason scores to list format"
      ],
      "metadata": {
        "id": "Pncr3DEcLxAy"
      }
    },
    {
      "cell_type": "code",
      "source": [
        "gleason_replace_dict = {0:0, 1:1, 3:2, 4:3, 5:4}"
      ],
      "metadata": {
        "id": "eImkSU_WLymZ"
      },
      "execution_count": 16,
      "outputs": []
    },
    {
      "cell_type": "code",
      "source": [
        "def process_gleason(gleason):\n",
        "    if gleason == 'negative': gs = (1, 1)\n",
        "    else: gs = tuple(gleason.split('+'))\n",
        "    return [gleason_replace_dict[int(g)] for g in gs]"
      ],
      "metadata": {
        "id": "rpPsTFKfL0wa"
      },
      "execution_count": 17,
      "outputs": []
    },
    {
      "cell_type": "code",
      "source": [
        "train_df.gleason_score = train_df.gleason_score.apply(process_gleason)"
      ],
      "metadata": {
        "id": "Spdg3ck8L2wP"
      },
      "execution_count": 18,
      "outputs": []
    },
    {
      "cell_type": "code",
      "source": [
        "train_df.head()"
      ],
      "metadata": {
        "colab": {
          "base_uri": "https://localhost:8080/",
          "height": 206
        },
        "id": "s5I2lzDGL6Qt",
        "outputId": "973ba83c-f841-4a18-f1b5-193ef20f011b"
      },
      "execution_count": 19,
      "outputs": [
        {
          "output_type": "execute_result",
          "data": {
            "text/plain": [
              "                           image_id data_provider  isup_grade gleason_score\n",
              "0  0005f7aaab2800f6170c399693a96917    karolinska           0        [0, 0]\n",
              "1  000920ad0b612851f8e01bcc880d9b3d    karolinska           0        [0, 0]\n",
              "2  0018ae58b01bdadc8e347995b69f99aa       radboud           4        [3, 3]\n",
              "3  001c62abd11fa4b57bf7a6c603a11bb9    karolinska           4        [3, 3]\n",
              "4  001d865e65ef5d2579c190a0e0350d8f    karolinska           0        [0, 0]"
            ],
            "text/html": [
              "\n",
              "  <div id=\"df-3a60b3ee-8c7c-4e6b-9dfb-54578e0e9dca\">\n",
              "    <div class=\"colab-df-container\">\n",
              "      <div>\n",
              "<style scoped>\n",
              "    .dataframe tbody tr th:only-of-type {\n",
              "        vertical-align: middle;\n",
              "    }\n",
              "\n",
              "    .dataframe tbody tr th {\n",
              "        vertical-align: top;\n",
              "    }\n",
              "\n",
              "    .dataframe thead th {\n",
              "        text-align: right;\n",
              "    }\n",
              "</style>\n",
              "<table border=\"1\" class=\"dataframe\">\n",
              "  <thead>\n",
              "    <tr style=\"text-align: right;\">\n",
              "      <th></th>\n",
              "      <th>image_id</th>\n",
              "      <th>data_provider</th>\n",
              "      <th>isup_grade</th>\n",
              "      <th>gleason_score</th>\n",
              "    </tr>\n",
              "  </thead>\n",
              "  <tbody>\n",
              "    <tr>\n",
              "      <th>0</th>\n",
              "      <td>0005f7aaab2800f6170c399693a96917</td>\n",
              "      <td>karolinska</td>\n",
              "      <td>0</td>\n",
              "      <td>[0, 0]</td>\n",
              "    </tr>\n",
              "    <tr>\n",
              "      <th>1</th>\n",
              "      <td>000920ad0b612851f8e01bcc880d9b3d</td>\n",
              "      <td>karolinska</td>\n",
              "      <td>0</td>\n",
              "      <td>[0, 0]</td>\n",
              "    </tr>\n",
              "    <tr>\n",
              "      <th>2</th>\n",
              "      <td>0018ae58b01bdadc8e347995b69f99aa</td>\n",
              "      <td>radboud</td>\n",
              "      <td>4</td>\n",
              "      <td>[3, 3]</td>\n",
              "    </tr>\n",
              "    <tr>\n",
              "      <th>3</th>\n",
              "      <td>001c62abd11fa4b57bf7a6c603a11bb9</td>\n",
              "      <td>karolinska</td>\n",
              "      <td>4</td>\n",
              "      <td>[3, 3]</td>\n",
              "    </tr>\n",
              "    <tr>\n",
              "      <th>4</th>\n",
              "      <td>001d865e65ef5d2579c190a0e0350d8f</td>\n",
              "      <td>karolinska</td>\n",
              "      <td>0</td>\n",
              "      <td>[0, 0]</td>\n",
              "    </tr>\n",
              "  </tbody>\n",
              "</table>\n",
              "</div>\n",
              "      <button class=\"colab-df-convert\" onclick=\"convertToInteractive('df-3a60b3ee-8c7c-4e6b-9dfb-54578e0e9dca')\"\n",
              "              title=\"Convert this dataframe to an interactive table.\"\n",
              "              style=\"display:none;\">\n",
              "        \n",
              "  <svg xmlns=\"http://www.w3.org/2000/svg\" height=\"24px\"viewBox=\"0 0 24 24\"\n",
              "       width=\"24px\">\n",
              "    <path d=\"M0 0h24v24H0V0z\" fill=\"none\"/>\n",
              "    <path d=\"M18.56 5.44l.94 2.06.94-2.06 2.06-.94-2.06-.94-.94-2.06-.94 2.06-2.06.94zm-11 1L8.5 8.5l.94-2.06 2.06-.94-2.06-.94L8.5 2.5l-.94 2.06-2.06.94zm10 10l.94 2.06.94-2.06 2.06-.94-2.06-.94-.94-2.06-.94 2.06-2.06.94z\"/><path d=\"M17.41 7.96l-1.37-1.37c-.4-.4-.92-.59-1.43-.59-.52 0-1.04.2-1.43.59L10.3 9.45l-7.72 7.72c-.78.78-.78 2.05 0 2.83L4 21.41c.39.39.9.59 1.41.59.51 0 1.02-.2 1.41-.59l7.78-7.78 2.81-2.81c.8-.78.8-2.07 0-2.86zM5.41 20L4 18.59l7.72-7.72 1.47 1.35L5.41 20z\"/>\n",
              "  </svg>\n",
              "      </button>\n",
              "      \n",
              "  <style>\n",
              "    .colab-df-container {\n",
              "      display:flex;\n",
              "      flex-wrap:wrap;\n",
              "      gap: 12px;\n",
              "    }\n",
              "\n",
              "    .colab-df-convert {\n",
              "      background-color: #E8F0FE;\n",
              "      border: none;\n",
              "      border-radius: 50%;\n",
              "      cursor: pointer;\n",
              "      display: none;\n",
              "      fill: #1967D2;\n",
              "      height: 32px;\n",
              "      padding: 0 0 0 0;\n",
              "      width: 32px;\n",
              "    }\n",
              "\n",
              "    .colab-df-convert:hover {\n",
              "      background-color: #E2EBFA;\n",
              "      box-shadow: 0px 1px 2px rgba(60, 64, 67, 0.3), 0px 1px 3px 1px rgba(60, 64, 67, 0.15);\n",
              "      fill: #174EA6;\n",
              "    }\n",
              "\n",
              "    [theme=dark] .colab-df-convert {\n",
              "      background-color: #3B4455;\n",
              "      fill: #D2E3FC;\n",
              "    }\n",
              "\n",
              "    [theme=dark] .colab-df-convert:hover {\n",
              "      background-color: #434B5C;\n",
              "      box-shadow: 0px 1px 3px 1px rgba(0, 0, 0, 0.15);\n",
              "      filter: drop-shadow(0px 1px 2px rgba(0, 0, 0, 0.3));\n",
              "      fill: #FFFFFF;\n",
              "    }\n",
              "  </style>\n",
              "\n",
              "      <script>\n",
              "        const buttonEl =\n",
              "          document.querySelector('#df-3a60b3ee-8c7c-4e6b-9dfb-54578e0e9dca button.colab-df-convert');\n",
              "        buttonEl.style.display =\n",
              "          google.colab.kernel.accessAllowed ? 'block' : 'none';\n",
              "\n",
              "        async function convertToInteractive(key) {\n",
              "          const element = document.querySelector('#df-3a60b3ee-8c7c-4e6b-9dfb-54578e0e9dca');\n",
              "          const dataTable =\n",
              "            await google.colab.kernel.invokeFunction('convertToInteractive',\n",
              "                                                     [key], {});\n",
              "          if (!dataTable) return;\n",
              "\n",
              "          const docLinkHtml = 'Like what you see? Visit the ' +\n",
              "            '<a target=\"_blank\" href=https://colab.research.google.com/notebooks/data_table.ipynb>data table notebook</a>'\n",
              "            + ' to learn more about interactive tables.';\n",
              "          element.innerHTML = '';\n",
              "          dataTable['output_type'] = 'display_data';\n",
              "          await google.colab.output.renderOutput(dataTable, element);\n",
              "          const docLink = document.createElement('div');\n",
              "          docLink.innerHTML = docLinkHtml;\n",
              "          element.appendChild(docLink);\n",
              "        }\n",
              "      </script>\n",
              "    </div>\n",
              "  </div>\n",
              "  "
            ]
          },
          "metadata": {},
          "execution_count": 19
        }
      ]
    },
    {
      "cell_type": "markdown",
      "source": [
        "# Display few images "
      ],
      "metadata": {
        "id": "m3Ja8YZXMA7N"
      }
    },
    {
      "cell_type": "code",
      "source": [
        "def display_images(num):\n",
        "    sq_num = np.sqrt(num)\n",
        "    assert sq_num == int(sq_num)\n",
        "\n",
        "    sq_num = int(sq_num)\n",
        "    fig, ax = plt.subplots(nrows=sq_num, ncols=sq_num, figsize=(20, 20))\n",
        "\n",
        "    for i in range(int(sq_num)):\n",
        "        for j in range(int(sq_num)):\n",
        "            idx = i*sq_num + j\n",
        "            path = TRAIN_IMG_PATH + train_df.image_id[idx]\n",
        "    \n",
        "            path += '.png'\n",
        "            ax[i, j].imshow(cv2.imread(path))\n",
        "            ax[i, j].set_title('Image {}'.format(idx), fontsize=12)\n",
        "\n",
        "    plt.show()"
      ],
      "metadata": {
        "id": "djnv0VSnMCs6"
      },
      "execution_count": 20,
      "outputs": []
    },
    {
      "cell_type": "markdown",
      "source": [
        "# Build Pytorch Dataset"
      ],
      "metadata": {
        "id": "ACw5fEVyM-JB"
      }
    },
    {
      "cell_type": "code",
      "source": [
        "class PANDADataset(Dataset):\n",
        "    def __init__(self, data, img_path, is_val=False, is_train=False):\n",
        "\n",
        "        self.data = data\n",
        "        self.is_val = is_val\n",
        "        self.is_train = is_train\n",
        "        self.image_path = img_path\n",
        "        self.image_id = data.image_id\n",
        "        self.aug = self.norm = Normalize(p=NORM)\n",
        "\n",
        "        if is_train or is_val:\n",
        "            self.isup_grade = data.isup_grade\n",
        "            self.gleason_score = data.gleason_score\n",
        "\n",
        "            if is_train:\n",
        "                self.flip = Flip(p=FLIP)\n",
        "                self.rotate = RandomRotate90(p=ROTATE)\n",
        "                self.crop = RandomResizedCrop(p=RRC, width=WIDTH, height=HEIGHT)\n",
        "                self.aug = Compose([self.flip, self.rotate, self.crop, self.norm], p=1)\n",
        "\n",
        "    def __len__(self):\n",
        "        return len(self.data)\n",
        "    \n",
        "    def __getitem__(self, idx):\n",
        "        path = self.image_path + self.image_id[idx]\n",
        "\n",
        "        if self.is_train or self.is_val:\n",
        "            path += '.png'\n",
        "            image = cv2.imread(path)\n",
        "        else:\n",
        "            path += '.tiff'\n",
        "            image = MultiImage(path)[-1]\n",
        "            image = cv2.resize(image, (HEIGHT, WIDTH))\n",
        "\n",
        "        image = cv2.cvtColor(image, cv2.COLOR_BGR2RGB)\n",
        "        image = self.aug(image=image)['image'].reshape((3, HEIGHT, WIDTH))\n",
        "        \n",
        "        if self.is_train or self.is_val:\n",
        "            isup_grade = cat([self.data.isup_grade[idx]], num_classes=6)\n",
        "            gleason_0 = cat([self.data.gleason_score[idx][0]], num_classes=5)\n",
        "            gleason_1 = cat([self.data.gleason_score[idx][1]], num_classes=5)\n",
        "            target = np.concatenate([isup_grade, gleason_0, gleason_1], axis=1)\n",
        "            \n",
        "        if self.is_train or self.is_val:\n",
        "            return FloatTensor(image), FloatTensor(target)\n",
        "        else:\n",
        "            return FloatTensor(image)"
      ],
      "metadata": {
        "id": "VOO8qRxxNEwp"
      },
      "execution_count": 26,
      "outputs": []
    },
    {
      "cell_type": "markdown",
      "source": [
        "# Build ResNet Model"
      ],
      "metadata": {
        "id": "rUQWLH8bNJ-Z"
      }
    },
    {
      "cell_type": "code",
      "source": [
        "class ResNetDetector(nn.Module):\n",
        "    def __init__(self):\n",
        "        super(ResNetDetector, self).__init__()\n",
        "\n",
        "        self.softmax = nn.Softmax(dim=1)\n",
        "        self.dense_1 = nn.Linear(512, 6)\n",
        "        self.dense_2 = nn.Linear(512, 5)\n",
        "        self.dense_3 = nn.Linear(512, 5)\n",
        "        self.resnet = resnet18(pretrained=True)\n",
        "        self.resnet = nn.Sequential(*list(self.resnet.children())[:-1])\n",
        "        \n",
        "    def forward(self, img):\n",
        "        feat = self.resnet(img).squeeze()\n",
        "\n",
        "        isup_logit = self.dense_1(feat)\n",
        "        gleason_logit_0 = self.dense_2(feat)\n",
        "        gleason_logit_1 = self.dense_3(feat)\n",
        "        \n",
        "        isup_prob = self.softmax(isup_logit)\n",
        "        gleason_prob_0 = self.softmax(gleason_logit_0)\n",
        "        gleason_prob_1 = self.softmax(gleason_logit_1)\n",
        "        return torch.cat([isup_prob, gleason_prob_0, gleason_prob_1], axis=1)"
      ],
      "metadata": {
        "id": "ZQlCDv_8NMh3"
      },
      "execution_count": 27,
      "outputs": []
    },
    {
      "cell_type": "markdown",
      "source": [
        "# RESNET ARCHITECTURE"
      ],
      "metadata": {
        "id": "qUWJ_ar_MeFa"
      }
    },
    {
      "cell_type": "code",
      "source": [
        "model = ResNetDetector()\n",
        "x = torch.randn(2, 3, 32, 32).requires_grad_(True)\n",
        "y = model(x)\n",
        "make_dot(y, params=dict(list(model.named_parameters()) + [('x', x)]))"
      ],
      "metadata": {
        "colab": {
          "base_uri": "https://localhost:8080/",
          "height": 1000,
          "referenced_widgets": [
            "a9019bcf2c9c473fa061e28f89361870",
            "e9f1788a04704322bbce268738eeef75",
            "4f7ce2cb368b431ba94e641943331627",
            "f87e7a7dc3424a28baafb4f79bcd5871",
            "b7fac3bb426c4db0b4eff254029d9a3c",
            "aa8c0b113c034ce788b9df893c91b887",
            "ac97867ee95549b4a675c57580fc3c50",
            "6fa09f95fdd94725a3047ed90e8fd72f",
            "af3222b9ccff4778bb0665d5becf9ce1",
            "f8edc8329a544b2486627d7007504d83",
            "15672075657e482987b1d8c8d7480cf1"
          ]
        },
        "id": "J599HoySMmAh",
        "outputId": "809a6016-4079-470e-a1a8-7275d0e5d5b8"
      },
      "execution_count": 28,
      "outputs": [
        {
          "output_type": "stream",
          "name": "stderr",
          "text": [
            "/usr/local/lib/python3.8/dist-packages/torchvision/models/_utils.py:208: UserWarning: The parameter 'pretrained' is deprecated since 0.13 and may be removed in the future, please use 'weights' instead.\n",
            "  warnings.warn(\n",
            "/usr/local/lib/python3.8/dist-packages/torchvision/models/_utils.py:223: UserWarning: Arguments other than a weight enum or `None` for 'weights' are deprecated since 0.13 and may be removed in the future. The current behavior is equivalent to passing `weights=ResNet18_Weights.IMAGENET1K_V1`. You can also use `weights=ResNet18_Weights.DEFAULT` to get the most up-to-date weights.\n",
            "  warnings.warn(msg)\n",
            "Downloading: \"https://download.pytorch.org/models/resnet18-f37072fd.pth\" to /root/.cache/torch/hub/checkpoints/resnet18-f37072fd.pth\n"
          ]
        },
        {
          "output_type": "display_data",
          "data": {
            "text/plain": [
              "  0%|          | 0.00/44.7M [00:00<?, ?B/s]"
            ],
            "application/vnd.jupyter.widget-view+json": {
              "version_major": 2,
              "version_minor": 0,
              "model_id": "a9019bcf2c9c473fa061e28f89361870"
            }
          },
          "metadata": {}
        },
        {
          "output_type": "execute_result",
          "data": {
            "text/plain": [
              "<graphviz.dot.Digraph at 0x7eff05b75d90>"
            ],
            "image/svg+xml": "<?xml version=\"1.0\" encoding=\"UTF-8\" standalone=\"no\"?>\n<!DOCTYPE svg PUBLIC \"-//W3C//DTD SVG 1.1//EN\"\n \"http://www.w3.org/Graphics/SVG/1.1/DTD/svg11.dtd\">\n<!-- Generated by graphviz version 2.40.1 (20161225.0304)\n -->\n<!-- Title: %3 Pages: 1 -->\n<svg width=\"1324pt\" height=\"4120pt\"\n viewBox=\"0.00 0.00 1324.00 4120.00\" xmlns=\"http://www.w3.org/2000/svg\" xmlns:xlink=\"http://www.w3.org/1999/xlink\">\n<g id=\"graph0\" class=\"graph\" transform=\"scale(1 1) rotate(0) translate(4 4116)\">\n<title>%3</title>\n<polygon fill=\"#ffffff\" stroke=\"transparent\" points=\"-4,4 -4,-4116 1320,-4116 1320,4 -4,4\"/>\n<!-- 139633763277056 -->\n<g id=\"node1\" class=\"node\">\n<title>139633763277056</title>\n<polygon fill=\"#caff70\" stroke=\"#000000\" points=\"424,-31 359,-31 359,0 424,0 424,-31\"/>\n<text text-anchor=\"middle\" x=\"391.5\" y=\"-7\" font-family=\"monospace\" font-size=\"10.00\" fill=\"#000000\"> (2, 16)</text>\n</g>\n<!-- 139633777662656 -->\n<g id=\"node2\" class=\"node\">\n<title>139633777662656</title>\n<polygon fill=\"#d3d3d3\" stroke=\"#000000\" points=\"436,-86 347,-86 347,-67 436,-67 436,-86\"/>\n<text text-anchor=\"middle\" x=\"391.5\" y=\"-74\" font-family=\"monospace\" font-size=\"10.00\" fill=\"#000000\">CatBackward0</text>\n</g>\n<!-- 139633777662656&#45;&gt;139633763277056 -->\n<g id=\"edge222\" class=\"edge\">\n<title>139633777662656&#45;&gt;139633763277056</title>\n<path fill=\"none\" stroke=\"#000000\" d=\"M391.5,-66.9688C391.5,-60.1289 391.5,-50.5621 391.5,-41.5298\"/>\n<polygon fill=\"#000000\" stroke=\"#000000\" points=\"395.0001,-41.3678 391.5,-31.3678 388.0001,-41.3678 395.0001,-41.3678\"/>\n</g>\n<!-- 139633777663760 -->\n<g id=\"node3\" class=\"node\">\n<title>139633777663760</title>\n<polygon fill=\"#d3d3d3\" stroke=\"#000000\" points=\"632,-141 519,-141 519,-122 632,-122 632,-141\"/>\n<text text-anchor=\"middle\" x=\"575.5\" y=\"-129\" font-family=\"monospace\" font-size=\"10.00\" fill=\"#000000\">SoftmaxBackward0</text>\n</g>\n<!-- 139633777663760&#45;&gt;139633777662656 -->\n<g id=\"edge1\" class=\"edge\">\n<title>139633777663760&#45;&gt;139633777662656</title>\n<path fill=\"none\" stroke=\"#000000\" d=\"M543.4496,-121.9197C512.9371,-112.7991 466.8417,-99.0206 433.424,-89.0316\"/>\n<polygon fill=\"#000000\" stroke=\"#000000\" points=\"434.0747,-85.5732 423.4912,-86.0626 432.07,-92.28 434.0747,-85.5732\"/>\n</g>\n<!-- 139633777660160 -->\n<g id=\"node4\" class=\"node\">\n<title>139633777660160</title>\n<polygon fill=\"#d3d3d3\" stroke=\"#000000\" points=\"653,-196 552,-196 552,-177 653,-177 653,-196\"/>\n<text text-anchor=\"middle\" x=\"602.5\" y=\"-184\" font-family=\"monospace\" font-size=\"10.00\" fill=\"#000000\">AddmmBackward0</text>\n</g>\n<!-- 139633777660160&#45;&gt;139633777663760 -->\n<g id=\"edge2\" class=\"edge\">\n<title>139633777660160&#45;&gt;139633777663760</title>\n<path fill=\"none\" stroke=\"#000000\" d=\"M597.797,-176.9197C594.2403,-169.6746 589.2407,-159.4903 584.8769,-150.601\"/>\n<polygon fill=\"#000000\" stroke=\"#000000\" points=\"587.8796,-148.7751 580.331,-141.3408 581.5959,-151.8599 587.8796,-148.7751\"/>\n</g>\n<!-- 139633777660304 -->\n<g id=\"node5\" class=\"node\">\n<title>139633777660304</title>\n<polygon fill=\"#d3d3d3\" stroke=\"#000000\" points=\"680,-251 579,-251 579,-232 680,-232 680,-251\"/>\n<text text-anchor=\"middle\" x=\"629.5\" y=\"-239\" font-family=\"monospace\" font-size=\"10.00\" fill=\"#000000\">AccumulateGrad</text>\n</g>\n<!-- 139633777660304&#45;&gt;139633777660160 -->\n<g id=\"edge3\" class=\"edge\">\n<title>139633777660304&#45;&gt;139633777660160</title>\n<path fill=\"none\" stroke=\"#000000\" d=\"M624.797,-231.9197C621.2403,-224.6746 616.2407,-214.4903 611.8769,-205.601\"/>\n<polygon fill=\"#000000\" stroke=\"#000000\" points=\"614.8796,-203.7751 607.331,-196.3408 608.5959,-206.8599 614.8796,-203.7751\"/>\n</g>\n<!-- 139633778498832 -->\n<g id=\"node6\" class=\"node\">\n<title>139633778498832</title>\n<polygon fill=\"#add8e6\" stroke=\"#000000\" points=\"672,-317 583,-317 583,-287 672,-287 672,-317\"/>\n<text text-anchor=\"middle\" x=\"627.5\" y=\"-305\" font-family=\"monospace\" font-size=\"10.00\" fill=\"#000000\">dense_1.bias</text>\n<text text-anchor=\"middle\" x=\"627.5\" y=\"-294\" font-family=\"monospace\" font-size=\"10.00\" fill=\"#000000\"> (6)</text>\n</g>\n<!-- 139633778498832&#45;&gt;139633777660304 -->\n<g id=\"edge4\" class=\"edge\">\n<title>139633778498832&#45;&gt;139633777660304</title>\n<path fill=\"none\" stroke=\"#000000\" d=\"M628.0047,-286.7333C628.2593,-279.0322 628.5712,-269.5977 628.8441,-261.3414\"/>\n<polygon fill=\"#000000\" stroke=\"#000000\" points=\"632.3507,-261.1966 629.1831,-251.0864 625.3545,-260.9653 632.3507,-261.1966\"/>\n</g>\n<!-- 139633777660256 -->\n<g id=\"node7\" class=\"node\">\n<title>139633777660256</title>\n<polygon fill=\"#d3d3d3\" stroke=\"#000000\" points=\"561,-251 448,-251 448,-232 561,-232 561,-251\"/>\n<text text-anchor=\"middle\" x=\"504.5\" y=\"-239\" font-family=\"monospace\" font-size=\"10.00\" fill=\"#000000\">SqueezeBackward0</text>\n</g>\n<!-- 139633777660256&#45;&gt;139633777660160 -->\n<g id=\"edge5\" class=\"edge\">\n<title>139633777660256&#45;&gt;139633777660160</title>\n<path fill=\"none\" stroke=\"#000000\" d=\"M521.5703,-231.9197C536.6545,-223.4541 558.889,-210.9755 576.2375,-201.2391\"/>\n<polygon fill=\"#000000\" stroke=\"#000000\" points=\"578.289,-204.1014 585.2965,-196.155 574.863,-197.9971 578.289,-204.1014\"/>\n</g>\n<!-- 139633777661744 -->\n<g id=\"node201\" class=\"node\">\n<title>139633777661744</title>\n<polygon fill=\"#d3d3d3\" stroke=\"#000000\" points=\"263,-196 162,-196 162,-177 263,-177 263,-196\"/>\n<text text-anchor=\"middle\" x=\"212.5\" y=\"-184\" font-family=\"monospace\" font-size=\"10.00\" fill=\"#000000\">AddmmBackward0</text>\n</g>\n<!-- 139633777660256&#45;&gt;139633777661744 -->\n<g id=\"edge210\" class=\"edge\">\n<title>139633777660256&#45;&gt;139633777661744</title>\n<path fill=\"none\" stroke=\"#000000\" d=\"M453.9708,-231.9825C403.8261,-222.5375 326.9251,-208.0527 273.4278,-197.9761\"/>\n<polygon fill=\"#000000\" stroke=\"#000000\" points=\"273.8643,-194.4969 263.3892,-196.0853 272.5686,-201.3759 273.8643,-194.4969\"/>\n</g>\n<!-- 139633777660928 -->\n<g id=\"node208\" class=\"node\">\n<title>139633777660928</title>\n<polygon fill=\"#d3d3d3\" stroke=\"#000000\" points=\"442,-196 341,-196 341,-177 442,-177 442,-196\"/>\n<text text-anchor=\"middle\" x=\"391.5\" y=\"-184\" font-family=\"monospace\" font-size=\"10.00\" fill=\"#000000\">AddmmBackward0</text>\n</g>\n<!-- 139633777660256&#45;&gt;139633777660928 -->\n<g id=\"edge218\" class=\"edge\">\n<title>139633777660256&#45;&gt;139633777660928</title>\n<path fill=\"none\" stroke=\"#000000\" d=\"M484.8169,-231.9197C467.0213,-223.2581 440.5948,-210.3957 420.4023,-200.5675\"/>\n<polygon fill=\"#000000\" stroke=\"#000000\" points=\"421.86,-197.3844 411.3367,-196.155 418.7964,-203.6785 421.86,-197.3844\"/>\n</g>\n<!-- 139633777663472 -->\n<g id=\"node8\" class=\"node\">\n<title>139633777663472</title>\n<polygon fill=\"#d3d3d3\" stroke=\"#000000\" points=\"555,-311.5 460,-311.5 460,-292.5 555,-292.5 555,-311.5\"/>\n<text text-anchor=\"middle\" x=\"507.5\" y=\"-299.5\" font-family=\"monospace\" font-size=\"10.00\" fill=\"#000000\">MeanBackward1</text>\n</g>\n<!-- 139633777663472&#45;&gt;139633777660256 -->\n<g id=\"edge6\" class=\"edge\">\n<title>139633777663472&#45;&gt;139633777660256</title>\n<path fill=\"none\" stroke=\"#000000\" d=\"M507.018,-292.2796C506.6093,-284.0376 506.0097,-271.9457 505.4981,-261.629\"/>\n<polygon fill=\"#000000\" stroke=\"#000000\" points=\"508.9818,-261.2116 504.9908,-251.3972 501.9904,-261.5583 508.9818,-261.2116\"/>\n</g>\n<!-- 139633777663424 -->\n<g id=\"node9\" class=\"node\">\n<title>139633777663424</title>\n<polygon fill=\"#d3d3d3\" stroke=\"#000000\" points=\"555,-377.5 460,-377.5 460,-358.5 555,-358.5 555,-377.5\"/>\n<text text-anchor=\"middle\" x=\"507.5\" y=\"-365.5\" font-family=\"monospace\" font-size=\"10.00\" fill=\"#000000\">ReluBackward0</text>\n</g>\n<!-- 139633777663424&#45;&gt;139633777663472 -->\n<g id=\"edge7\" class=\"edge\">\n<title>139633777663424&#45;&gt;139633777663472</title>\n<path fill=\"none\" stroke=\"#000000\" d=\"M507.5,-358.2615C507.5,-348.7077 507.5,-333.8615 507.5,-321.8183\"/>\n<polygon fill=\"#000000\" stroke=\"#000000\" points=\"511.0001,-321.7784 507.5,-311.7785 504.0001,-321.7785 511.0001,-321.7784\"/>\n</g>\n<!-- 139633777663856 -->\n<g id=\"node10\" class=\"node\">\n<title>139633777663856</title>\n<polygon fill=\"#d3d3d3\" stroke=\"#000000\" points=\"552,-438 463,-438 463,-419 552,-419 552,-438\"/>\n<text text-anchor=\"middle\" x=\"507.5\" y=\"-426\" font-family=\"monospace\" font-size=\"10.00\" fill=\"#000000\">AddBackward0</text>\n</g>\n<!-- 139633777663856&#45;&gt;139633777663424 -->\n<g id=\"edge8\" class=\"edge\">\n<title>139633777663856&#45;&gt;139633777663424</title>\n<path fill=\"none\" stroke=\"#000000\" d=\"M507.5,-418.7796C507.5,-410.5376 507.5,-398.4457 507.5,-388.129\"/>\n<polygon fill=\"#000000\" stroke=\"#000000\" points=\"511.0001,-387.8972 507.5,-377.8972 504.0001,-387.8973 511.0001,-387.8972\"/>\n</g>\n<!-- 139633777660400 -->\n<g id=\"node11\" class=\"node\">\n<title>139633777660400</title>\n<polygon fill=\"#d3d3d3\" stroke=\"#000000\" points=\"702,-493 541,-493 541,-474 702,-474 702,-493\"/>\n<text text-anchor=\"middle\" x=\"621.5\" y=\"-481\" font-family=\"monospace\" font-size=\"10.00\" fill=\"#000000\">NativeBatchNormBackward0</text>\n</g>\n<!-- 139633777660400&#45;&gt;139633777663856 -->\n<g id=\"edge9\" class=\"edge\">\n<title>139633777660400&#45;&gt;139633777663856</title>\n<path fill=\"none\" stroke=\"#000000\" d=\"M601.6427,-473.9197C583.6896,-465.2581 557.0292,-452.3957 536.6581,-442.5675\"/>\n<polygon fill=\"#000000\" stroke=\"#000000\" points=\"538.0397,-439.3481 527.5122,-438.155 534.998,-445.6527 538.0397,-439.3481\"/>\n</g>\n<!-- 139633777661840 -->\n<g id=\"node12\" class=\"node\">\n<title>139633777661840</title>\n<polygon fill=\"#d3d3d3\" stroke=\"#000000\" points=\"897,-548 760,-548 760,-529 897,-529 897,-548\"/>\n<text text-anchor=\"middle\" x=\"828.5\" y=\"-536\" font-family=\"monospace\" font-size=\"10.00\" fill=\"#000000\">ConvolutionBackward0</text>\n</g>\n<!-- 139633777661840&#45;&gt;139633777660400 -->\n<g id=\"edge10\" class=\"edge\">\n<title>139633777661840&#45;&gt;139633777660400</title>\n<path fill=\"none\" stroke=\"#000000\" d=\"M792.4434,-528.9197C757.6729,-519.6812 704.9154,-505.6635 667.2133,-495.646\"/>\n<polygon fill=\"#000000\" stroke=\"#000000\" points=\"668.0536,-492.2479 657.4901,-493.0626 666.256,-499.0132 668.0536,-492.2479\"/>\n</g>\n<!-- 139633777661648 -->\n<g id=\"node13\" class=\"node\">\n<title>139633777661648</title>\n<polygon fill=\"#d3d3d3\" stroke=\"#000000\" points=\"876,-608.5 781,-608.5 781,-589.5 876,-589.5 876,-608.5\"/>\n<text text-anchor=\"middle\" x=\"828.5\" y=\"-596.5\" font-family=\"monospace\" font-size=\"10.00\" fill=\"#000000\">ReluBackward0</text>\n</g>\n<!-- 139633777661648&#45;&gt;139633777661840 -->\n<g id=\"edge11\" class=\"edge\">\n<title>139633777661648&#45;&gt;139633777661840</title>\n<path fill=\"none\" stroke=\"#000000\" d=\"M828.5,-589.2796C828.5,-581.0376 828.5,-568.9457 828.5,-558.629\"/>\n<polygon fill=\"#000000\" stroke=\"#000000\" points=\"832.0001,-558.3972 828.5,-548.3972 825.0001,-558.3973 832.0001,-558.3972\"/>\n</g>\n<!-- 139633777661936 -->\n<g id=\"node14\" class=\"node\">\n<title>139633777661936</title>\n<polygon fill=\"#d3d3d3\" stroke=\"#000000\" points=\"826,-674.5 665,-674.5 665,-655.5 826,-655.5 826,-674.5\"/>\n<text text-anchor=\"middle\" x=\"745.5\" y=\"-662.5\" font-family=\"monospace\" font-size=\"10.00\" fill=\"#000000\">NativeBatchNormBackward0</text>\n</g>\n<!-- 139633777661936&#45;&gt;139633777661648 -->\n<g id=\"edge12\" class=\"edge\">\n<title>139633777661936&#45;&gt;139633777661648</title>\n<path fill=\"none\" stroke=\"#000000\" d=\"M757.7469,-655.2615C771.0636,-644.6723 792.5566,-627.5815 808.3638,-615.0119\"/>\n<polygon fill=\"#000000\" stroke=\"#000000\" points=\"810.824,-617.5273 816.4727,-608.5639 806.4672,-612.0484 810.824,-617.5273\"/>\n</g>\n<!-- 139633776673744 -->\n<g id=\"node15\" class=\"node\">\n<title>139633776673744</title>\n<polygon fill=\"#d3d3d3\" stroke=\"#000000\" points=\"659,-735 522,-735 522,-716 659,-716 659,-735\"/>\n<text text-anchor=\"middle\" x=\"590.5\" y=\"-723\" font-family=\"monospace\" font-size=\"10.00\" fill=\"#000000\">ConvolutionBackward0</text>\n</g>\n<!-- 139633776673744&#45;&gt;139633777661936 -->\n<g id=\"edge13\" class=\"edge\">\n<title>139633776673744&#45;&gt;139633777661936</title>\n<path fill=\"none\" stroke=\"#000000\" d=\"M615.0602,-715.9136C641.1359,-705.7357 682.5276,-689.5795 711.678,-678.2015\"/>\n<polygon fill=\"#000000\" stroke=\"#000000\" points=\"713.0118,-681.4381 721.0547,-674.5416 710.4665,-674.9172 713.0118,-681.4381\"/>\n</g>\n<!-- 139633777662128 -->\n<g id=\"node16\" class=\"node\">\n<title>139633777662128</title>\n<polygon fill=\"#d3d3d3\" stroke=\"#000000\" points=\"492,-795.5 397,-795.5 397,-776.5 492,-776.5 492,-795.5\"/>\n<text text-anchor=\"middle\" x=\"444.5\" y=\"-783.5\" font-family=\"monospace\" font-size=\"10.00\" fill=\"#000000\">ReluBackward0</text>\n</g>\n<!-- 139633777662128&#45;&gt;139633777663856 -->\n<g id=\"edge202\" class=\"edge\">\n<title>139633777662128&#45;&gt;139633777663856</title>\n<path fill=\"none\" stroke=\"#000000\" d=\"M444.2303,-776.2767C443.6844,-755.7315 442.5,-706.3893 442.5,-665 442.5,-665 442.5,-665 442.5,-538.5 442.5,-501.2929 470.4047,-465.6195 489.6471,-445.4432\"/>\n<polygon fill=\"#000000\" stroke=\"#000000\" points=\"492.2128,-447.8265 496.7666,-438.2602 487.2411,-442.8988 492.2128,-447.8265\"/>\n</g>\n<!-- 139633777662128&#45;&gt;139633776673744 -->\n<g id=\"edge14\" class=\"edge\">\n<title>139633777662128&#45;&gt;139633776673744</title>\n<path fill=\"none\" stroke=\"#000000\" d=\"M467.6341,-776.4136C491.9822,-766.3242 530.5071,-750.3601 557.923,-738.9994\"/>\n<polygon fill=\"#000000\" stroke=\"#000000\" points=\"559.5757,-742.1032 567.4741,-735.0416 556.896,-735.6364 559.5757,-742.1032\"/>\n</g>\n<!-- 139633776673120 -->\n<g id=\"node17\" class=\"node\">\n<title>139633776673120</title>\n<polygon fill=\"#d3d3d3\" stroke=\"#000000\" points=\"489,-861.5 400,-861.5 400,-842.5 489,-842.5 489,-861.5\"/>\n<text text-anchor=\"middle\" x=\"444.5\" y=\"-849.5\" font-family=\"monospace\" font-size=\"10.00\" fill=\"#000000\">AddBackward0</text>\n</g>\n<!-- 139633776673120&#45;&gt;139633777662128 -->\n<g id=\"edge15\" class=\"edge\">\n<title>139633776673120&#45;&gt;139633777662128</title>\n<path fill=\"none\" stroke=\"#000000\" d=\"M444.5,-842.2615C444.5,-832.7077 444.5,-817.8615 444.5,-805.8183\"/>\n<polygon fill=\"#000000\" stroke=\"#000000\" points=\"448.0001,-805.7784 444.5,-795.7785 441.0001,-805.7785 448.0001,-805.7784\"/>\n</g>\n<!-- 139633776673552 -->\n<g id=\"node18\" class=\"node\">\n<title>139633776673552</title>\n<polygon fill=\"#d3d3d3\" stroke=\"#000000\" points=\"642,-922 481,-922 481,-903 642,-903 642,-922\"/>\n<text text-anchor=\"middle\" x=\"561.5\" y=\"-910\" font-family=\"monospace\" font-size=\"10.00\" fill=\"#000000\">NativeBatchNormBackward0</text>\n</g>\n<!-- 139633776673552&#45;&gt;139633776673120 -->\n<g id=\"edge16\" class=\"edge\">\n<title>139633776673552&#45;&gt;139633776673120</title>\n<path fill=\"none\" stroke=\"#000000\" d=\"M542.961,-902.9136C523.8771,-893.0454 493.9251,-877.5574 472.0643,-866.2533\"/>\n<polygon fill=\"#000000\" stroke=\"#000000\" points=\"473.4426,-863.0259 462.9523,-861.5416 470.2273,-869.2438 473.4426,-863.0259\"/>\n</g>\n<!-- 139633776676720 -->\n<g id=\"node19\" class=\"node\">\n<title>139633776676720</title>\n<polygon fill=\"#d3d3d3\" stroke=\"#000000\" points=\"837,-977 700,-977 700,-958 837,-958 837,-977\"/>\n<text text-anchor=\"middle\" x=\"768.5\" y=\"-965\" font-family=\"monospace\" font-size=\"10.00\" fill=\"#000000\">ConvolutionBackward0</text>\n</g>\n<!-- 139633776676720&#45;&gt;139633776673552 -->\n<g id=\"edge17\" class=\"edge\">\n<title>139633776676720&#45;&gt;139633776673552</title>\n<path fill=\"none\" stroke=\"#000000\" d=\"M732.4434,-957.9197C697.6729,-948.6812 644.9154,-934.6635 607.2133,-924.646\"/>\n<polygon fill=\"#000000\" stroke=\"#000000\" points=\"608.0536,-921.2479 597.4901,-922.0626 606.256,-928.0132 608.0536,-921.2479\"/>\n</g>\n<!-- 139633776675712 -->\n<g id=\"node20\" class=\"node\">\n<title>139633776675712</title>\n<polygon fill=\"#d3d3d3\" stroke=\"#000000\" points=\"816,-1037.5 721,-1037.5 721,-1018.5 816,-1018.5 816,-1037.5\"/>\n<text text-anchor=\"middle\" x=\"768.5\" y=\"-1025.5\" font-family=\"monospace\" font-size=\"10.00\" fill=\"#000000\">ReluBackward0</text>\n</g>\n<!-- 139633776675712&#45;&gt;139633776676720 -->\n<g id=\"edge18\" class=\"edge\">\n<title>139633776675712&#45;&gt;139633776676720</title>\n<path fill=\"none\" stroke=\"#000000\" d=\"M768.5,-1018.2796C768.5,-1010.0376 768.5,-997.9457 768.5,-987.629\"/>\n<polygon fill=\"#000000\" stroke=\"#000000\" points=\"772.0001,-987.3972 768.5,-977.3972 765.0001,-987.3973 772.0001,-987.3972\"/>\n</g>\n<!-- 139633776675520 -->\n<g id=\"node21\" class=\"node\">\n<title>139633776675520</title>\n<polygon fill=\"#d3d3d3\" stroke=\"#000000\" points=\"849,-1103.5 688,-1103.5 688,-1084.5 849,-1084.5 849,-1103.5\"/>\n<text text-anchor=\"middle\" x=\"768.5\" y=\"-1091.5\" font-family=\"monospace\" font-size=\"10.00\" fill=\"#000000\">NativeBatchNormBackward0</text>\n</g>\n<!-- 139633776675520&#45;&gt;139633776675712 -->\n<g id=\"edge19\" class=\"edge\">\n<title>139633776675520&#45;&gt;139633776675712</title>\n<path fill=\"none\" stroke=\"#000000\" d=\"M768.5,-1084.2615C768.5,-1074.7077 768.5,-1059.8615 768.5,-1047.8183\"/>\n<polygon fill=\"#000000\" stroke=\"#000000\" points=\"772.0001,-1047.7784 768.5,-1037.7785 765.0001,-1047.7785 772.0001,-1047.7784\"/>\n</g>\n<!-- 139633776675328 -->\n<g id=\"node22\" class=\"node\">\n<title>139633776675328</title>\n<polygon fill=\"#d3d3d3\" stroke=\"#000000\" points=\"769,-1164 632,-1164 632,-1145 769,-1145 769,-1164\"/>\n<text text-anchor=\"middle\" x=\"700.5\" y=\"-1152\" font-family=\"monospace\" font-size=\"10.00\" fill=\"#000000\">ConvolutionBackward0</text>\n</g>\n<!-- 139633776675328&#45;&gt;139633776675520 -->\n<g id=\"edge20\" class=\"edge\">\n<title>139633776675328&#45;&gt;139633776675520</title>\n<path fill=\"none\" stroke=\"#000000\" d=\"M711.4254,-1144.7796C721.7732,-1135.5731 737.5201,-1121.563 749.8543,-1110.5892\"/>\n<polygon fill=\"#000000\" stroke=\"#000000\" points=\"752.2312,-1113.1592 757.3758,-1103.8972 747.5783,-1107.9294 752.2312,-1113.1592\"/>\n</g>\n<!-- 139633776676576 -->\n<g id=\"node23\" class=\"node\">\n<title>139633776676576</title>\n<polygon fill=\"#d3d3d3\" stroke=\"#000000\" points=\"632,-1224.5 537,-1224.5 537,-1205.5 632,-1205.5 632,-1224.5\"/>\n<text text-anchor=\"middle\" x=\"584.5\" y=\"-1212.5\" font-family=\"monospace\" font-size=\"10.00\" fill=\"#000000\">ReluBackward0</text>\n</g>\n<!-- 139633776676576&#45;&gt;139633776675328 -->\n<g id=\"edge21\" class=\"edge\">\n<title>139633776676576&#45;&gt;139633776675328</title>\n<path fill=\"none\" stroke=\"#000000\" d=\"M602.8805,-1205.4136C621.8013,-1195.5454 651.4974,-1180.0574 673.1713,-1168.7533\"/>\n<polygon fill=\"#000000\" stroke=\"#000000\" points=\"674.9575,-1171.7693 682.2054,-1164.0416 671.7204,-1165.5627 674.9575,-1171.7693\"/>\n</g>\n<!-- 139633776676096 -->\n<g id=\"node178\" class=\"node\">\n<title>139633776676096</title>\n<polygon fill=\"#d3d3d3\" stroke=\"#000000\" points=\"537,-1164 400,-1164 400,-1145 537,-1145 537,-1164\"/>\n<text text-anchor=\"middle\" x=\"468.5\" y=\"-1152\" font-family=\"monospace\" font-size=\"10.00\" fill=\"#000000\">ConvolutionBackward0</text>\n</g>\n<!-- 139633776676576&#45;&gt;139633776676096 -->\n<g id=\"edge183\" class=\"edge\">\n<title>139633776676576&#45;&gt;139633776676096</title>\n<path fill=\"none\" stroke=\"#000000\" d=\"M566.1195,-1205.4136C547.1987,-1195.5454 517.5026,-1180.0574 495.8287,-1168.7533\"/>\n<polygon fill=\"#000000\" stroke=\"#000000\" points=\"497.2796,-1165.5627 486.7946,-1164.0416 494.0425,-1171.7693 497.2796,-1165.5627\"/>\n</g>\n<!-- 139633776675616 -->\n<g id=\"node24\" class=\"node\">\n<title>139633776675616</title>\n<polygon fill=\"#d3d3d3\" stroke=\"#000000\" points=\"629,-1290.5 540,-1290.5 540,-1271.5 629,-1271.5 629,-1290.5\"/>\n<text text-anchor=\"middle\" x=\"584.5\" y=\"-1278.5\" font-family=\"monospace\" font-size=\"10.00\" fill=\"#000000\">AddBackward0</text>\n</g>\n<!-- 139633776675616&#45;&gt;139633776676576 -->\n<g id=\"edge22\" class=\"edge\">\n<title>139633776675616&#45;&gt;139633776676576</title>\n<path fill=\"none\" stroke=\"#000000\" d=\"M584.5,-1271.2615C584.5,-1261.7077 584.5,-1246.8615 584.5,-1234.8183\"/>\n<polygon fill=\"#000000\" stroke=\"#000000\" points=\"588.0001,-1234.7784 584.5,-1224.7785 581.0001,-1234.7785 588.0001,-1234.7784\"/>\n</g>\n<!-- 139633776676288 -->\n<g id=\"node25\" class=\"node\">\n<title>139633776676288</title>\n<polygon fill=\"#d3d3d3\" stroke=\"#000000\" points=\"755,-1351 594,-1351 594,-1332 755,-1332 755,-1351\"/>\n<text text-anchor=\"middle\" x=\"674.5\" y=\"-1339\" font-family=\"monospace\" font-size=\"10.00\" fill=\"#000000\">NativeBatchNormBackward0</text>\n</g>\n<!-- 139633776676288&#45;&gt;139633776675616 -->\n<g id=\"edge23\" class=\"edge\">\n<title>139633776676288&#45;&gt;139633776675616</title>\n<path fill=\"none\" stroke=\"#000000\" d=\"M660.0399,-1331.7796C645.8692,-1322.2537 624.0481,-1307.5851 607.4958,-1296.4583\"/>\n<polygon fill=\"#000000\" stroke=\"#000000\" points=\"609.176,-1293.3705 598.9242,-1290.6962 605.2707,-1299.1799 609.176,-1293.3705\"/>\n</g>\n<!-- 139633776673600 -->\n<g id=\"node26\" class=\"node\">\n<title>139633776673600</title>\n<polygon fill=\"#d3d3d3\" stroke=\"#000000\" points=\"950,-1406 813,-1406 813,-1387 950,-1387 950,-1406\"/>\n<text text-anchor=\"middle\" x=\"881.5\" y=\"-1394\" font-family=\"monospace\" font-size=\"10.00\" fill=\"#000000\">ConvolutionBackward0</text>\n</g>\n<!-- 139633776673600&#45;&gt;139633776676288 -->\n<g id=\"edge24\" class=\"edge\">\n<title>139633776673600&#45;&gt;139633776676288</title>\n<path fill=\"none\" stroke=\"#000000\" d=\"M845.4434,-1386.9197C810.6729,-1377.6812 757.9154,-1363.6635 720.2133,-1353.646\"/>\n<polygon fill=\"#000000\" stroke=\"#000000\" points=\"721.0536,-1350.2479 710.4901,-1351.0626 719.256,-1357.0132 721.0536,-1350.2479\"/>\n</g>\n<!-- 139633776672928 -->\n<g id=\"node27\" class=\"node\">\n<title>139633776672928</title>\n<polygon fill=\"#d3d3d3\" stroke=\"#000000\" points=\"929,-1466.5 834,-1466.5 834,-1447.5 929,-1447.5 929,-1466.5\"/>\n<text text-anchor=\"middle\" x=\"881.5\" y=\"-1454.5\" font-family=\"monospace\" font-size=\"10.00\" fill=\"#000000\">ReluBackward0</text>\n</g>\n<!-- 139633776672928&#45;&gt;139633776673600 -->\n<g id=\"edge25\" class=\"edge\">\n<title>139633776672928&#45;&gt;139633776673600</title>\n<path fill=\"none\" stroke=\"#000000\" d=\"M881.5,-1447.2796C881.5,-1439.0376 881.5,-1426.9457 881.5,-1416.629\"/>\n<polygon fill=\"#000000\" stroke=\"#000000\" points=\"885.0001,-1416.3972 881.5,-1406.3972 878.0001,-1416.3973 885.0001,-1416.3972\"/>\n</g>\n<!-- 139633776674752 -->\n<g id=\"node28\" class=\"node\">\n<title>139633776674752</title>\n<polygon fill=\"#d3d3d3\" stroke=\"#000000\" points=\"900,-1532.5 739,-1532.5 739,-1513.5 900,-1513.5 900,-1532.5\"/>\n<text text-anchor=\"middle\" x=\"819.5\" y=\"-1520.5\" font-family=\"monospace\" font-size=\"10.00\" fill=\"#000000\">NativeBatchNormBackward0</text>\n</g>\n<!-- 139633776674752&#45;&gt;139633776672928 -->\n<g id=\"edge26\" class=\"edge\">\n<title>139633776674752&#45;&gt;139633776672928</title>\n<path fill=\"none\" stroke=\"#000000\" d=\"M828.6483,-1513.2615C838.2641,-1503.0253 853.5872,-1486.7137 865.264,-1474.2835\"/>\n<polygon fill=\"#000000\" stroke=\"#000000\" points=\"868.0183,-1476.4634 872.3142,-1466.7785 862.9164,-1471.6706 868.0183,-1476.4634\"/>\n</g>\n<!-- 139633776676240 -->\n<g id=\"node29\" class=\"node\">\n<title>139633776676240</title>\n<polygon fill=\"#d3d3d3\" stroke=\"#000000\" points=\"714,-1593 577,-1593 577,-1574 714,-1574 714,-1593\"/>\n<text text-anchor=\"middle\" x=\"645.5\" y=\"-1581\" font-family=\"monospace\" font-size=\"10.00\" fill=\"#000000\">ConvolutionBackward0</text>\n</g>\n<!-- 139633776676240&#45;&gt;139633776674752 -->\n<g id=\"edge27\" class=\"edge\">\n<title>139633776676240&#45;&gt;139633776674752</title>\n<path fill=\"none\" stroke=\"#000000\" d=\"M673.0708,-1573.9136C702.5974,-1563.6472 749.6179,-1547.2981 782.3826,-1535.9058\"/>\n<polygon fill=\"#000000\" stroke=\"#000000\" points=\"783.7623,-1539.1316 792.0582,-1532.5416 781.4634,-1532.5199 783.7623,-1539.1316\"/>\n</g>\n<!-- 139633776673168 -->\n<g id=\"node30\" class=\"node\">\n<title>139633776673168</title>\n<polygon fill=\"#d3d3d3\" stroke=\"#000000\" points=\"548,-1653.5 453,-1653.5 453,-1634.5 548,-1634.5 548,-1653.5\"/>\n<text text-anchor=\"middle\" x=\"500.5\" y=\"-1641.5\" font-family=\"monospace\" font-size=\"10.00\" fill=\"#000000\">ReluBackward0</text>\n</g>\n<!-- 139633776673168&#45;&gt;139633776675616 -->\n<g id=\"edge168\" class=\"edge\">\n<title>139633776673168&#45;&gt;139633776675616</title>\n<path fill=\"none\" stroke=\"#000000\" d=\"M499.8257,-1634.2814C498.4609,-1613.7451 495.5,-1564.419 495.5,-1523 495.5,-1523 495.5,-1523 495.5,-1396.5 495.5,-1353.5145 534.657,-1316.7374 561.0254,-1296.8449\"/>\n<polygon fill=\"#000000\" stroke=\"#000000\" points=\"563.3675,-1299.4695 569.4024,-1290.7614 559.2543,-1293.8055 563.3675,-1299.4695\"/>\n</g>\n<!-- 139633776673168&#45;&gt;139633776676240 -->\n<g id=\"edge28\" class=\"edge\">\n<title>139633776673168&#45;&gt;139633776676240</title>\n<path fill=\"none\" stroke=\"#000000\" d=\"M523.4757,-1634.4136C547.657,-1624.3242 585.9181,-1608.3601 613.1461,-1596.9994\"/>\n<polygon fill=\"#000000\" stroke=\"#000000\" points=\"614.7507,-1600.1224 622.6318,-1593.0416 612.0552,-1593.6622 614.7507,-1600.1224\"/>\n</g>\n<!-- 139633776672880 -->\n<g id=\"node31\" class=\"node\">\n<title>139633776672880</title>\n<polygon fill=\"#d3d3d3\" stroke=\"#000000\" points=\"545,-1719.5 456,-1719.5 456,-1700.5 545,-1700.5 545,-1719.5\"/>\n<text text-anchor=\"middle\" x=\"500.5\" y=\"-1707.5\" font-family=\"monospace\" font-size=\"10.00\" fill=\"#000000\">AddBackward0</text>\n</g>\n<!-- 139633776672880&#45;&gt;139633776673168 -->\n<g id=\"edge29\" class=\"edge\">\n<title>139633776672880&#45;&gt;139633776673168</title>\n<path fill=\"none\" stroke=\"#000000\" d=\"M500.5,-1700.2615C500.5,-1690.7077 500.5,-1675.8615 500.5,-1663.8183\"/>\n<polygon fill=\"#000000\" stroke=\"#000000\" points=\"504.0001,-1663.7784 500.5,-1653.7785 497.0001,-1663.7785 504.0001,-1663.7784\"/>\n</g>\n<!-- 139633776676384 -->\n<g id=\"node32\" class=\"node\">\n<title>139633776676384</title>\n<polygon fill=\"#d3d3d3\" stroke=\"#000000\" points=\"707,-1780 546,-1780 546,-1761 707,-1761 707,-1780\"/>\n<text text-anchor=\"middle\" x=\"626.5\" y=\"-1768\" font-family=\"monospace\" font-size=\"10.00\" fill=\"#000000\">NativeBatchNormBackward0</text>\n</g>\n<!-- 139633776676384&#45;&gt;139633776672880 -->\n<g id=\"edge30\" class=\"edge\">\n<title>139633776676384&#45;&gt;139633776672880</title>\n<path fill=\"none\" stroke=\"#000000\" d=\"M606.5349,-1760.9136C585.7987,-1750.9569 553.1475,-1735.2791 529.5533,-1723.9502\"/>\n<polygon fill=\"#000000\" stroke=\"#000000\" points=\"530.9013,-1720.7149 520.3717,-1719.5416 527.8714,-1727.0252 530.9013,-1720.7149\"/>\n</g>\n<!-- 139633776673792 -->\n<g id=\"node33\" class=\"node\">\n<title>139633776673792</title>\n<polygon fill=\"#d3d3d3\" stroke=\"#000000\" points=\"930,-1835 793,-1835 793,-1816 930,-1816 930,-1835\"/>\n<text text-anchor=\"middle\" x=\"861.5\" y=\"-1823\" font-family=\"monospace\" font-size=\"10.00\" fill=\"#000000\">ConvolutionBackward0</text>\n</g>\n<!-- 139633776673792&#45;&gt;139633776676384 -->\n<g id=\"edge31\" class=\"edge\">\n<title>139633776673792&#45;&gt;139633776676384</title>\n<path fill=\"none\" stroke=\"#000000\" d=\"M820.8344,-1815.9825C781.0655,-1806.6749 720.3855,-1792.4732 677.4259,-1782.4188\"/>\n<polygon fill=\"#000000\" stroke=\"#000000\" points=\"677.9899,-1778.9563 667.4554,-1780.0853 676.3946,-1785.7721 677.9899,-1778.9563\"/>\n</g>\n<!-- 139633776675424 -->\n<g id=\"node34\" class=\"node\">\n<title>139633776675424</title>\n<polygon fill=\"#d3d3d3\" stroke=\"#000000\" points=\"909,-1895.5 814,-1895.5 814,-1876.5 909,-1876.5 909,-1895.5\"/>\n<text text-anchor=\"middle\" x=\"861.5\" y=\"-1883.5\" font-family=\"monospace\" font-size=\"10.00\" fill=\"#000000\">ReluBackward0</text>\n</g>\n<!-- 139633776675424&#45;&gt;139633776673792 -->\n<g id=\"edge32\" class=\"edge\">\n<title>139633776675424&#45;&gt;139633776673792</title>\n<path fill=\"none\" stroke=\"#000000\" d=\"M861.5,-1876.2796C861.5,-1868.0376 861.5,-1855.9457 861.5,-1845.629\"/>\n<polygon fill=\"#000000\" stroke=\"#000000\" points=\"865.0001,-1845.3972 861.5,-1835.3972 858.0001,-1845.3973 865.0001,-1845.3972\"/>\n</g>\n<!-- 139633776675664 -->\n<g id=\"node35\" class=\"node\">\n<title>139633776675664</title>\n<polygon fill=\"#d3d3d3\" stroke=\"#000000\" points=\"942,-1961.5 781,-1961.5 781,-1942.5 942,-1942.5 942,-1961.5\"/>\n<text text-anchor=\"middle\" x=\"861.5\" y=\"-1949.5\" font-family=\"monospace\" font-size=\"10.00\" fill=\"#000000\">NativeBatchNormBackward0</text>\n</g>\n<!-- 139633776675664&#45;&gt;139633776675424 -->\n<g id=\"edge33\" class=\"edge\">\n<title>139633776675664&#45;&gt;139633776675424</title>\n<path fill=\"none\" stroke=\"#000000\" d=\"M861.5,-1942.2615C861.5,-1932.7077 861.5,-1917.8615 861.5,-1905.8183\"/>\n<polygon fill=\"#000000\" stroke=\"#000000\" points=\"865.0001,-1905.7784 861.5,-1895.7785 858.0001,-1905.7785 865.0001,-1905.7784\"/>\n</g>\n<!-- 139633776674128 -->\n<g id=\"node36\" class=\"node\">\n<title>139633776674128</title>\n<polygon fill=\"#d3d3d3\" stroke=\"#000000\" points=\"891,-2022 754,-2022 754,-2003 891,-2003 891,-2022\"/>\n<text text-anchor=\"middle\" x=\"822.5\" y=\"-2010\" font-family=\"monospace\" font-size=\"10.00\" fill=\"#000000\">ConvolutionBackward0</text>\n</g>\n<!-- 139633776674128&#45;&gt;139633776675664 -->\n<g id=\"edge34\" class=\"edge\">\n<title>139633776674128&#45;&gt;139633776675664</title>\n<path fill=\"none\" stroke=\"#000000\" d=\"M828.766,-2002.7796C834.3617,-1994.0992 842.7101,-1981.1485 849.5752,-1970.4987\"/>\n<polygon fill=\"#000000\" stroke=\"#000000\" points=\"852.6436,-1972.1986 855.12,-1961.8972 846.7601,-1968.4059 852.6436,-1972.1986\"/>\n</g>\n<!-- 139633776674560 -->\n<g id=\"node37\" class=\"node\">\n<title>139633776674560</title>\n<polygon fill=\"#d3d3d3\" stroke=\"#000000\" points=\"754,-2082.5 659,-2082.5 659,-2063.5 754,-2063.5 754,-2082.5\"/>\n<text text-anchor=\"middle\" x=\"706.5\" y=\"-2070.5\" font-family=\"monospace\" font-size=\"10.00\" fill=\"#000000\">ReluBackward0</text>\n</g>\n<!-- 139633776674560&#45;&gt;139633776674128 -->\n<g id=\"edge35\" class=\"edge\">\n<title>139633776674560&#45;&gt;139633776674128</title>\n<path fill=\"none\" stroke=\"#000000\" d=\"M724.8805,-2063.4136C743.8013,-2053.5454 773.4974,-2038.0574 795.1713,-2026.7533\"/>\n<polygon fill=\"#000000\" stroke=\"#000000\" points=\"796.9575,-2029.7693 804.2054,-2022.0416 793.7204,-2023.5627 796.9575,-2029.7693\"/>\n</g>\n<!-- 139633776675760 -->\n<g id=\"node146\" class=\"node\">\n<title>139633776675760</title>\n<polygon fill=\"#d3d3d3\" stroke=\"#000000\" points=\"659,-2022 522,-2022 522,-2003 659,-2003 659,-2022\"/>\n<text text-anchor=\"middle\" x=\"590.5\" y=\"-2010\" font-family=\"monospace\" font-size=\"10.00\" fill=\"#000000\">ConvolutionBackward0</text>\n</g>\n<!-- 139633776674560&#45;&gt;139633776675760 -->\n<g id=\"edge149\" class=\"edge\">\n<title>139633776674560&#45;&gt;139633776675760</title>\n<path fill=\"none\" stroke=\"#000000\" d=\"M688.1195,-2063.4136C669.1987,-2053.5454 639.5026,-2038.0574 617.8287,-2026.7533\"/>\n<polygon fill=\"#000000\" stroke=\"#000000\" points=\"619.2796,-2023.5627 608.7946,-2022.0416 616.0425,-2029.7693 619.2796,-2023.5627\"/>\n</g>\n<!-- 139633776676672 -->\n<g id=\"node38\" class=\"node\">\n<title>139633776676672</title>\n<polygon fill=\"#d3d3d3\" stroke=\"#000000\" points=\"751,-2148.5 662,-2148.5 662,-2129.5 751,-2129.5 751,-2148.5\"/>\n<text text-anchor=\"middle\" x=\"706.5\" y=\"-2136.5\" font-family=\"monospace\" font-size=\"10.00\" fill=\"#000000\">AddBackward0</text>\n</g>\n<!-- 139633776676672&#45;&gt;139633776674560 -->\n<g id=\"edge36\" class=\"edge\">\n<title>139633776676672&#45;&gt;139633776674560</title>\n<path fill=\"none\" stroke=\"#000000\" d=\"M706.5,-2129.2615C706.5,-2119.7077 706.5,-2104.8615 706.5,-2092.8183\"/>\n<polygon fill=\"#000000\" stroke=\"#000000\" points=\"710.0001,-2092.7784 706.5,-2082.7785 703.0001,-2092.7785 710.0001,-2092.7784\"/>\n</g>\n<!-- 139633776676528 -->\n<g id=\"node39\" class=\"node\">\n<title>139633776676528</title>\n<polygon fill=\"#d3d3d3\" stroke=\"#000000\" points=\"877,-2209 716,-2209 716,-2190 877,-2190 877,-2209\"/>\n<text text-anchor=\"middle\" x=\"796.5\" y=\"-2197\" font-family=\"monospace\" font-size=\"10.00\" fill=\"#000000\">NativeBatchNormBackward0</text>\n</g>\n<!-- 139633776676528&#45;&gt;139633776676672 -->\n<g id=\"edge37\" class=\"edge\">\n<title>139633776676528&#45;&gt;139633776676672</title>\n<path fill=\"none\" stroke=\"#000000\" d=\"M782.0399,-2189.7796C767.8692,-2180.2537 746.0481,-2165.5851 729.4958,-2154.4583\"/>\n<polygon fill=\"#000000\" stroke=\"#000000\" points=\"731.176,-2151.3705 720.9242,-2148.6962 727.2707,-2157.1799 731.176,-2151.3705\"/>\n</g>\n<!-- 139633776672976 -->\n<g id=\"node40\" class=\"node\">\n<title>139633776672976</title>\n<polygon fill=\"#d3d3d3\" stroke=\"#000000\" points=\"1072,-2264 935,-2264 935,-2245 1072,-2245 1072,-2264\"/>\n<text text-anchor=\"middle\" x=\"1003.5\" y=\"-2252\" font-family=\"monospace\" font-size=\"10.00\" fill=\"#000000\">ConvolutionBackward0</text>\n</g>\n<!-- 139633776672976&#45;&gt;139633776676528 -->\n<g id=\"edge38\" class=\"edge\">\n<title>139633776672976&#45;&gt;139633776676528</title>\n<path fill=\"none\" stroke=\"#000000\" d=\"M967.4434,-2244.9197C932.6729,-2235.6812 879.9154,-2221.6635 842.2133,-2211.646\"/>\n<polygon fill=\"#000000\" stroke=\"#000000\" points=\"843.0536,-2208.2479 832.4901,-2209.0626 841.256,-2215.0132 843.0536,-2208.2479\"/>\n</g>\n<!-- 139633776676768 -->\n<g id=\"node41\" class=\"node\">\n<title>139633776676768</title>\n<polygon fill=\"#d3d3d3\" stroke=\"#000000\" points=\"1051,-2324.5 956,-2324.5 956,-2305.5 1051,-2305.5 1051,-2324.5\"/>\n<text text-anchor=\"middle\" x=\"1003.5\" y=\"-2312.5\" font-family=\"monospace\" font-size=\"10.00\" fill=\"#000000\">ReluBackward0</text>\n</g>\n<!-- 139633776676768&#45;&gt;139633776672976 -->\n<g id=\"edge39\" class=\"edge\">\n<title>139633776676768&#45;&gt;139633776672976</title>\n<path fill=\"none\" stroke=\"#000000\" d=\"M1003.5,-2305.2796C1003.5,-2297.0376 1003.5,-2284.9457 1003.5,-2274.629\"/>\n<polygon fill=\"#000000\" stroke=\"#000000\" points=\"1007.0001,-2274.3972 1003.5,-2264.3972 1000.0001,-2274.3973 1007.0001,-2274.3972\"/>\n</g>\n<!-- 139633776676336 -->\n<g id=\"node42\" class=\"node\">\n<title>139633776676336</title>\n<polygon fill=\"#d3d3d3\" stroke=\"#000000\" points=\"1001,-2390.5 840,-2390.5 840,-2371.5 1001,-2371.5 1001,-2390.5\"/>\n<text text-anchor=\"middle\" x=\"920.5\" y=\"-2378.5\" font-family=\"monospace\" font-size=\"10.00\" fill=\"#000000\">NativeBatchNormBackward0</text>\n</g>\n<!-- 139633776676336&#45;&gt;139633776676768 -->\n<g id=\"edge40\" class=\"edge\">\n<title>139633776676336&#45;&gt;139633776676768</title>\n<path fill=\"none\" stroke=\"#000000\" d=\"M932.7469,-2371.2615C946.0636,-2360.6723 967.5566,-2343.5815 983.3638,-2331.0119\"/>\n<polygon fill=\"#000000\" stroke=\"#000000\" points=\"985.824,-2333.5273 991.4727,-2324.5639 981.4672,-2328.0484 985.824,-2333.5273\"/>\n</g>\n<!-- 139633777013520 -->\n<g id=\"node43\" class=\"node\">\n<title>139633777013520</title>\n<polygon fill=\"#d3d3d3\" stroke=\"#000000\" points=\"834,-2451 697,-2451 697,-2432 834,-2432 834,-2451\"/>\n<text text-anchor=\"middle\" x=\"765.5\" y=\"-2439\" font-family=\"monospace\" font-size=\"10.00\" fill=\"#000000\">ConvolutionBackward0</text>\n</g>\n<!-- 139633777013520&#45;&gt;139633776676336 -->\n<g id=\"edge41\" class=\"edge\">\n<title>139633777013520&#45;&gt;139633776676336</title>\n<path fill=\"none\" stroke=\"#000000\" d=\"M790.0602,-2431.9136C816.1359,-2421.7357 857.5276,-2405.5795 886.678,-2394.2015\"/>\n<polygon fill=\"#000000\" stroke=\"#000000\" points=\"888.0118,-2397.4381 896.0547,-2390.5416 885.4665,-2390.9172 888.0118,-2397.4381\"/>\n</g>\n<!-- 139633776676816 -->\n<g id=\"node44\" class=\"node\">\n<title>139633776676816</title>\n<polygon fill=\"#d3d3d3\" stroke=\"#000000\" points=\"667,-2511.5 572,-2511.5 572,-2492.5 667,-2492.5 667,-2511.5\"/>\n<text text-anchor=\"middle\" x=\"619.5\" y=\"-2499.5\" font-family=\"monospace\" font-size=\"10.00\" fill=\"#000000\">ReluBackward0</text>\n</g>\n<!-- 139633776676816&#45;&gt;139633776676672 -->\n<g id=\"edge134\" class=\"edge\">\n<title>139633776676816&#45;&gt;139633776676672</title>\n<path fill=\"none\" stroke=\"#000000\" d=\"M619.2303,-2492.2767C618.6844,-2471.7315 617.5,-2422.3893 617.5,-2381 617.5,-2381 617.5,-2381 617.5,-2254.5 617.5,-2211.5145 656.657,-2174.7374 683.0254,-2154.8449\"/>\n<polygon fill=\"#000000\" stroke=\"#000000\" points=\"685.3675,-2157.4695 691.4024,-2148.7614 681.2543,-2151.8055 685.3675,-2157.4695\"/>\n</g>\n<!-- 139633776676816&#45;&gt;139633777013520 -->\n<g id=\"edge42\" class=\"edge\">\n<title>139633776676816&#45;&gt;139633777013520</title>\n<path fill=\"none\" stroke=\"#000000\" d=\"M642.6341,-2492.4136C666.9822,-2482.3242 705.5071,-2466.3601 732.923,-2454.9994\"/>\n<polygon fill=\"#000000\" stroke=\"#000000\" points=\"734.5757,-2458.1032 742.4741,-2451.0416 731.896,-2451.6364 734.5757,-2458.1032\"/>\n</g>\n<!-- 139633777014192 -->\n<g id=\"node45\" class=\"node\">\n<title>139633777014192</title>\n<polygon fill=\"#d3d3d3\" stroke=\"#000000\" points=\"664,-2577.5 575,-2577.5 575,-2558.5 664,-2558.5 664,-2577.5\"/>\n<text text-anchor=\"middle\" x=\"619.5\" y=\"-2565.5\" font-family=\"monospace\" font-size=\"10.00\" fill=\"#000000\">AddBackward0</text>\n</g>\n<!-- 139633777014192&#45;&gt;139633776676816 -->\n<g id=\"edge43\" class=\"edge\">\n<title>139633777014192&#45;&gt;139633776676816</title>\n<path fill=\"none\" stroke=\"#000000\" d=\"M619.5,-2558.2615C619.5,-2548.7077 619.5,-2533.8615 619.5,-2521.8183\"/>\n<polygon fill=\"#000000\" stroke=\"#000000\" points=\"623.0001,-2521.7784 619.5,-2511.7785 616.0001,-2521.7785 623.0001,-2521.7784\"/>\n</g>\n<!-- 139633777012896 -->\n<g id=\"node46\" class=\"node\">\n<title>139633777012896</title>\n<polygon fill=\"#d3d3d3\" stroke=\"#000000\" points=\"826,-2638 665,-2638 665,-2619 826,-2619 826,-2638\"/>\n<text text-anchor=\"middle\" x=\"745.5\" y=\"-2626\" font-family=\"monospace\" font-size=\"10.00\" fill=\"#000000\">NativeBatchNormBackward0</text>\n</g>\n<!-- 139633777012896&#45;&gt;139633777014192 -->\n<g id=\"edge44\" class=\"edge\">\n<title>139633777012896&#45;&gt;139633777014192</title>\n<path fill=\"none\" stroke=\"#000000\" d=\"M725.5349,-2618.9136C704.7987,-2608.9569 672.1475,-2593.2791 648.5533,-2581.9502\"/>\n<polygon fill=\"#000000\" stroke=\"#000000\" points=\"649.9013,-2578.7149 639.3717,-2577.5416 646.8714,-2585.0252 649.9013,-2578.7149\"/>\n</g>\n<!-- 139633777014288 -->\n<g id=\"node47\" class=\"node\">\n<title>139633777014288</title>\n<polygon fill=\"#d3d3d3\" stroke=\"#000000\" points=\"1049,-2693 912,-2693 912,-2674 1049,-2674 1049,-2693\"/>\n<text text-anchor=\"middle\" x=\"980.5\" y=\"-2681\" font-family=\"monospace\" font-size=\"10.00\" fill=\"#000000\">ConvolutionBackward0</text>\n</g>\n<!-- 139633777014288&#45;&gt;139633777012896 -->\n<g id=\"edge45\" class=\"edge\">\n<title>139633777014288&#45;&gt;139633777012896</title>\n<path fill=\"none\" stroke=\"#000000\" d=\"M939.8344,-2673.9825C900.0655,-2664.6749 839.3855,-2650.4732 796.4259,-2640.4188\"/>\n<polygon fill=\"#000000\" stroke=\"#000000\" points=\"796.9899,-2636.9563 786.4554,-2638.0853 795.3946,-2643.7721 796.9899,-2636.9563\"/>\n</g>\n<!-- 139633777015392 -->\n<g id=\"node48\" class=\"node\">\n<title>139633777015392</title>\n<polygon fill=\"#d3d3d3\" stroke=\"#000000\" points=\"1028,-2753.5 933,-2753.5 933,-2734.5 1028,-2734.5 1028,-2753.5\"/>\n<text text-anchor=\"middle\" x=\"980.5\" y=\"-2741.5\" font-family=\"monospace\" font-size=\"10.00\" fill=\"#000000\">ReluBackward0</text>\n</g>\n<!-- 139633777015392&#45;&gt;139633777014288 -->\n<g id=\"edge46\" class=\"edge\">\n<title>139633777015392&#45;&gt;139633777014288</title>\n<path fill=\"none\" stroke=\"#000000\" d=\"M980.5,-2734.2796C980.5,-2726.0376 980.5,-2713.9457 980.5,-2703.629\"/>\n<polygon fill=\"#000000\" stroke=\"#000000\" points=\"984.0001,-2703.3972 980.5,-2693.3972 977.0001,-2703.3973 984.0001,-2703.3972\"/>\n</g>\n<!-- 139633777013424 -->\n<g id=\"node49\" class=\"node\">\n<title>139633777013424</title>\n<polygon fill=\"#d3d3d3\" stroke=\"#000000\" points=\"1061,-2819.5 900,-2819.5 900,-2800.5 1061,-2800.5 1061,-2819.5\"/>\n<text text-anchor=\"middle\" x=\"980.5\" y=\"-2807.5\" font-family=\"monospace\" font-size=\"10.00\" fill=\"#000000\">NativeBatchNormBackward0</text>\n</g>\n<!-- 139633777013424&#45;&gt;139633777015392 -->\n<g id=\"edge47\" class=\"edge\">\n<title>139633777013424&#45;&gt;139633777015392</title>\n<path fill=\"none\" stroke=\"#000000\" d=\"M980.5,-2800.2615C980.5,-2790.7077 980.5,-2775.8615 980.5,-2763.8183\"/>\n<polygon fill=\"#000000\" stroke=\"#000000\" points=\"984.0001,-2763.7784 980.5,-2753.7785 977.0001,-2763.7785 984.0001,-2763.7784\"/>\n</g>\n<!-- 139633777016208 -->\n<g id=\"node50\" class=\"node\">\n<title>139633777016208</title>\n<polygon fill=\"#d3d3d3\" stroke=\"#000000\" points=\"1010,-2880 873,-2880 873,-2861 1010,-2861 1010,-2880\"/>\n<text text-anchor=\"middle\" x=\"941.5\" y=\"-2868\" font-family=\"monospace\" font-size=\"10.00\" fill=\"#000000\">ConvolutionBackward0</text>\n</g>\n<!-- 139633777016208&#45;&gt;139633777013424 -->\n<g id=\"edge48\" class=\"edge\">\n<title>139633777016208&#45;&gt;139633777013424</title>\n<path fill=\"none\" stroke=\"#000000\" d=\"M947.766,-2860.7796C953.3617,-2852.0992 961.7101,-2839.1485 968.5752,-2828.4987\"/>\n<polygon fill=\"#000000\" stroke=\"#000000\" points=\"971.6436,-2830.1986 974.12,-2819.8972 965.7601,-2826.4059 971.6436,-2830.1986\"/>\n</g>\n<!-- 139633777015776 -->\n<g id=\"node51\" class=\"node\">\n<title>139633777015776</title>\n<polygon fill=\"#d3d3d3\" stroke=\"#000000\" points=\"873,-2940.5 778,-2940.5 778,-2921.5 873,-2921.5 873,-2940.5\"/>\n<text text-anchor=\"middle\" x=\"825.5\" y=\"-2928.5\" font-family=\"monospace\" font-size=\"10.00\" fill=\"#000000\">ReluBackward0</text>\n</g>\n<!-- 139633777015776&#45;&gt;139633777016208 -->\n<g id=\"edge49\" class=\"edge\">\n<title>139633777015776&#45;&gt;139633777016208</title>\n<path fill=\"none\" stroke=\"#000000\" d=\"M843.8805,-2921.4136C862.8013,-2911.5454 892.4974,-2896.0574 914.1713,-2884.7533\"/>\n<polygon fill=\"#000000\" stroke=\"#000000\" points=\"915.9575,-2887.7693 923.2054,-2880.0416 912.7204,-2881.5627 915.9575,-2887.7693\"/>\n</g>\n<!-- 139633777012992 -->\n<g id=\"node114\" class=\"node\">\n<title>139633777012992</title>\n<polygon fill=\"#d3d3d3\" stroke=\"#000000\" points=\"778,-2880 641,-2880 641,-2861 778,-2861 778,-2880\"/>\n<text text-anchor=\"middle\" x=\"709.5\" y=\"-2868\" font-family=\"monospace\" font-size=\"10.00\" fill=\"#000000\">ConvolutionBackward0</text>\n</g>\n<!-- 139633777015776&#45;&gt;139633777012992 -->\n<g id=\"edge115\" class=\"edge\">\n<title>139633777015776&#45;&gt;139633777012992</title>\n<path fill=\"none\" stroke=\"#000000\" d=\"M807.1195,-2921.4136C788.1987,-2911.5454 758.5026,-2896.0574 736.8287,-2884.7533\"/>\n<polygon fill=\"#000000\" stroke=\"#000000\" points=\"738.2796,-2881.5627 727.7946,-2880.0416 735.0425,-2887.7693 738.2796,-2881.5627\"/>\n</g>\n<!-- 139633777067104 -->\n<g id=\"node52\" class=\"node\">\n<title>139633777067104</title>\n<polygon fill=\"#d3d3d3\" stroke=\"#000000\" points=\"870,-3006.5 781,-3006.5 781,-2987.5 870,-2987.5 870,-3006.5\"/>\n<text text-anchor=\"middle\" x=\"825.5\" y=\"-2994.5\" font-family=\"monospace\" font-size=\"10.00\" fill=\"#000000\">AddBackward0</text>\n</g>\n<!-- 139633777067104&#45;&gt;139633777015776 -->\n<g id=\"edge50\" class=\"edge\">\n<title>139633777067104&#45;&gt;139633777015776</title>\n<path fill=\"none\" stroke=\"#000000\" d=\"M825.5,-2987.2615C825.5,-2977.7077 825.5,-2962.8615 825.5,-2950.8183\"/>\n<polygon fill=\"#000000\" stroke=\"#000000\" points=\"829.0001,-2950.7784 825.5,-2940.7785 822.0001,-2950.7785 829.0001,-2950.7784\"/>\n</g>\n<!-- 139633777067440 -->\n<g id=\"node53\" class=\"node\">\n<title>139633777067440</title>\n<polygon fill=\"#d3d3d3\" stroke=\"#000000\" points=\"996,-3067 835,-3067 835,-3048 996,-3048 996,-3067\"/>\n<text text-anchor=\"middle\" x=\"915.5\" y=\"-3055\" font-family=\"monospace\" font-size=\"10.00\" fill=\"#000000\">NativeBatchNormBackward0</text>\n</g>\n<!-- 139633777067440&#45;&gt;139633777067104 -->\n<g id=\"edge51\" class=\"edge\">\n<title>139633777067440&#45;&gt;139633777067104</title>\n<path fill=\"none\" stroke=\"#000000\" d=\"M901.0399,-3047.7796C886.8692,-3038.2537 865.0481,-3023.5851 848.4958,-3012.4583\"/>\n<polygon fill=\"#000000\" stroke=\"#000000\" points=\"850.176,-3009.3705 839.9242,-3006.6962 846.2707,-3015.1799 850.176,-3009.3705\"/>\n</g>\n<!-- 139633777068976 -->\n<g id=\"node54\" class=\"node\">\n<title>139633777068976</title>\n<polygon fill=\"#d3d3d3\" stroke=\"#000000\" points=\"1191,-3122 1054,-3122 1054,-3103 1191,-3103 1191,-3122\"/>\n<text text-anchor=\"middle\" x=\"1122.5\" y=\"-3110\" font-family=\"monospace\" font-size=\"10.00\" fill=\"#000000\">ConvolutionBackward0</text>\n</g>\n<!-- 139633777068976&#45;&gt;139633777067440 -->\n<g id=\"edge52\" class=\"edge\">\n<title>139633777068976&#45;&gt;139633777067440</title>\n<path fill=\"none\" stroke=\"#000000\" d=\"M1086.4434,-3102.9197C1051.6729,-3093.6812 998.9154,-3079.6635 961.2133,-3069.646\"/>\n<polygon fill=\"#000000\" stroke=\"#000000\" points=\"962.0536,-3066.2479 951.4901,-3067.0626 960.256,-3073.0132 962.0536,-3066.2479\"/>\n</g>\n<!-- 139633777069552 -->\n<g id=\"node55\" class=\"node\">\n<title>139633777069552</title>\n<polygon fill=\"#d3d3d3\" stroke=\"#000000\" points=\"1170,-3182.5 1075,-3182.5 1075,-3163.5 1170,-3163.5 1170,-3182.5\"/>\n<text text-anchor=\"middle\" x=\"1122.5\" y=\"-3170.5\" font-family=\"monospace\" font-size=\"10.00\" fill=\"#000000\">ReluBackward0</text>\n</g>\n<!-- 139633777069552&#45;&gt;139633777068976 -->\n<g id=\"edge53\" class=\"edge\">\n<title>139633777069552&#45;&gt;139633777068976</title>\n<path fill=\"none\" stroke=\"#000000\" d=\"M1122.5,-3163.2796C1122.5,-3155.0376 1122.5,-3142.9457 1122.5,-3132.629\"/>\n<polygon fill=\"#000000\" stroke=\"#000000\" points=\"1126.0001,-3132.3972 1122.5,-3122.3972 1119.0001,-3132.3973 1126.0001,-3132.3972\"/>\n</g>\n<!-- 139633777912752 -->\n<g id=\"node56\" class=\"node\">\n<title>139633777912752</title>\n<polygon fill=\"#d3d3d3\" stroke=\"#000000\" points=\"1131,-3248.5 970,-3248.5 970,-3229.5 1131,-3229.5 1131,-3248.5\"/>\n<text text-anchor=\"middle\" x=\"1050.5\" y=\"-3236.5\" font-family=\"monospace\" font-size=\"10.00\" fill=\"#000000\">NativeBatchNormBackward0</text>\n</g>\n<!-- 139633777912752&#45;&gt;139633777069552 -->\n<g id=\"edge54\" class=\"edge\">\n<title>139633777912752&#45;&gt;139633777069552</title>\n<path fill=\"none\" stroke=\"#000000\" d=\"M1061.1238,-3229.2615C1072.5033,-3218.8303 1090.7654,-3202.0901 1104.4155,-3189.5775\"/>\n<polygon fill=\"#000000\" stroke=\"#000000\" points=\"1106.826,-3192.1158 1111.8326,-3182.7785 1102.096,-3186.9557 1106.826,-3192.1158\"/>\n</g>\n<!-- 139633777529136 -->\n<g id=\"node57\" class=\"node\">\n<title>139633777529136</title>\n<polygon fill=\"#d3d3d3\" stroke=\"#000000\" points=\"956,-3309 819,-3309 819,-3290 956,-3290 956,-3309\"/>\n<text text-anchor=\"middle\" x=\"887.5\" y=\"-3297\" font-family=\"monospace\" font-size=\"10.00\" fill=\"#000000\">ConvolutionBackward0</text>\n</g>\n<!-- 139633777529136&#45;&gt;139633777912752 -->\n<g id=\"edge55\" class=\"edge\">\n<title>139633777529136&#45;&gt;139633777912752</title>\n<path fill=\"none\" stroke=\"#000000\" d=\"M913.3278,-3289.9136C940.8686,-3279.6914 984.6563,-3263.4389 1015.3315,-3252.0533\"/>\n<polygon fill=\"#000000\" stroke=\"#000000\" points=\"1016.6359,-3255.3026 1024.793,-3248.5416 1014.2,-3248.74 1016.6359,-3255.3026\"/>\n</g>\n<!-- 139633777068688 -->\n<g id=\"node58\" class=\"node\">\n<title>139633777068688</title>\n<polygon fill=\"#d3d3d3\" stroke=\"#000000\" points=\"789,-3369.5 694,-3369.5 694,-3350.5 789,-3350.5 789,-3369.5\"/>\n<text text-anchor=\"middle\" x=\"741.5\" y=\"-3357.5\" font-family=\"monospace\" font-size=\"10.00\" fill=\"#000000\">ReluBackward0</text>\n</g>\n<!-- 139633777068688&#45;&gt;139633777067104 -->\n<g id=\"edge100\" class=\"edge\">\n<title>139633777068688&#45;&gt;139633777067104</title>\n<path fill=\"none\" stroke=\"#000000\" d=\"M740.8257,-3350.2814C739.4609,-3329.7451 736.5,-3280.419 736.5,-3239 736.5,-3239 736.5,-3239 736.5,-3112.5 736.5,-3069.5145 775.657,-3032.7374 802.0254,-3012.8449\"/>\n<polygon fill=\"#000000\" stroke=\"#000000\" points=\"804.3675,-3015.4695 810.4024,-3006.7614 800.2543,-3009.8055 804.3675,-3015.4695\"/>\n</g>\n<!-- 139633777068688&#45;&gt;139633777529136 -->\n<g id=\"edge56\" class=\"edge\">\n<title>139633777068688&#45;&gt;139633777529136</title>\n<path fill=\"none\" stroke=\"#000000\" d=\"M764.6341,-3350.4136C788.9822,-3340.3242 827.5071,-3324.3601 854.923,-3312.9994\"/>\n<polygon fill=\"#000000\" stroke=\"#000000\" points=\"856.5757,-3316.1032 864.4741,-3309.0416 853.896,-3309.6364 856.5757,-3316.1032\"/>\n</g>\n<!-- 139633777104304 -->\n<g id=\"node59\" class=\"node\">\n<title>139633777104304</title>\n<polygon fill=\"#d3d3d3\" stroke=\"#000000\" points=\"786,-3435.5 697,-3435.5 697,-3416.5 786,-3416.5 786,-3435.5\"/>\n<text text-anchor=\"middle\" x=\"741.5\" y=\"-3423.5\" font-family=\"monospace\" font-size=\"10.00\" fill=\"#000000\">AddBackward0</text>\n</g>\n<!-- 139633777104304&#45;&gt;139633777068688 -->\n<g id=\"edge57\" class=\"edge\">\n<title>139633777104304&#45;&gt;139633777068688</title>\n<path fill=\"none\" stroke=\"#000000\" d=\"M741.5,-3416.2615C741.5,-3406.7077 741.5,-3391.8615 741.5,-3379.8183\"/>\n<polygon fill=\"#000000\" stroke=\"#000000\" points=\"745.0001,-3379.7784 741.5,-3369.7785 738.0001,-3379.7785 745.0001,-3379.7784\"/>\n</g>\n<!-- 139633776710656 -->\n<g id=\"node60\" class=\"node\">\n<title>139633776710656</title>\n<polygon fill=\"#d3d3d3\" stroke=\"#000000\" points=\"887,-3496 726,-3496 726,-3477 887,-3477 887,-3496\"/>\n<text text-anchor=\"middle\" x=\"806.5\" y=\"-3484\" font-family=\"monospace\" font-size=\"10.00\" fill=\"#000000\">NativeBatchNormBackward0</text>\n</g>\n<!-- 139633776710656&#45;&gt;139633777104304 -->\n<g id=\"edge58\" class=\"edge\">\n<title>139633776710656&#45;&gt;139633777104304</title>\n<path fill=\"none\" stroke=\"#000000\" d=\"M796.0566,-3476.7796C786.2596,-3467.6608 771.3994,-3453.8294 759.6608,-3442.9035\"/>\n<polygon fill=\"#000000\" stroke=\"#000000\" points=\"761.8379,-3440.1484 752.1334,-3435.8972 757.0687,-3445.2724 761.8379,-3440.1484\"/>\n</g>\n<!-- 139633776712768 -->\n<g id=\"node61\" class=\"node\">\n<title>139633776712768</title>\n<polygon fill=\"#d3d3d3\" stroke=\"#000000\" points=\"1142,-3551 1005,-3551 1005,-3532 1142,-3532 1142,-3551\"/>\n<text text-anchor=\"middle\" x=\"1073.5\" y=\"-3539\" font-family=\"monospace\" font-size=\"10.00\" fill=\"#000000\">ConvolutionBackward0</text>\n</g>\n<!-- 139633776712768&#45;&gt;139633776710656 -->\n<g id=\"edge59\" class=\"edge\">\n<title>139633776712768&#45;&gt;139633776710656</title>\n<path fill=\"none\" stroke=\"#000000\" d=\"M1027.297,-3531.9825C981.7314,-3522.5964 912.0046,-3508.2332 863.1291,-3498.1652\"/>\n<polygon fill=\"#000000\" stroke=\"#000000\" points=\"863.5328,-3494.6749 853.0323,-3496.0853 862.1205,-3501.531 863.5328,-3494.6749\"/>\n</g>\n<!-- 139633777295952 -->\n<g id=\"node62\" class=\"node\">\n<title>139633777295952</title>\n<polygon fill=\"#d3d3d3\" stroke=\"#000000\" points=\"1121,-3611.5 1026,-3611.5 1026,-3592.5 1121,-3592.5 1121,-3611.5\"/>\n<text text-anchor=\"middle\" x=\"1073.5\" y=\"-3599.5\" font-family=\"monospace\" font-size=\"10.00\" fill=\"#000000\">ReluBackward0</text>\n</g>\n<!-- 139633777295952&#45;&gt;139633776712768 -->\n<g id=\"edge60\" class=\"edge\">\n<title>139633777295952&#45;&gt;139633776712768</title>\n<path fill=\"none\" stroke=\"#000000\" d=\"M1073.5,-3592.2796C1073.5,-3584.0376 1073.5,-3571.9457 1073.5,-3561.629\"/>\n<polygon fill=\"#000000\" stroke=\"#000000\" points=\"1077.0001,-3561.3972 1073.5,-3551.3972 1070.0001,-3561.3973 1077.0001,-3561.3972\"/>\n</g>\n<!-- 139633777083680 -->\n<g id=\"node63\" class=\"node\">\n<title>139633777083680</title>\n<polygon fill=\"#d3d3d3\" stroke=\"#000000\" points=\"1083,-3677.5 922,-3677.5 922,-3658.5 1083,-3658.5 1083,-3677.5\"/>\n<text text-anchor=\"middle\" x=\"1002.5\" y=\"-3665.5\" font-family=\"monospace\" font-size=\"10.00\" fill=\"#000000\">NativeBatchNormBackward0</text>\n</g>\n<!-- 139633777083680&#45;&gt;139633777295952 -->\n<g id=\"edge61\" class=\"edge\">\n<title>139633777083680&#45;&gt;139633777295952</title>\n<path fill=\"none\" stroke=\"#000000\" d=\"M1012.9763,-3658.2615C1024.0928,-3647.9278 1041.8701,-3631.4024 1055.288,-3618.9294\"/>\n<polygon fill=\"#000000\" stroke=\"#000000\" points=\"1058.0394,-3621.1505 1062.9807,-3611.7785 1053.2735,-3616.0235 1058.0394,-3621.1505\"/>\n</g>\n<!-- 139633777086416 -->\n<g id=\"node64\" class=\"node\">\n<title>139633777086416</title>\n<polygon fill=\"#d3d3d3\" stroke=\"#000000\" points=\"926,-3738 789,-3738 789,-3719 926,-3719 926,-3738\"/>\n<text text-anchor=\"middle\" x=\"857.5\" y=\"-3726\" font-family=\"monospace\" font-size=\"10.00\" fill=\"#000000\">ConvolutionBackward0</text>\n</g>\n<!-- 139633777086416&#45;&gt;139633777083680 -->\n<g id=\"edge62\" class=\"edge\">\n<title>139633777086416&#45;&gt;139633777083680</title>\n<path fill=\"none\" stroke=\"#000000\" d=\"M880.4757,-3718.9136C904.657,-3708.8242 942.9181,-3692.8601 970.1461,-3681.4994\"/>\n<polygon fill=\"#000000\" stroke=\"#000000\" points=\"971.7507,-3684.6224 979.6318,-3677.5416 969.0552,-3678.1622 971.7507,-3684.6224\"/>\n</g>\n<!-- 139633776709744 -->\n<g id=\"node65\" class=\"node\">\n<title>139633776709744</title>\n<polygon fill=\"#d3d3d3\" stroke=\"#000000\" points=\"784,-3798.5 593,-3798.5 593,-3779.5 784,-3779.5 784,-3798.5\"/>\n<text text-anchor=\"middle\" x=\"688.5\" y=\"-3786.5\" font-family=\"monospace\" font-size=\"10.00\" fill=\"#000000\">MaxPool2DWithIndicesBackward0</text>\n</g>\n<!-- 139633776709744&#45;&gt;139633777104304 -->\n<g id=\"edge87\" class=\"edge\">\n<title>139633776709744&#45;&gt;139633777104304</title>\n<path fill=\"none\" stroke=\"#000000\" d=\"M688.3651,-3779.276C688.0922,-3758.7295 687.5,-3709.3851 687.5,-3668 687.5,-3668 687.5,-3668 687.5,-3541.5 687.5,-3503.9519 711.209,-3465.4526 727.2072,-3443.7483\"/>\n<polygon fill=\"#000000\" stroke=\"#000000\" points=\"730.0059,-3445.8503 733.2986,-3435.7801 724.4447,-3441.599 730.0059,-3445.8503\"/>\n</g>\n<!-- 139633776709744&#45;&gt;139633777086416 -->\n<g id=\"edge63\" class=\"edge\">\n<title>139633776709744&#45;&gt;139633777086416</title>\n<path fill=\"none\" stroke=\"#000000\" d=\"M715.2786,-3779.4136C743.8331,-3769.1914 789.2326,-3752.9389 821.0369,-3741.5533\"/>\n<polygon fill=\"#000000\" stroke=\"#000000\" points=\"822.6115,-3744.7073 830.8467,-3738.0416 820.2522,-3738.1168 822.6115,-3744.7073\"/>\n</g>\n<!-- 139633777082624 -->\n<g id=\"node66\" class=\"node\">\n<title>139633777082624</title>\n<polygon fill=\"#d3d3d3\" stroke=\"#000000\" points=\"736,-3864.5 641,-3864.5 641,-3845.5 736,-3845.5 736,-3864.5\"/>\n<text text-anchor=\"middle\" x=\"688.5\" y=\"-3852.5\" font-family=\"monospace\" font-size=\"10.00\" fill=\"#000000\">ReluBackward0</text>\n</g>\n<!-- 139633777082624&#45;&gt;139633776709744 -->\n<g id=\"edge64\" class=\"edge\">\n<title>139633777082624&#45;&gt;139633776709744</title>\n<path fill=\"none\" stroke=\"#000000\" d=\"M688.5,-3845.2615C688.5,-3835.7077 688.5,-3820.8615 688.5,-3808.8183\"/>\n<polygon fill=\"#000000\" stroke=\"#000000\" points=\"692.0001,-3808.7784 688.5,-3798.7785 685.0001,-3808.7785 692.0001,-3808.7784\"/>\n</g>\n<!-- 139633779038624 -->\n<g id=\"node67\" class=\"node\">\n<title>139633779038624</title>\n<polygon fill=\"#d3d3d3\" stroke=\"#000000\" points=\"769,-3925 608,-3925 608,-3906 769,-3906 769,-3925\"/>\n<text text-anchor=\"middle\" x=\"688.5\" y=\"-3913\" font-family=\"monospace\" font-size=\"10.00\" fill=\"#000000\">NativeBatchNormBackward0</text>\n</g>\n<!-- 139633779038624&#45;&gt;139633777082624 -->\n<g id=\"edge65\" class=\"edge\">\n<title>139633779038624&#45;&gt;139633777082624</title>\n<path fill=\"none\" stroke=\"#000000\" d=\"M688.5,-3905.7796C688.5,-3897.5376 688.5,-3885.4457 688.5,-3875.129\"/>\n<polygon fill=\"#000000\" stroke=\"#000000\" points=\"692.0001,-3874.8972 688.5,-3864.8972 685.0001,-3874.8973 692.0001,-3874.8972\"/>\n</g>\n<!-- 139633777004656 -->\n<g id=\"node68\" class=\"node\">\n<title>139633777004656</title>\n<polygon fill=\"#d3d3d3\" stroke=\"#000000\" points=\"620,-3980 483,-3980 483,-3961 620,-3961 620,-3980\"/>\n<text text-anchor=\"middle\" x=\"551.5\" y=\"-3968\" font-family=\"monospace\" font-size=\"10.00\" fill=\"#000000\">ConvolutionBackward0</text>\n</g>\n<!-- 139633777004656&#45;&gt;139633779038624 -->\n<g id=\"edge66\" class=\"edge\">\n<title>139633777004656&#45;&gt;139633779038624</title>\n<path fill=\"none\" stroke=\"#000000\" d=\"M575.3636,-3960.9197C597.4269,-3952.0622 630.4331,-3938.8115 655.109,-3928.9052\"/>\n<polygon fill=\"#000000\" stroke=\"#000000\" points=\"656.4741,-3932.1287 664.4502,-3925.155 653.8661,-3925.6326 656.4741,-3932.1287\"/>\n</g>\n<!-- 139633777006000 -->\n<g id=\"node69\" class=\"node\">\n<title>139633777006000</title>\n<polygon fill=\"#d3d3d3\" stroke=\"#000000\" points=\"490,-4040.5 389,-4040.5 389,-4021.5 490,-4021.5 490,-4040.5\"/>\n<text text-anchor=\"middle\" x=\"439.5\" y=\"-4028.5\" font-family=\"monospace\" font-size=\"10.00\" fill=\"#000000\">AccumulateGrad</text>\n</g>\n<!-- 139633777006000&#45;&gt;139633777004656 -->\n<g id=\"edge67\" class=\"edge\">\n<title>139633777006000&#45;&gt;139633777004656</title>\n<path fill=\"none\" stroke=\"#000000\" d=\"M457.4947,-4021.2796C475.6193,-4011.4891 503.8006,-3996.2662 524.584,-3985.0394\"/>\n<polygon fill=\"#000000\" stroke=\"#000000\" points=\"526.415,-3988.0284 533.5499,-3980.1962 523.088,-3981.8696 526.415,-3988.0284\"/>\n</g>\n<!-- 139633776708160 -->\n<g id=\"node70\" class=\"node\">\n<title>139633776708160</title>\n<polygon fill=\"#add8e6\" stroke=\"#000000\" points=\"490,-4112 383,-4112 383,-4082 490,-4082 490,-4112\"/>\n<text text-anchor=\"middle\" x=\"436.5\" y=\"-4100\" font-family=\"monospace\" font-size=\"10.00\" fill=\"#000000\">x</text>\n<text text-anchor=\"middle\" x=\"436.5\" y=\"-4089\" font-family=\"monospace\" font-size=\"10.00\" fill=\"#000000\"> (2, 3, 32, 32)</text>\n</g>\n<!-- 139633776708160&#45;&gt;139633777006000 -->\n<g id=\"edge68\" class=\"edge\">\n<title>139633776708160&#45;&gt;139633777006000</title>\n<path fill=\"none\" stroke=\"#000000\" d=\"M437.1958,-4081.6924C437.6133,-4072.5067 438.1489,-4060.7245 438.5986,-4050.8312\"/>\n<polygon fill=\"#000000\" stroke=\"#000000\" points=\"442.1012,-4050.8517 439.059,-4040.7031 435.1084,-4050.5338 442.1012,-4050.8517\"/>\n</g>\n<!-- 139633777005040 -->\n<g id=\"node71\" class=\"node\">\n<title>139633777005040</title>\n<polygon fill=\"#d3d3d3\" stroke=\"#000000\" points=\"610,-4040.5 509,-4040.5 509,-4021.5 610,-4021.5 610,-4040.5\"/>\n<text text-anchor=\"middle\" x=\"559.5\" y=\"-4028.5\" font-family=\"monospace\" font-size=\"10.00\" fill=\"#000000\">AccumulateGrad</text>\n</g>\n<!-- 139633777005040&#45;&gt;139633777004656 -->\n<g id=\"edge69\" class=\"edge\">\n<title>139633777005040&#45;&gt;139633777004656</title>\n<path fill=\"none\" stroke=\"#000000\" d=\"M558.2147,-4021.2796C557.1248,-4013.0376 555.5259,-4000.9457 554.1617,-3990.629\"/>\n<polygon fill=\"#000000\" stroke=\"#000000\" points=\"557.5895,-3989.8521 552.8087,-3980.3972 550.6499,-3990.7698 557.5895,-3989.8521\"/>\n</g>\n<!-- 139633776857152 -->\n<g id=\"node72\" class=\"node\">\n<title>139633776857152</title>\n<polygon fill=\"#add8e6\" stroke=\"#000000\" points=\"615,-4112 508,-4112 508,-4082 615,-4082 615,-4112\"/>\n<text text-anchor=\"middle\" x=\"561.5\" y=\"-4100\" font-family=\"monospace\" font-size=\"10.00\" fill=\"#000000\">resnet.0.weight</text>\n<text text-anchor=\"middle\" x=\"561.5\" y=\"-4089\" font-family=\"monospace\" font-size=\"10.00\" fill=\"#000000\"> (64, 3, 7, 7)</text>\n</g>\n<!-- 139633776857152&#45;&gt;139633777005040 -->\n<g id=\"edge70\" class=\"edge\">\n<title>139633776857152&#45;&gt;139633777005040</title>\n<path fill=\"none\" stroke=\"#000000\" d=\"M561.0361,-4081.6924C560.7578,-4072.5067 560.4007,-4060.7245 560.1009,-4050.8312\"/>\n<polygon fill=\"#000000\" stroke=\"#000000\" points=\"563.5954,-4050.5924 559.794,-4040.7031 556.5986,-4050.8045 563.5954,-4050.5924\"/>\n</g>\n<!-- 139633777004848 -->\n<g id=\"node73\" class=\"node\">\n<title>139633777004848</title>\n<polygon fill=\"#d3d3d3\" stroke=\"#000000\" points=\"739,-3980 638,-3980 638,-3961 739,-3961 739,-3980\"/>\n<text text-anchor=\"middle\" x=\"688.5\" y=\"-3968\" font-family=\"monospace\" font-size=\"10.00\" fill=\"#000000\">AccumulateGrad</text>\n</g>\n<!-- 139633777004848&#45;&gt;139633779038624 -->\n<g id=\"edge71\" class=\"edge\">\n<title>139633777004848&#45;&gt;139633779038624</title>\n<path fill=\"none\" stroke=\"#000000\" d=\"M688.5,-3960.9197C688.5,-3953.9083 688.5,-3944.1442 688.5,-3935.4652\"/>\n<polygon fill=\"#000000\" stroke=\"#000000\" points=\"692.0001,-3935.3408 688.5,-3925.3408 685.0001,-3935.3409 692.0001,-3935.3408\"/>\n</g>\n<!-- 139633776857792 -->\n<g id=\"node74\" class=\"node\">\n<title>139633776857792</title>\n<polygon fill=\"#add8e6\" stroke=\"#000000\" points=\"742,-4046 635,-4046 635,-4016 742,-4016 742,-4046\"/>\n<text text-anchor=\"middle\" x=\"688.5\" y=\"-4034\" font-family=\"monospace\" font-size=\"10.00\" fill=\"#000000\">resnet.1.weight</text>\n<text text-anchor=\"middle\" x=\"688.5\" y=\"-4023\" font-family=\"monospace\" font-size=\"10.00\" fill=\"#000000\"> (64)</text>\n</g>\n<!-- 139633776857792&#45;&gt;139633777004848 -->\n<g id=\"edge72\" class=\"edge\">\n<title>139633776857792&#45;&gt;139633777004848</title>\n<path fill=\"none\" stroke=\"#000000\" d=\"M688.5,-4015.7333C688.5,-4008.0322 688.5,-3998.5977 688.5,-3990.3414\"/>\n<polygon fill=\"#000000\" stroke=\"#000000\" points=\"692.0001,-3990.0864 688.5,-3980.0864 685.0001,-3990.0864 692.0001,-3990.0864\"/>\n</g>\n<!-- 139633777006384 -->\n<g id=\"node75\" class=\"node\">\n<title>139633777006384</title>\n<polygon fill=\"#d3d3d3\" stroke=\"#000000\" points=\"858,-3980 757,-3980 757,-3961 858,-3961 858,-3980\"/>\n<text text-anchor=\"middle\" x=\"807.5\" y=\"-3968\" font-family=\"monospace\" font-size=\"10.00\" fill=\"#000000\">AccumulateGrad</text>\n</g>\n<!-- 139633777006384&#45;&gt;139633779038624 -->\n<g id=\"edge73\" class=\"edge\">\n<title>139633777006384&#45;&gt;139633779038624</title>\n<path fill=\"none\" stroke=\"#000000\" d=\"M786.7718,-3960.9197C767.9465,-3952.219 739.9495,-3939.2792 718.6487,-3929.4343\"/>\n<polygon fill=\"#000000\" stroke=\"#000000\" points=\"719.9357,-3926.1734 709.39,-3925.155 716.9989,-3932.5276 719.9357,-3926.1734\"/>\n</g>\n<!-- 139633776858512 -->\n<g id=\"node76\" class=\"node\">\n<title>139633776858512</title>\n<polygon fill=\"#add8e6\" stroke=\"#000000\" points=\"855,-4046 760,-4046 760,-4016 855,-4016 855,-4046\"/>\n<text text-anchor=\"middle\" x=\"807.5\" y=\"-4034\" font-family=\"monospace\" font-size=\"10.00\" fill=\"#000000\">resnet.1.bias</text>\n<text text-anchor=\"middle\" x=\"807.5\" y=\"-4023\" font-family=\"monospace\" font-size=\"10.00\" fill=\"#000000\"> (64)</text>\n</g>\n<!-- 139633776858512&#45;&gt;139633777006384 -->\n<g id=\"edge74\" class=\"edge\">\n<title>139633776858512&#45;&gt;139633777006384</title>\n<path fill=\"none\" stroke=\"#000000\" d=\"M807.5,-4015.7333C807.5,-4008.0322 807.5,-3998.5977 807.5,-3990.3414\"/>\n<polygon fill=\"#000000\" stroke=\"#000000\" points=\"811.0001,-3990.0864 807.5,-3980.0864 804.0001,-3990.0864 811.0001,-3990.0864\"/>\n</g>\n<!-- 139633777085024 -->\n<g id=\"node77\" class=\"node\">\n<title>139633777085024</title>\n<polygon fill=\"#d3d3d3\" stroke=\"#000000\" points=\"908,-3798.5 807,-3798.5 807,-3779.5 908,-3779.5 908,-3798.5\"/>\n<text text-anchor=\"middle\" x=\"857.5\" y=\"-3786.5\" font-family=\"monospace\" font-size=\"10.00\" fill=\"#000000\">AccumulateGrad</text>\n</g>\n<!-- 139633777085024&#45;&gt;139633777086416 -->\n<g id=\"edge75\" class=\"edge\">\n<title>139633777085024&#45;&gt;139633777086416</title>\n<path fill=\"none\" stroke=\"#000000\" d=\"M857.5,-3779.2796C857.5,-3771.0376 857.5,-3758.9457 857.5,-3748.629\"/>\n<polygon fill=\"#000000\" stroke=\"#000000\" points=\"861.0001,-3748.3972 857.5,-3738.3972 854.0001,-3748.3973 861.0001,-3748.3972\"/>\n</g>\n<!-- 139633777074880 -->\n<g id=\"node78\" class=\"node\">\n<title>139633777074880</title>\n<polygon fill=\"#add8e6\" stroke=\"#000000\" points=\"935,-3870 780,-3870 780,-3840 935,-3840 935,-3870\"/>\n<text text-anchor=\"middle\" x=\"857.5\" y=\"-3858\" font-family=\"monospace\" font-size=\"10.00\" fill=\"#000000\">resnet.4.0.conv1.weight</text>\n<text text-anchor=\"middle\" x=\"857.5\" y=\"-3847\" font-family=\"monospace\" font-size=\"10.00\" fill=\"#000000\"> (64, 64, 3, 3)</text>\n</g>\n<!-- 139633777074880&#45;&gt;139633777085024 -->\n<g id=\"edge76\" class=\"edge\">\n<title>139633777074880&#45;&gt;139633777085024</title>\n<path fill=\"none\" stroke=\"#000000\" d=\"M857.5,-3839.6924C857.5,-3830.5067 857.5,-3818.7245 857.5,-3808.8312\"/>\n<polygon fill=\"#000000\" stroke=\"#000000\" points=\"861.0001,-3808.703 857.5,-3798.7031 854.0001,-3808.7031 861.0001,-3808.703\"/>\n</g>\n<!-- 139633777085168 -->\n<g id=\"node79\" class=\"node\">\n<title>139633777085168</title>\n<polygon fill=\"#d3d3d3\" stroke=\"#000000\" points=\"1052,-3738 951,-3738 951,-3719 1052,-3719 1052,-3738\"/>\n<text text-anchor=\"middle\" x=\"1001.5\" y=\"-3726\" font-family=\"monospace\" font-size=\"10.00\" fill=\"#000000\">AccumulateGrad</text>\n</g>\n<!-- 139633777085168&#45;&gt;139633777083680 -->\n<g id=\"edge77\" class=\"edge\">\n<title>139633777085168&#45;&gt;139633777083680</title>\n<path fill=\"none\" stroke=\"#000000\" d=\"M1001.6607,-3718.7796C1001.7969,-3710.5376 1001.9968,-3698.4457 1002.1673,-3688.129\"/>\n<polygon fill=\"#000000\" stroke=\"#000000\" points=\"1005.6706,-3687.9537 1002.3364,-3677.8972 998.6715,-3687.838 1005.6706,-3687.9537\"/>\n</g>\n<!-- 139633777074800 -->\n<g id=\"node80\" class=\"node\">\n<title>139633777074800</title>\n<polygon fill=\"#add8e6\" stroke=\"#000000\" points=\"1072,-3804 929,-3804 929,-3774 1072,-3774 1072,-3804\"/>\n<text text-anchor=\"middle\" x=\"1000.5\" y=\"-3792\" font-family=\"monospace\" font-size=\"10.00\" fill=\"#000000\">resnet.4.0.bn1.weight</text>\n<text text-anchor=\"middle\" x=\"1000.5\" y=\"-3781\" font-family=\"monospace\" font-size=\"10.00\" fill=\"#000000\"> (64)</text>\n</g>\n<!-- 139633777074800&#45;&gt;139633777085168 -->\n<g id=\"edge78\" class=\"edge\">\n<title>139633777074800&#45;&gt;139633777085168</title>\n<path fill=\"none\" stroke=\"#000000\" d=\"M1000.7523,-3773.7333C1000.8796,-3766.0322 1001.0356,-3756.5977 1001.172,-3748.3414\"/>\n<polygon fill=\"#000000\" stroke=\"#000000\" points=\"1004.6757,-3748.1429 1001.3415,-3738.0864 997.6767,-3748.0272 1004.6757,-3748.1429\"/>\n</g>\n<!-- 139633777085648 -->\n<g id=\"node81\" class=\"node\">\n<title>139633777085648</title>\n<polygon fill=\"#d3d3d3\" stroke=\"#000000\" points=\"1189,-3738 1088,-3738 1088,-3719 1189,-3719 1189,-3738\"/>\n<text text-anchor=\"middle\" x=\"1138.5\" y=\"-3726\" font-family=\"monospace\" font-size=\"10.00\" fill=\"#000000\">AccumulateGrad</text>\n</g>\n<!-- 139633777085648&#45;&gt;139633777083680 -->\n<g id=\"edge79\" class=\"edge\">\n<title>139633777085648&#45;&gt;139633777083680</title>\n<path fill=\"none\" stroke=\"#000000\" d=\"M1116.9504,-3718.9136C1094.3695,-3708.8684 1058.6983,-3693 1033.1823,-3681.6491\"/>\n<polygon fill=\"#000000\" stroke=\"#000000\" points=\"1034.5081,-3678.4083 1023.9488,-3677.5416 1031.6629,-3684.804 1034.5081,-3678.4083\"/>\n</g>\n<!-- 139633777074720 -->\n<g id=\"node82\" class=\"node\">\n<title>139633777074720</title>\n<polygon fill=\"#add8e6\" stroke=\"#000000\" points=\"1221,-3804 1090,-3804 1090,-3774 1221,-3774 1221,-3804\"/>\n<text text-anchor=\"middle\" x=\"1155.5\" y=\"-3792\" font-family=\"monospace\" font-size=\"10.00\" fill=\"#000000\">resnet.4.0.bn1.bias</text>\n<text text-anchor=\"middle\" x=\"1155.5\" y=\"-3781\" font-family=\"monospace\" font-size=\"10.00\" fill=\"#000000\"> (64)</text>\n</g>\n<!-- 139633777074720&#45;&gt;139633777085648 -->\n<g id=\"edge80\" class=\"edge\">\n<title>139633777074720&#45;&gt;139633777085648</title>\n<path fill=\"none\" stroke=\"#000000\" d=\"M1151.2102,-3773.7333C1148.997,-3765.8571 1146.2745,-3756.168 1143.9176,-3747.7803\"/>\n<polygon fill=\"#000000\" stroke=\"#000000\" points=\"1147.2684,-3746.7667 1141.1937,-3738.0864 1140.5294,-3748.6604 1147.2684,-3746.7667\"/>\n</g>\n<!-- 139633777298832 -->\n<g id=\"node83\" class=\"node\">\n<title>139633777298832</title>\n<polygon fill=\"#d3d3d3\" stroke=\"#000000\" points=\"1240,-3611.5 1139,-3611.5 1139,-3592.5 1240,-3592.5 1240,-3611.5\"/>\n<text text-anchor=\"middle\" x=\"1189.5\" y=\"-3599.5\" font-family=\"monospace\" font-size=\"10.00\" fill=\"#000000\">AccumulateGrad</text>\n</g>\n<!-- 139633777298832&#45;&gt;139633776712768 -->\n<g id=\"edge81\" class=\"edge\">\n<title>139633777298832&#45;&gt;139633776712768</title>\n<path fill=\"none\" stroke=\"#000000\" d=\"M1171.1195,-3592.4136C1152.1987,-3582.5454 1122.5026,-3567.0574 1100.8287,-3555.7533\"/>\n<polygon fill=\"#000000\" stroke=\"#000000\" points=\"1102.2796,-3552.5627 1091.7946,-3551.0416 1099.0425,-3558.7693 1102.2796,-3552.5627\"/>\n</g>\n<!-- 139633777075200 -->\n<g id=\"node84\" class=\"node\">\n<title>139633777075200</title>\n<polygon fill=\"#add8e6\" stroke=\"#000000\" points=\"1267,-3683 1112,-3683 1112,-3653 1267,-3653 1267,-3683\"/>\n<text text-anchor=\"middle\" x=\"1189.5\" y=\"-3671\" font-family=\"monospace\" font-size=\"10.00\" fill=\"#000000\">resnet.4.0.conv2.weight</text>\n<text text-anchor=\"middle\" x=\"1189.5\" y=\"-3660\" font-family=\"monospace\" font-size=\"10.00\" fill=\"#000000\"> (64, 64, 3, 3)</text>\n</g>\n<!-- 139633777075200&#45;&gt;139633777298832 -->\n<g id=\"edge82\" class=\"edge\">\n<title>139633777075200&#45;&gt;139633777298832</title>\n<path fill=\"none\" stroke=\"#000000\" d=\"M1189.5,-3652.6924C1189.5,-3643.5067 1189.5,-3631.7245 1189.5,-3621.8312\"/>\n<polygon fill=\"#000000\" stroke=\"#000000\" points=\"1193.0001,-3621.703 1189.5,-3611.7031 1186.0001,-3621.7031 1193.0001,-3621.703\"/>\n</g>\n<!-- 139633776712528 -->\n<g id=\"node85\" class=\"node\">\n<title>139633776712528</title>\n<polygon fill=\"#d3d3d3\" stroke=\"#000000\" points=\"848,-3551 747,-3551 747,-3532 848,-3532 848,-3551\"/>\n<text text-anchor=\"middle\" x=\"797.5\" y=\"-3539\" font-family=\"monospace\" font-size=\"10.00\" fill=\"#000000\">AccumulateGrad</text>\n</g>\n<!-- 139633776712528&#45;&gt;139633776710656 -->\n<g id=\"edge83\" class=\"edge\">\n<title>139633776712528&#45;&gt;139633776710656</title>\n<path fill=\"none\" stroke=\"#000000\" d=\"M799.0677,-3531.9197C800.215,-3524.9083 801.8128,-3515.1442 803.233,-3506.4652\"/>\n<polygon fill=\"#000000\" stroke=\"#000000\" points=\"806.7288,-3506.7748 804.8897,-3496.3408 799.8207,-3505.6443 806.7288,-3506.7748\"/>\n</g>\n<!-- 139633777075440 -->\n<g id=\"node86\" class=\"node\">\n<title>139633777075440</title>\n<polygon fill=\"#add8e6\" stroke=\"#000000\" points=\"859,-3617 716,-3617 716,-3587 859,-3587 859,-3617\"/>\n<text text-anchor=\"middle\" x=\"787.5\" y=\"-3605\" font-family=\"monospace\" font-size=\"10.00\" fill=\"#000000\">resnet.4.0.bn2.weight</text>\n<text text-anchor=\"middle\" x=\"787.5\" y=\"-3594\" font-family=\"monospace\" font-size=\"10.00\" fill=\"#000000\"> (64)</text>\n</g>\n<!-- 139633777075440&#45;&gt;139633776712528 -->\n<g id=\"edge84\" class=\"edge\">\n<title>139633777075440&#45;&gt;139633776712528</title>\n<path fill=\"none\" stroke=\"#000000\" d=\"M790.0234,-3586.7333C791.3108,-3578.9447 792.8912,-3569.3831 794.2669,-3561.0604\"/>\n<polygon fill=\"#000000\" stroke=\"#000000\" points=\"797.7378,-3561.5233 795.9155,-3551.0864 790.8315,-3560.3817 797.7378,-3561.5233\"/>\n</g>\n<!-- 139633776710896 -->\n<g id=\"node87\" class=\"node\">\n<title>139633776710896</title>\n<polygon fill=\"#d3d3d3\" stroke=\"#000000\" points=\"982,-3551 881,-3551 881,-3532 982,-3532 982,-3551\"/>\n<text text-anchor=\"middle\" x=\"931.5\" y=\"-3539\" font-family=\"monospace\" font-size=\"10.00\" fill=\"#000000\">AccumulateGrad</text>\n</g>\n<!-- 139633776710896&#45;&gt;139633776710656 -->\n<g id=\"edge85\" class=\"edge\">\n<title>139633776710896&#45;&gt;139633776710656</title>\n<path fill=\"none\" stroke=\"#000000\" d=\"M909.7267,-3531.9197C889.8631,-3523.1798 860.2785,-3510.1625 837.8668,-3500.3014\"/>\n<polygon fill=\"#000000\" stroke=\"#000000\" points=\"839.006,-3496.9789 828.4432,-3496.155 836.1868,-3503.3861 839.006,-3496.9789\"/>\n</g>\n<!-- 139633777075280 -->\n<g id=\"node88\" class=\"node\">\n<title>139633777075280</title>\n<polygon fill=\"#add8e6\" stroke=\"#000000\" points=\"1008,-3617 877,-3617 877,-3587 1008,-3587 1008,-3617\"/>\n<text text-anchor=\"middle\" x=\"942.5\" y=\"-3605\" font-family=\"monospace\" font-size=\"10.00\" fill=\"#000000\">resnet.4.0.bn2.bias</text>\n<text text-anchor=\"middle\" x=\"942.5\" y=\"-3594\" font-family=\"monospace\" font-size=\"10.00\" fill=\"#000000\"> (64)</text>\n</g>\n<!-- 139633777075280&#45;&gt;139633776710896 -->\n<g id=\"edge86\" class=\"edge\">\n<title>139633777075280&#45;&gt;139633776710896</title>\n<path fill=\"none\" stroke=\"#000000\" d=\"M939.7242,-3586.7333C938.3081,-3578.9447 936.5696,-3569.3831 935.0564,-3561.0604\"/>\n<polygon fill=\"#000000\" stroke=\"#000000\" points=\"938.4755,-3560.299 933.243,-3551.0864 931.5884,-3561.5512 938.4755,-3560.299\"/>\n</g>\n<!-- 139633777104832 -->\n<g id=\"node89\" class=\"node\">\n<title>139633777104832</title>\n<polygon fill=\"#d3d3d3\" stroke=\"#000000\" points=\"938,-3369.5 837,-3369.5 837,-3350.5 938,-3350.5 938,-3369.5\"/>\n<text text-anchor=\"middle\" x=\"887.5\" y=\"-3357.5\" font-family=\"monospace\" font-size=\"10.00\" fill=\"#000000\">AccumulateGrad</text>\n</g>\n<!-- 139633777104832&#45;&gt;139633777529136 -->\n<g id=\"edge88\" class=\"edge\">\n<title>139633777104832&#45;&gt;139633777529136</title>\n<path fill=\"none\" stroke=\"#000000\" d=\"M887.5,-3350.2796C887.5,-3342.0376 887.5,-3329.9457 887.5,-3319.629\"/>\n<polygon fill=\"#000000\" stroke=\"#000000\" points=\"891.0001,-3319.3972 887.5,-3309.3972 884.0001,-3319.3973 891.0001,-3319.3972\"/>\n</g>\n<!-- 139633777076000 -->\n<g id=\"node90\" class=\"node\">\n<title>139633777076000</title>\n<polygon fill=\"#add8e6\" stroke=\"#000000\" points=\"965,-3441 810,-3441 810,-3411 965,-3411 965,-3441\"/>\n<text text-anchor=\"middle\" x=\"887.5\" y=\"-3429\" font-family=\"monospace\" font-size=\"10.00\" fill=\"#000000\">resnet.4.1.conv1.weight</text>\n<text text-anchor=\"middle\" x=\"887.5\" y=\"-3418\" font-family=\"monospace\" font-size=\"10.00\" fill=\"#000000\"> (64, 64, 3, 3)</text>\n</g>\n<!-- 139633777076000&#45;&gt;139633777104832 -->\n<g id=\"edge89\" class=\"edge\">\n<title>139633777076000&#45;&gt;139633777104832</title>\n<path fill=\"none\" stroke=\"#000000\" d=\"M887.5,-3410.6924C887.5,-3401.5067 887.5,-3389.7245 887.5,-3379.8312\"/>\n<polygon fill=\"#000000\" stroke=\"#000000\" points=\"891.0001,-3379.703 887.5,-3369.7031 884.0001,-3379.7031 891.0001,-3379.703\"/>\n</g>\n<!-- 139633777531680 -->\n<g id=\"node91\" class=\"node\">\n<title>139633777531680</title>\n<polygon fill=\"#d3d3d3\" stroke=\"#000000\" points=\"1098,-3309 997,-3309 997,-3290 1098,-3290 1098,-3309\"/>\n<text text-anchor=\"middle\" x=\"1047.5\" y=\"-3297\" font-family=\"monospace\" font-size=\"10.00\" fill=\"#000000\">AccumulateGrad</text>\n</g>\n<!-- 139633777531680&#45;&gt;139633777912752 -->\n<g id=\"edge90\" class=\"edge\">\n<title>139633777531680&#45;&gt;139633777912752</title>\n<path fill=\"none\" stroke=\"#000000\" d=\"M1047.982,-3289.7796C1048.3907,-3281.5376 1048.9903,-3269.4457 1049.5019,-3259.129\"/>\n<polygon fill=\"#000000\" stroke=\"#000000\" points=\"1053.0096,-3259.0583 1050.0092,-3248.8972 1046.0182,-3258.7116 1053.0096,-3259.0583\"/>\n</g>\n<!-- 139633777075600 -->\n<g id=\"node92\" class=\"node\">\n<title>139633777075600</title>\n<polygon fill=\"#add8e6\" stroke=\"#000000\" points=\"1110,-3375 967,-3375 967,-3345 1110,-3345 1110,-3375\"/>\n<text text-anchor=\"middle\" x=\"1038.5\" y=\"-3363\" font-family=\"monospace\" font-size=\"10.00\" fill=\"#000000\">resnet.4.1.bn1.weight</text>\n<text text-anchor=\"middle\" x=\"1038.5\" y=\"-3352\" font-family=\"monospace\" font-size=\"10.00\" fill=\"#000000\"> (64)</text>\n</g>\n<!-- 139633777075600&#45;&gt;139633777531680 -->\n<g id=\"edge91\" class=\"edge\">\n<title>139633777075600&#45;&gt;139633777531680</title>\n<path fill=\"none\" stroke=\"#000000\" d=\"M1040.7711,-3344.7333C1041.9297,-3336.9447 1043.3521,-3327.3831 1044.5902,-3319.0604\"/>\n<polygon fill=\"#000000\" stroke=\"#000000\" points=\"1048.0643,-3319.4926 1046.0739,-3309.0864 1041.1405,-3318.4625 1048.0643,-3319.4926\"/>\n</g>\n<!-- 139633777103584 -->\n<g id=\"node93\" class=\"node\">\n<title>139633777103584</title>\n<polygon fill=\"#d3d3d3\" stroke=\"#000000\" points=\"1235,-3309 1134,-3309 1134,-3290 1235,-3290 1235,-3309\"/>\n<text text-anchor=\"middle\" x=\"1184.5\" y=\"-3297\" font-family=\"monospace\" font-size=\"10.00\" fill=\"#000000\">AccumulateGrad</text>\n</g>\n<!-- 139633777103584&#45;&gt;139633777912752 -->\n<g id=\"edge92\" class=\"edge\">\n<title>139633777103584&#45;&gt;139633777912752</title>\n<path fill=\"none\" stroke=\"#000000\" d=\"M1163.2673,-3289.9136C1141.1165,-3279.9127 1106.1813,-3264.1397 1081.064,-3252.7994\"/>\n<polygon fill=\"#000000\" stroke=\"#000000\" points=\"1082.1877,-3249.4666 1071.6334,-3248.5416 1079.3072,-3255.8465 1082.1877,-3249.4666\"/>\n</g>\n<!-- 139633777076080 -->\n<g id=\"node94\" class=\"node\">\n<title>139633777076080</title>\n<polygon fill=\"#add8e6\" stroke=\"#000000\" points=\"1259,-3375 1128,-3375 1128,-3345 1259,-3345 1259,-3375\"/>\n<text text-anchor=\"middle\" x=\"1193.5\" y=\"-3363\" font-family=\"monospace\" font-size=\"10.00\" fill=\"#000000\">resnet.4.1.bn1.bias</text>\n<text text-anchor=\"middle\" x=\"1193.5\" y=\"-3352\" font-family=\"monospace\" font-size=\"10.00\" fill=\"#000000\"> (64)</text>\n</g>\n<!-- 139633777076080&#45;&gt;139633777103584 -->\n<g id=\"edge93\" class=\"edge\">\n<title>139633777076080&#45;&gt;139633777103584</title>\n<path fill=\"none\" stroke=\"#000000\" d=\"M1191.2289,-3344.7333C1190.0703,-3336.9447 1188.6479,-3327.3831 1187.4098,-3319.0604\"/>\n<polygon fill=\"#000000\" stroke=\"#000000\" points=\"1190.8595,-3318.4625 1185.9261,-3309.0864 1183.9357,-3319.4926 1190.8595,-3318.4625\"/>\n</g>\n<!-- 139633777067056 -->\n<g id=\"node95\" class=\"node\">\n<title>139633777067056</title>\n<polygon fill=\"#d3d3d3\" stroke=\"#000000\" points=\"1289,-3182.5 1188,-3182.5 1188,-3163.5 1289,-3163.5 1289,-3182.5\"/>\n<text text-anchor=\"middle\" x=\"1238.5\" y=\"-3170.5\" font-family=\"monospace\" font-size=\"10.00\" fill=\"#000000\">AccumulateGrad</text>\n</g>\n<!-- 139633777067056&#45;&gt;139633777068976 -->\n<g id=\"edge94\" class=\"edge\">\n<title>139633777067056&#45;&gt;139633777068976</title>\n<path fill=\"none\" stroke=\"#000000\" d=\"M1220.1195,-3163.4136C1201.1987,-3153.5454 1171.5026,-3138.0574 1149.8287,-3126.7533\"/>\n<polygon fill=\"#000000\" stroke=\"#000000\" points=\"1151.2796,-3123.5627 1140.7946,-3122.0416 1148.0425,-3129.7693 1151.2796,-3123.5627\"/>\n</g>\n<!-- 139633777076560 -->\n<g id=\"node96\" class=\"node\">\n<title>139633777076560</title>\n<polygon fill=\"#add8e6\" stroke=\"#000000\" points=\"1316,-3254 1161,-3254 1161,-3224 1316,-3224 1316,-3254\"/>\n<text text-anchor=\"middle\" x=\"1238.5\" y=\"-3242\" font-family=\"monospace\" font-size=\"10.00\" fill=\"#000000\">resnet.4.1.conv2.weight</text>\n<text text-anchor=\"middle\" x=\"1238.5\" y=\"-3231\" font-family=\"monospace\" font-size=\"10.00\" fill=\"#000000\"> (64, 64, 3, 3)</text>\n</g>\n<!-- 139633777076560&#45;&gt;139633777067056 -->\n<g id=\"edge95\" class=\"edge\">\n<title>139633777076560&#45;&gt;139633777067056</title>\n<path fill=\"none\" stroke=\"#000000\" d=\"M1238.5,-3223.6924C1238.5,-3214.5067 1238.5,-3202.7245 1238.5,-3192.8312\"/>\n<polygon fill=\"#000000\" stroke=\"#000000\" points=\"1242.0001,-3192.703 1238.5,-3182.7031 1235.0001,-3192.7031 1242.0001,-3192.703\"/>\n</g>\n<!-- 139633777067728 -->\n<g id=\"node97\" class=\"node\">\n<title>139633777067728</title>\n<polygon fill=\"#d3d3d3\" stroke=\"#000000\" points=\"894,-3122 793,-3122 793,-3103 894,-3103 894,-3122\"/>\n<text text-anchor=\"middle\" x=\"843.5\" y=\"-3110\" font-family=\"monospace\" font-size=\"10.00\" fill=\"#000000\">AccumulateGrad</text>\n</g>\n<!-- 139633777067728&#45;&gt;139633777067440 -->\n<g id=\"edge96\" class=\"edge\">\n<title>139633777067728&#45;&gt;139633777067440</title>\n<path fill=\"none\" stroke=\"#000000\" d=\"M856.0414,-3102.9197C866.6478,-3094.8177 882.0659,-3083.0399 894.5439,-3073.5082\"/>\n<polygon fill=\"#000000\" stroke=\"#000000\" points=\"896.7954,-3076.1926 902.6175,-3067.3408 892.5461,-3070.6299 896.7954,-3076.1926\"/>\n</g>\n<!-- 139633777076480 -->\n<g id=\"node98\" class=\"node\">\n<title>139633777076480</title>\n<polygon fill=\"#add8e6\" stroke=\"#000000\" points=\"908,-3188 765,-3188 765,-3158 908,-3158 908,-3188\"/>\n<text text-anchor=\"middle\" x=\"836.5\" y=\"-3176\" font-family=\"monospace\" font-size=\"10.00\" fill=\"#000000\">resnet.4.1.bn2.weight</text>\n<text text-anchor=\"middle\" x=\"836.5\" y=\"-3165\" font-family=\"monospace\" font-size=\"10.00\" fill=\"#000000\"> (64)</text>\n</g>\n<!-- 139633777076480&#45;&gt;139633777067728 -->\n<g id=\"edge97\" class=\"edge\">\n<title>139633777076480&#45;&gt;139633777067728</title>\n<path fill=\"none\" stroke=\"#000000\" d=\"M838.2664,-3157.7333C839.1676,-3149.9447 840.2739,-3140.3831 841.2368,-3132.0604\"/>\n<polygon fill=\"#000000\" stroke=\"#000000\" points=\"844.7182,-3132.4224 842.3908,-3122.0864 837.7646,-3131.6178 844.7182,-3132.4224\"/>\n</g>\n<!-- 139633777066384 -->\n<g id=\"node99\" class=\"node\">\n<title>139633777066384</title>\n<polygon fill=\"#d3d3d3\" stroke=\"#000000\" points=\"1021,-3122 920,-3122 920,-3103 1021,-3103 1021,-3122\"/>\n<text text-anchor=\"middle\" x=\"970.5\" y=\"-3110\" font-family=\"monospace\" font-size=\"10.00\" fill=\"#000000\">AccumulateGrad</text>\n</g>\n<!-- 139633777066384&#45;&gt;139633777067440 -->\n<g id=\"edge98\" class=\"edge\">\n<title>139633777066384&#45;&gt;139633777067440</title>\n<path fill=\"none\" stroke=\"#000000\" d=\"M960.9197,-3102.9197C953.1293,-3095.1293 941.9405,-3083.9405 932.6176,-3074.6176\"/>\n<polygon fill=\"#000000\" stroke=\"#000000\" points=\"934.8868,-3071.937 925.3408,-3067.3408 929.937,-3076.8868 934.8868,-3071.937\"/>\n</g>\n<!-- 139633777076640 -->\n<g id=\"node100\" class=\"node\">\n<title>139633777076640</title>\n<polygon fill=\"#add8e6\" stroke=\"#000000\" points=\"1057,-3188 926,-3188 926,-3158 1057,-3158 1057,-3188\"/>\n<text text-anchor=\"middle\" x=\"991.5\" y=\"-3176\" font-family=\"monospace\" font-size=\"10.00\" fill=\"#000000\">resnet.4.1.bn2.bias</text>\n<text text-anchor=\"middle\" x=\"991.5\" y=\"-3165\" font-family=\"monospace\" font-size=\"10.00\" fill=\"#000000\"> (64)</text>\n</g>\n<!-- 139633777076640&#45;&gt;139633777066384 -->\n<g id=\"edge99\" class=\"edge\">\n<title>139633777076640&#45;&gt;139633777066384</title>\n<path fill=\"none\" stroke=\"#000000\" d=\"M986.2008,-3157.7333C983.4669,-3149.8571 980.1038,-3140.168 977.1923,-3131.7803\"/>\n<polygon fill=\"#000000\" stroke=\"#000000\" points=\"980.4132,-3130.3858 973.8275,-3122.0864 973.8002,-3132.6812 980.4132,-3130.3858\"/>\n</g>\n<!-- 139633777068880 -->\n<g id=\"node101\" class=\"node\">\n<title>139633777068880</title>\n<polygon fill=\"#d3d3d3\" stroke=\"#000000\" points=\"992,-2940.5 891,-2940.5 891,-2921.5 992,-2921.5 992,-2940.5\"/>\n<text text-anchor=\"middle\" x=\"941.5\" y=\"-2928.5\" font-family=\"monospace\" font-size=\"10.00\" fill=\"#000000\">AccumulateGrad</text>\n</g>\n<!-- 139633777068880&#45;&gt;139633777016208 -->\n<g id=\"edge101\" class=\"edge\">\n<title>139633777068880&#45;&gt;139633777016208</title>\n<path fill=\"none\" stroke=\"#000000\" d=\"M941.5,-2921.2796C941.5,-2913.0376 941.5,-2900.9457 941.5,-2890.629\"/>\n<polygon fill=\"#000000\" stroke=\"#000000\" points=\"945.0001,-2890.3972 941.5,-2880.3972 938.0001,-2890.3973 945.0001,-2890.3972\"/>\n</g>\n<!-- 139633777077760 -->\n<g id=\"node102\" class=\"node\">\n<title>139633777077760</title>\n<polygon fill=\"#add8e6\" stroke=\"#000000\" points=\"1043,-3012 888,-3012 888,-2982 1043,-2982 1043,-3012\"/>\n<text text-anchor=\"middle\" x=\"965.5\" y=\"-3000\" font-family=\"monospace\" font-size=\"10.00\" fill=\"#000000\">resnet.5.0.conv1.weight</text>\n<text text-anchor=\"middle\" x=\"965.5\" y=\"-2989\" font-family=\"monospace\" font-size=\"10.00\" fill=\"#000000\"> (128, 64, 3, 3)</text>\n</g>\n<!-- 139633777077760&#45;&gt;139633777068880 -->\n<g id=\"edge102\" class=\"edge\">\n<title>139633777077760&#45;&gt;139633777068880</title>\n<path fill=\"none\" stroke=\"#000000\" d=\"M959.9336,-2981.6924C956.5215,-2972.3092 952.1242,-2960.2165 948.4802,-2950.1956\"/>\n<polygon fill=\"#000000\" stroke=\"#000000\" points=\"951.7352,-2948.9049 945.0284,-2940.7031 945.1566,-2951.2971 951.7352,-2948.9049\"/>\n</g>\n<!-- 139633777015104 -->\n<g id=\"node103\" class=\"node\">\n<title>139633777015104</title>\n<polygon fill=\"#d3d3d3\" stroke=\"#000000\" points=\"1130,-2880 1029,-2880 1029,-2861 1130,-2861 1130,-2880\"/>\n<text text-anchor=\"middle\" x=\"1079.5\" y=\"-2868\" font-family=\"monospace\" font-size=\"10.00\" fill=\"#000000\">AccumulateGrad</text>\n</g>\n<!-- 139633777015104&#45;&gt;139633777013424 -->\n<g id=\"edge103\" class=\"edge\">\n<title>139633777015104&#45;&gt;139633777013424</title>\n<path fill=\"none\" stroke=\"#000000\" d=\"M1063.5939,-2860.7796C1047.7896,-2851.1214 1023.3345,-2836.1766 1005.0401,-2824.9967\"/>\n<polygon fill=\"#000000\" stroke=\"#000000\" points=\"1006.7245,-2821.9243 996.3666,-2819.6962 1003.0743,-2827.8973 1006.7245,-2821.9243\"/>\n</g>\n<!-- 139633777077680 -->\n<g id=\"node104\" class=\"node\">\n<title>139633777077680</title>\n<polygon fill=\"#add8e6\" stroke=\"#000000\" points=\"1153,-2946 1010,-2946 1010,-2916 1153,-2916 1153,-2946\"/>\n<text text-anchor=\"middle\" x=\"1081.5\" y=\"-2934\" font-family=\"monospace\" font-size=\"10.00\" fill=\"#000000\">resnet.5.0.bn1.weight</text>\n<text text-anchor=\"middle\" x=\"1081.5\" y=\"-2923\" font-family=\"monospace\" font-size=\"10.00\" fill=\"#000000\"> (128)</text>\n</g>\n<!-- 139633777077680&#45;&gt;139633777015104 -->\n<g id=\"edge104\" class=\"edge\">\n<title>139633777077680&#45;&gt;139633777015104</title>\n<path fill=\"none\" stroke=\"#000000\" d=\"M1080.9953,-2915.7333C1080.7407,-2908.0322 1080.4288,-2898.5977 1080.1559,-2890.3414\"/>\n<polygon fill=\"#000000\" stroke=\"#000000\" points=\"1083.6455,-2889.9653 1079.8169,-2880.0864 1076.6493,-2890.1966 1083.6455,-2889.9653\"/>\n</g>\n<!-- 139633777014528 -->\n<g id=\"node105\" class=\"node\">\n<title>139633777014528</title>\n<polygon fill=\"#d3d3d3\" stroke=\"#000000\" points=\"1268,-2880 1167,-2880 1167,-2861 1268,-2861 1268,-2880\"/>\n<text text-anchor=\"middle\" x=\"1217.5\" y=\"-2868\" font-family=\"monospace\" font-size=\"10.00\" fill=\"#000000\">AccumulateGrad</text>\n</g>\n<!-- 139633777014528&#45;&gt;139633777013424 -->\n<g id=\"edge105\" class=\"edge\">\n<title>139633777014528&#45;&gt;139633777013424</title>\n<path fill=\"none\" stroke=\"#000000\" d=\"M1180.208,-2860.9803C1139.0032,-2850.4618 1072.5577,-2833.4999 1027.7422,-2822.0597\"/>\n<polygon fill=\"#000000\" stroke=\"#000000\" points=\"1028.5205,-2818.6462 1017.9655,-2819.564 1026.789,-2825.4287 1028.5205,-2818.6462\"/>\n</g>\n<!-- 139633777077840 -->\n<g id=\"node106\" class=\"node\">\n<title>139633777077840</title>\n<polygon fill=\"#add8e6\" stroke=\"#000000\" points=\"1302,-2946 1171,-2946 1171,-2916 1302,-2916 1302,-2946\"/>\n<text text-anchor=\"middle\" x=\"1236.5\" y=\"-2934\" font-family=\"monospace\" font-size=\"10.00\" fill=\"#000000\">resnet.5.0.bn1.bias</text>\n<text text-anchor=\"middle\" x=\"1236.5\" y=\"-2923\" font-family=\"monospace\" font-size=\"10.00\" fill=\"#000000\"> (128)</text>\n</g>\n<!-- 139633777077840&#45;&gt;139633777014528 -->\n<g id=\"edge106\" class=\"edge\">\n<title>139633777077840&#45;&gt;139633777014528</title>\n<path fill=\"none\" stroke=\"#000000\" d=\"M1231.7055,-2915.7333C1229.232,-2907.8571 1226.1891,-2898.168 1223.555,-2889.7803\"/>\n<polygon fill=\"#000000\" stroke=\"#000000\" points=\"1226.8461,-2888.5783 1220.5106,-2880.0864 1220.1677,-2890.6757 1226.8461,-2888.5783\"/>\n</g>\n<!-- 139633777015536 -->\n<g id=\"node107\" class=\"node\">\n<title>139633777015536</title>\n<polygon fill=\"#d3d3d3\" stroke=\"#000000\" points=\"1177,-2753.5 1076,-2753.5 1076,-2734.5 1177,-2734.5 1177,-2753.5\"/>\n<text text-anchor=\"middle\" x=\"1126.5\" y=\"-2741.5\" font-family=\"monospace\" font-size=\"10.00\" fill=\"#000000\">AccumulateGrad</text>\n</g>\n<!-- 139633777015536&#45;&gt;139633777014288 -->\n<g id=\"edge107\" class=\"edge\">\n<title>139633777015536&#45;&gt;139633777014288</title>\n<path fill=\"none\" stroke=\"#000000\" d=\"M1103.3659,-2734.4136C1079.0178,-2724.3242 1040.4929,-2708.3601 1013.077,-2696.9994\"/>\n<polygon fill=\"#000000\" stroke=\"#000000\" points=\"1014.104,-2693.6364 1003.5259,-2693.0416 1011.4243,-2700.1032 1014.104,-2693.6364\"/>\n</g>\n<!-- 139633776840848 -->\n<g id=\"node108\" class=\"node\">\n<title>139633776840848</title>\n<polygon fill=\"#add8e6\" stroke=\"#000000\" points=\"1234,-2825 1079,-2825 1079,-2795 1234,-2795 1234,-2825\"/>\n<text text-anchor=\"middle\" x=\"1156.5\" y=\"-2813\" font-family=\"monospace\" font-size=\"10.00\" fill=\"#000000\">resnet.5.0.conv2.weight</text>\n<text text-anchor=\"middle\" x=\"1156.5\" y=\"-2802\" font-family=\"monospace\" font-size=\"10.00\" fill=\"#000000\"> (128, 128, 3, 3)</text>\n</g>\n<!-- 139633776840848&#45;&gt;139633777015536 -->\n<g id=\"edge108\" class=\"edge\">\n<title>139633776840848&#45;&gt;139633777015536</title>\n<path fill=\"none\" stroke=\"#000000\" d=\"M1149.542,-2794.6924C1145.232,-2785.2104 1139.6644,-2772.9616 1135.0817,-2762.8798\"/>\n<polygon fill=\"#000000\" stroke=\"#000000\" points=\"1138.2349,-2761.3584 1130.9105,-2753.7031 1131.8623,-2764.2551 1138.2349,-2761.3584\"/>\n</g>\n<!-- 139633777013232 -->\n<g id=\"node109\" class=\"node\">\n<title>139633777013232</title>\n<polygon fill=\"#d3d3d3\" stroke=\"#000000\" points=\"752,-2693 651,-2693 651,-2674 752,-2674 752,-2693\"/>\n<text text-anchor=\"middle\" x=\"701.5\" y=\"-2681\" font-family=\"monospace\" font-size=\"10.00\" fill=\"#000000\">AccumulateGrad</text>\n</g>\n<!-- 139633777013232&#45;&gt;139633777012896 -->\n<g id=\"edge109\" class=\"edge\">\n<title>139633777013232&#45;&gt;139633777012896</title>\n<path fill=\"none\" stroke=\"#000000\" d=\"M709.1642,-2673.9197C715.2719,-2666.2851 723.9907,-2655.3867 731.3567,-2646.1792\"/>\n<polygon fill=\"#000000\" stroke=\"#000000\" points=\"734.1134,-2648.336 737.6273,-2638.3408 728.6473,-2643.9631 734.1134,-2648.336\"/>\n</g>\n<!-- 139633776840768 -->\n<g id=\"node110\" class=\"node\">\n<title>139633776840768</title>\n<polygon fill=\"#add8e6\" stroke=\"#000000\" points=\"765,-2759 622,-2759 622,-2729 765,-2729 765,-2759\"/>\n<text text-anchor=\"middle\" x=\"693.5\" y=\"-2747\" font-family=\"monospace\" font-size=\"10.00\" fill=\"#000000\">resnet.5.0.bn2.weight</text>\n<text text-anchor=\"middle\" x=\"693.5\" y=\"-2736\" font-family=\"monospace\" font-size=\"10.00\" fill=\"#000000\"> (128)</text>\n</g>\n<!-- 139633776840768&#45;&gt;139633777013232 -->\n<g id=\"edge110\" class=\"edge\">\n<title>139633776840768&#45;&gt;139633777013232</title>\n<path fill=\"none\" stroke=\"#000000\" d=\"M695.5187,-2728.7333C696.5486,-2720.9447 697.813,-2711.3831 698.9135,-2703.0604\"/>\n<polygon fill=\"#000000\" stroke=\"#000000\" points=\"702.3912,-2703.459 700.2324,-2693.0864 695.4516,-2702.5413 702.3912,-2703.459\"/>\n</g>\n<!-- 139633777015680 -->\n<g id=\"node111\" class=\"node\">\n<title>139633777015680</title>\n<polygon fill=\"#d3d3d3\" stroke=\"#000000\" points=\"879,-2693 778,-2693 778,-2674 879,-2674 879,-2693\"/>\n<text text-anchor=\"middle\" x=\"828.5\" y=\"-2681\" font-family=\"monospace\" font-size=\"10.00\" fill=\"#000000\">AccumulateGrad</text>\n</g>\n<!-- 139633777015680&#45;&gt;139633777012896 -->\n<g id=\"edge111\" class=\"edge\">\n<title>139633777015680&#45;&gt;139633777012896</title>\n<path fill=\"none\" stroke=\"#000000\" d=\"M814.0425,-2673.9197C801.5037,-2665.6109 783.1312,-2653.4363 768.5632,-2643.7828\"/>\n<polygon fill=\"#000000\" stroke=\"#000000\" points=\"770.3396,-2640.7613 760.0703,-2638.155 766.4729,-2646.5964 770.3396,-2640.7613\"/>\n</g>\n<!-- 139633776840928 -->\n<g id=\"node112\" class=\"node\">\n<title>139633776840928</title>\n<polygon fill=\"#add8e6\" stroke=\"#000000\" points=\"914,-2759 783,-2759 783,-2729 914,-2729 914,-2759\"/>\n<text text-anchor=\"middle\" x=\"848.5\" y=\"-2747\" font-family=\"monospace\" font-size=\"10.00\" fill=\"#000000\">resnet.5.0.bn2.bias</text>\n<text text-anchor=\"middle\" x=\"848.5\" y=\"-2736\" font-family=\"monospace\" font-size=\"10.00\" fill=\"#000000\"> (128)</text>\n</g>\n<!-- 139633776840928&#45;&gt;139633777015680 -->\n<g id=\"edge112\" class=\"edge\">\n<title>139633776840928&#45;&gt;139633777015680</title>\n<path fill=\"none\" stroke=\"#000000\" d=\"M843.4532,-2728.7333C840.8495,-2720.8571 837.6464,-2711.168 834.8737,-2702.7803\"/>\n<polygon fill=\"#000000\" stroke=\"#000000\" points=\"838.131,-2701.4825 831.6691,-2693.0864 831.4847,-2703.6796 838.131,-2701.4825\"/>\n</g>\n<!-- 139633777013472 -->\n<g id=\"node113\" class=\"node\">\n<title>139633777013472</title>\n<polygon fill=\"#d3d3d3\" stroke=\"#000000\" points=\"644,-2819.5 483,-2819.5 483,-2800.5 644,-2800.5 644,-2819.5\"/>\n<text text-anchor=\"middle\" x=\"563.5\" y=\"-2807.5\" font-family=\"monospace\" font-size=\"10.00\" fill=\"#000000\">NativeBatchNormBackward0</text>\n</g>\n<!-- 139633777013472&#45;&gt;139633777014192 -->\n<g id=\"edge113\" class=\"edge\">\n<title>139633777013472&#45;&gt;139633777014192</title>\n<path fill=\"none\" stroke=\"#000000\" d=\"M565.7646,-2800.2136C574.1554,-2763.9536 603.5736,-2636.8249 614.9555,-2587.6386\"/>\n<polygon fill=\"#000000\" stroke=\"#000000\" points=\"618.4239,-2588.1747 617.2686,-2577.6431 611.6041,-2586.5965 618.4239,-2588.1747\"/>\n</g>\n<!-- 139633777012992&#45;&gt;139633777013472 -->\n<g id=\"edge114\" class=\"edge\">\n<title>139633777012992&#45;&gt;139633777013472</title>\n<path fill=\"none\" stroke=\"#000000\" d=\"M686.3659,-2860.9136C662.0178,-2850.8242 623.4929,-2834.8601 596.077,-2823.4994\"/>\n<polygon fill=\"#000000\" stroke=\"#000000\" points=\"597.104,-2820.1364 586.5259,-2819.5416 594.4243,-2826.6032 597.104,-2820.1364\"/>\n</g>\n<!-- 139633777069648 -->\n<g id=\"node115\" class=\"node\">\n<title>139633777069648</title>\n<polygon fill=\"#d3d3d3\" stroke=\"#000000\" points=\"760,-2940.5 659,-2940.5 659,-2921.5 760,-2921.5 760,-2940.5\"/>\n<text text-anchor=\"middle\" x=\"709.5\" y=\"-2928.5\" font-family=\"monospace\" font-size=\"10.00\" fill=\"#000000\">AccumulateGrad</text>\n</g>\n<!-- 139633777069648&#45;&gt;139633777012992 -->\n<g id=\"edge116\" class=\"edge\">\n<title>139633777069648&#45;&gt;139633777012992</title>\n<path fill=\"none\" stroke=\"#000000\" d=\"M709.5,-2921.2796C709.5,-2913.0376 709.5,-2900.9457 709.5,-2890.629\"/>\n<polygon fill=\"#000000\" stroke=\"#000000\" points=\"713.0001,-2890.3972 709.5,-2880.3972 706.0001,-2890.3973 713.0001,-2890.3972\"/>\n</g>\n<!-- 139633777077040 -->\n<g id=\"node116\" class=\"node\">\n<title>139633777077040</title>\n<polygon fill=\"#add8e6\" stroke=\"#000000\" points=\"763,-3012 566,-3012 566,-2982 763,-2982 763,-3012\"/>\n<text text-anchor=\"middle\" x=\"664.5\" y=\"-3000\" font-family=\"monospace\" font-size=\"10.00\" fill=\"#000000\">resnet.5.0.downsample.0.weight</text>\n<text text-anchor=\"middle\" x=\"664.5\" y=\"-2989\" font-family=\"monospace\" font-size=\"10.00\" fill=\"#000000\"> (128, 64, 1, 1)</text>\n</g>\n<!-- 139633777077040&#45;&gt;139633777069648 -->\n<g id=\"edge117\" class=\"edge\">\n<title>139633777077040&#45;&gt;139633777069648</title>\n<path fill=\"none\" stroke=\"#000000\" d=\"M674.937,-2981.6924C681.5367,-2972.0129 690.1022,-2959.4501 697.0551,-2949.2526\"/>\n<polygon fill=\"#000000\" stroke=\"#000000\" points=\"700.1427,-2950.937 702.8843,-2940.7031 694.3591,-2946.9937 700.1427,-2950.937\"/>\n</g>\n<!-- 139633777013040 -->\n<g id=\"node117\" class=\"node\">\n<title>139633777013040</title>\n<polygon fill=\"#d3d3d3\" stroke=\"#000000\" points=\"447,-2880 346,-2880 346,-2861 447,-2861 447,-2880\"/>\n<text text-anchor=\"middle\" x=\"396.5\" y=\"-2868\" font-family=\"monospace\" font-size=\"10.00\" fill=\"#000000\">AccumulateGrad</text>\n</g>\n<!-- 139633777013040&#45;&gt;139633777013472 -->\n<g id=\"edge118\" class=\"edge\">\n<title>139633777013040&#45;&gt;139633777013472</title>\n<path fill=\"none\" stroke=\"#000000\" d=\"M422.9616,-2860.9136C451.1783,-2850.6914 496.0405,-2834.4389 527.4685,-2823.0533\"/>\n<polygon fill=\"#000000\" stroke=\"#000000\" points=\"528.9523,-2826.2385 537.1622,-2819.5416 526.5679,-2819.657 528.9523,-2826.2385\"/>\n</g>\n<!-- 139633777077120 -->\n<g id=\"node118\" class=\"node\">\n<title>139633777077120</title>\n<polygon fill=\"#add8e6\" stroke=\"#000000\" points=\"438,-2946 241,-2946 241,-2916 438,-2916 438,-2946\"/>\n<text text-anchor=\"middle\" x=\"339.5\" y=\"-2934\" font-family=\"monospace\" font-size=\"10.00\" fill=\"#000000\">resnet.5.0.downsample.1.weight</text>\n<text text-anchor=\"middle\" x=\"339.5\" y=\"-2923\" font-family=\"monospace\" font-size=\"10.00\" fill=\"#000000\"> (128)</text>\n</g>\n<!-- 139633777077120&#45;&gt;139633777013040 -->\n<g id=\"edge119\" class=\"edge\">\n<title>139633777077120&#45;&gt;139633777013040</title>\n<path fill=\"none\" stroke=\"#000000\" d=\"M353.8835,-2915.7333C361.9636,-2907.157 372.069,-2896.4311 380.4113,-2887.5766\"/>\n<polygon fill=\"#000000\" stroke=\"#000000\" points=\"383.1582,-2889.765 387.4682,-2880.0864 378.0633,-2884.9648 383.1582,-2889.765\"/>\n</g>\n<!-- 139633777016784 -->\n<g id=\"node119\" class=\"node\">\n<title>139633777016784</title>\n<polygon fill=\"#d3d3d3\" stroke=\"#000000\" points=\"611,-2880 510,-2880 510,-2861 611,-2861 611,-2880\"/>\n<text text-anchor=\"middle\" x=\"560.5\" y=\"-2868\" font-family=\"monospace\" font-size=\"10.00\" fill=\"#000000\">AccumulateGrad</text>\n</g>\n<!-- 139633777016784&#45;&gt;139633777013472 -->\n<g id=\"edge120\" class=\"edge\">\n<title>139633777016784&#45;&gt;139633777013472</title>\n<path fill=\"none\" stroke=\"#000000\" d=\"M560.982,-2860.7796C561.3907,-2852.5376 561.9903,-2840.4457 562.5019,-2830.129\"/>\n<polygon fill=\"#000000\" stroke=\"#000000\" points=\"566.0096,-2830.0583 563.0092,-2819.8972 559.0182,-2829.7116 566.0096,-2830.0583\"/>\n</g>\n<!-- 139633777077200 -->\n<g id=\"node120\" class=\"node\">\n<title>139633777077200</title>\n<polygon fill=\"#add8e6\" stroke=\"#000000\" points=\"641,-2946 456,-2946 456,-2916 641,-2916 641,-2946\"/>\n<text text-anchor=\"middle\" x=\"548.5\" y=\"-2934\" font-family=\"monospace\" font-size=\"10.00\" fill=\"#000000\">resnet.5.0.downsample.1.bias</text>\n<text text-anchor=\"middle\" x=\"548.5\" y=\"-2923\" font-family=\"monospace\" font-size=\"10.00\" fill=\"#000000\"> (128)</text>\n</g>\n<!-- 139633777077200&#45;&gt;139633777016784 -->\n<g id=\"edge121\" class=\"edge\">\n<title>139633777077200&#45;&gt;139633777016784</title>\n<path fill=\"none\" stroke=\"#000000\" d=\"M551.5281,-2915.7333C553.073,-2907.9447 554.9695,-2898.3831 556.6203,-2890.0604\"/>\n<polygon fill=\"#000000\" stroke=\"#000000\" points=\"560.086,-2890.5763 558.5986,-2880.0864 553.2198,-2889.2143 560.086,-2890.5763\"/>\n</g>\n<!-- 139633777015008 -->\n<g id=\"node121\" class=\"node\">\n<title>139633777015008</title>\n<polygon fill=\"#d3d3d3\" stroke=\"#000000\" points=\"816,-2511.5 715,-2511.5 715,-2492.5 816,-2492.5 816,-2511.5\"/>\n<text text-anchor=\"middle\" x=\"765.5\" y=\"-2499.5\" font-family=\"monospace\" font-size=\"10.00\" fill=\"#000000\">AccumulateGrad</text>\n</g>\n<!-- 139633777015008&#45;&gt;139633777013520 -->\n<g id=\"edge122\" class=\"edge\">\n<title>139633777015008&#45;&gt;139633777013520</title>\n<path fill=\"none\" stroke=\"#000000\" d=\"M765.5,-2492.2796C765.5,-2484.0376 765.5,-2471.9457 765.5,-2461.629\"/>\n<polygon fill=\"#000000\" stroke=\"#000000\" points=\"769.0001,-2461.3972 765.5,-2451.3972 762.0001,-2461.3973 769.0001,-2461.3972\"/>\n</g>\n<!-- 139633776841328 -->\n<g id=\"node122\" class=\"node\">\n<title>139633776841328</title>\n<polygon fill=\"#add8e6\" stroke=\"#000000\" points=\"843,-2583 688,-2583 688,-2553 843,-2553 843,-2583\"/>\n<text text-anchor=\"middle\" x=\"765.5\" y=\"-2571\" font-family=\"monospace\" font-size=\"10.00\" fill=\"#000000\">resnet.5.1.conv1.weight</text>\n<text text-anchor=\"middle\" x=\"765.5\" y=\"-2560\" font-family=\"monospace\" font-size=\"10.00\" fill=\"#000000\"> (128, 128, 3, 3)</text>\n</g>\n<!-- 139633776841328&#45;&gt;139633777015008 -->\n<g id=\"edge123\" class=\"edge\">\n<title>139633776841328&#45;&gt;139633777015008</title>\n<path fill=\"none\" stroke=\"#000000\" d=\"M765.5,-2552.6924C765.5,-2543.5067 765.5,-2531.7245 765.5,-2521.8312\"/>\n<polygon fill=\"#000000\" stroke=\"#000000\" points=\"769.0001,-2521.703 765.5,-2511.7031 762.0001,-2521.7031 769.0001,-2521.703\"/>\n</g>\n<!-- 139633777013376 -->\n<g id=\"node123\" class=\"node\">\n<title>139633777013376</title>\n<polygon fill=\"#d3d3d3\" stroke=\"#000000\" points=\"968,-2451 867,-2451 867,-2432 968,-2432 968,-2451\"/>\n<text text-anchor=\"middle\" x=\"917.5\" y=\"-2439\" font-family=\"monospace\" font-size=\"10.00\" fill=\"#000000\">AccumulateGrad</text>\n</g>\n<!-- 139633777013376&#45;&gt;139633776676336 -->\n<g id=\"edge124\" class=\"edge\">\n<title>139633777013376&#45;&gt;139633776676336</title>\n<path fill=\"none\" stroke=\"#000000\" d=\"M917.982,-2431.7796C918.3907,-2423.5376 918.9903,-2411.4457 919.5019,-2401.129\"/>\n<polygon fill=\"#000000\" stroke=\"#000000\" points=\"923.0096,-2401.0583 920.0092,-2390.8972 916.0182,-2400.7116 923.0096,-2401.0583\"/>\n</g>\n<!-- 139633776841248 -->\n<g id=\"node124\" class=\"node\">\n<title>139633776841248</title>\n<polygon fill=\"#add8e6\" stroke=\"#000000\" points=\"988,-2517 845,-2517 845,-2487 988,-2487 988,-2517\"/>\n<text text-anchor=\"middle\" x=\"916.5\" y=\"-2505\" font-family=\"monospace\" font-size=\"10.00\" fill=\"#000000\">resnet.5.1.bn1.weight</text>\n<text text-anchor=\"middle\" x=\"916.5\" y=\"-2494\" font-family=\"monospace\" font-size=\"10.00\" fill=\"#000000\"> (128)</text>\n</g>\n<!-- 139633776841248&#45;&gt;139633777013376 -->\n<g id=\"edge125\" class=\"edge\">\n<title>139633776841248&#45;&gt;139633777013376</title>\n<path fill=\"none\" stroke=\"#000000\" d=\"M916.7523,-2486.7333C916.8796,-2479.0322 917.0356,-2469.5977 917.172,-2461.3414\"/>\n<polygon fill=\"#000000\" stroke=\"#000000\" points=\"920.6757,-2461.1429 917.3415,-2451.0864 913.6767,-2461.0272 920.6757,-2461.1429\"/>\n</g>\n<!-- 139633777016256 -->\n<g id=\"node125\" class=\"node\">\n<title>139633777016256</title>\n<polygon fill=\"#d3d3d3\" stroke=\"#000000\" points=\"1105,-2451 1004,-2451 1004,-2432 1105,-2432 1105,-2451\"/>\n<text text-anchor=\"middle\" x=\"1054.5\" y=\"-2439\" font-family=\"monospace\" font-size=\"10.00\" fill=\"#000000\">AccumulateGrad</text>\n</g>\n<!-- 139633777016256&#45;&gt;139633776676336 -->\n<g id=\"edge126\" class=\"edge\">\n<title>139633777016256&#45;&gt;139633776676336</title>\n<path fill=\"none\" stroke=\"#000000\" d=\"M1033.2673,-2431.9136C1011.1165,-2421.9127 976.1813,-2406.1397 951.064,-2394.7994\"/>\n<polygon fill=\"#000000\" stroke=\"#000000\" points=\"952.1877,-2391.4666 941.6334,-2390.5416 949.3072,-2397.8465 952.1877,-2391.4666\"/>\n</g>\n<!-- 139633776841408 -->\n<g id=\"node126\" class=\"node\">\n<title>139633776841408</title>\n<polygon fill=\"#add8e6\" stroke=\"#000000\" points=\"1137,-2517 1006,-2517 1006,-2487 1137,-2487 1137,-2517\"/>\n<text text-anchor=\"middle\" x=\"1071.5\" y=\"-2505\" font-family=\"monospace\" font-size=\"10.00\" fill=\"#000000\">resnet.5.1.bn1.bias</text>\n<text text-anchor=\"middle\" x=\"1071.5\" y=\"-2494\" font-family=\"monospace\" font-size=\"10.00\" fill=\"#000000\"> (128)</text>\n</g>\n<!-- 139633776841408&#45;&gt;139633777016256 -->\n<g id=\"edge127\" class=\"edge\">\n<title>139633776841408&#45;&gt;139633777016256</title>\n<path fill=\"none\" stroke=\"#000000\" d=\"M1067.2102,-2486.7333C1064.997,-2478.8571 1062.2745,-2469.168 1059.9176,-2460.7803\"/>\n<polygon fill=\"#000000\" stroke=\"#000000\" points=\"1063.2684,-2459.7667 1057.1937,-2451.0864 1056.5294,-2461.6604 1063.2684,-2459.7667\"/>\n</g>\n<!-- 139633776673312 -->\n<g id=\"node127\" class=\"node\">\n<title>139633776673312</title>\n<polygon fill=\"#d3d3d3\" stroke=\"#000000\" points=\"1170,-2324.5 1069,-2324.5 1069,-2305.5 1170,-2305.5 1170,-2324.5\"/>\n<text text-anchor=\"middle\" x=\"1119.5\" y=\"-2312.5\" font-family=\"monospace\" font-size=\"10.00\" fill=\"#000000\">AccumulateGrad</text>\n</g>\n<!-- 139633776673312&#45;&gt;139633776672976 -->\n<g id=\"edge128\" class=\"edge\">\n<title>139633776673312&#45;&gt;139633776672976</title>\n<path fill=\"none\" stroke=\"#000000\" d=\"M1101.1195,-2305.4136C1082.1987,-2295.5454 1052.5026,-2280.0574 1030.8287,-2268.7533\"/>\n<polygon fill=\"#000000\" stroke=\"#000000\" points=\"1032.2796,-2265.5627 1021.7946,-2264.0416 1029.0425,-2271.7693 1032.2796,-2265.5627\"/>\n</g>\n<!-- 139633776841888 -->\n<g id=\"node128\" class=\"node\">\n<title>139633776841888</title>\n<polygon fill=\"#add8e6\" stroke=\"#000000\" points=\"1197,-2396 1042,-2396 1042,-2366 1197,-2366 1197,-2396\"/>\n<text text-anchor=\"middle\" x=\"1119.5\" y=\"-2384\" font-family=\"monospace\" font-size=\"10.00\" fill=\"#000000\">resnet.5.1.conv2.weight</text>\n<text text-anchor=\"middle\" x=\"1119.5\" y=\"-2373\" font-family=\"monospace\" font-size=\"10.00\" fill=\"#000000\"> (128, 128, 3, 3)</text>\n</g>\n<!-- 139633776841888&#45;&gt;139633776673312 -->\n<g id=\"edge129\" class=\"edge\">\n<title>139633776841888&#45;&gt;139633776673312</title>\n<path fill=\"none\" stroke=\"#000000\" d=\"M1119.5,-2365.6924C1119.5,-2356.5067 1119.5,-2344.7245 1119.5,-2334.8312\"/>\n<polygon fill=\"#000000\" stroke=\"#000000\" points=\"1123.0001,-2334.703 1119.5,-2324.7031 1116.0001,-2334.7031 1123.0001,-2334.703\"/>\n</g>\n<!-- 139633776674800 -->\n<g id=\"node129\" class=\"node\">\n<title>139633776674800</title>\n<polygon fill=\"#d3d3d3\" stroke=\"#000000\" points=\"775,-2264 674,-2264 674,-2245 775,-2245 775,-2264\"/>\n<text text-anchor=\"middle\" x=\"724.5\" y=\"-2252\" font-family=\"monospace\" font-size=\"10.00\" fill=\"#000000\">AccumulateGrad</text>\n</g>\n<!-- 139633776674800&#45;&gt;139633776676528 -->\n<g id=\"edge130\" class=\"edge\">\n<title>139633776674800&#45;&gt;139633776676528</title>\n<path fill=\"none\" stroke=\"#000000\" d=\"M737.0414,-2244.9197C747.6478,-2236.8177 763.0659,-2225.0399 775.5439,-2215.5082\"/>\n<polygon fill=\"#000000\" stroke=\"#000000\" points=\"777.7954,-2218.1926 783.6175,-2209.3408 773.5461,-2212.6299 777.7954,-2218.1926\"/>\n</g>\n<!-- 139633776841808 -->\n<g id=\"node130\" class=\"node\">\n<title>139633776841808</title>\n<polygon fill=\"#add8e6\" stroke=\"#000000\" points=\"789,-2330 646,-2330 646,-2300 789,-2300 789,-2330\"/>\n<text text-anchor=\"middle\" x=\"717.5\" y=\"-2318\" font-family=\"monospace\" font-size=\"10.00\" fill=\"#000000\">resnet.5.1.bn2.weight</text>\n<text text-anchor=\"middle\" x=\"717.5\" y=\"-2307\" font-family=\"monospace\" font-size=\"10.00\" fill=\"#000000\"> (128)</text>\n</g>\n<!-- 139633776841808&#45;&gt;139633776674800 -->\n<g id=\"edge131\" class=\"edge\">\n<title>139633776841808&#45;&gt;139633776674800</title>\n<path fill=\"none\" stroke=\"#000000\" d=\"M719.2664,-2299.7333C720.1676,-2291.9447 721.2739,-2282.3831 722.2368,-2274.0604\"/>\n<polygon fill=\"#000000\" stroke=\"#000000\" points=\"725.7182,-2274.4224 723.3908,-2264.0864 718.7646,-2273.6178 725.7182,-2274.4224\"/>\n</g>\n<!-- 139633776673360 -->\n<g id=\"node131\" class=\"node\">\n<title>139633776673360</title>\n<polygon fill=\"#d3d3d3\" stroke=\"#000000\" points=\"902,-2264 801,-2264 801,-2245 902,-2245 902,-2264\"/>\n<text text-anchor=\"middle\" x=\"851.5\" y=\"-2252\" font-family=\"monospace\" font-size=\"10.00\" fill=\"#000000\">AccumulateGrad</text>\n</g>\n<!-- 139633776673360&#45;&gt;139633776676528 -->\n<g id=\"edge132\" class=\"edge\">\n<title>139633776673360&#45;&gt;139633776676528</title>\n<path fill=\"none\" stroke=\"#000000\" d=\"M841.9197,-2244.9197C834.1293,-2237.1293 822.9405,-2225.9405 813.6176,-2216.6176\"/>\n<polygon fill=\"#000000\" stroke=\"#000000\" points=\"815.8868,-2213.937 806.3408,-2209.3408 810.937,-2218.8868 815.8868,-2213.937\"/>\n</g>\n<!-- 139633776841968 -->\n<g id=\"node132\" class=\"node\">\n<title>139633776841968</title>\n<polygon fill=\"#add8e6\" stroke=\"#000000\" points=\"938,-2330 807,-2330 807,-2300 938,-2300 938,-2330\"/>\n<text text-anchor=\"middle\" x=\"872.5\" y=\"-2318\" font-family=\"monospace\" font-size=\"10.00\" fill=\"#000000\">resnet.5.1.bn2.bias</text>\n<text text-anchor=\"middle\" x=\"872.5\" y=\"-2307\" font-family=\"monospace\" font-size=\"10.00\" fill=\"#000000\"> (128)</text>\n</g>\n<!-- 139633776841968&#45;&gt;139633776673360 -->\n<g id=\"edge133\" class=\"edge\">\n<title>139633776841968&#45;&gt;139633776673360</title>\n<path fill=\"none\" stroke=\"#000000\" d=\"M867.2008,-2299.7333C864.4669,-2291.8571 861.1038,-2282.168 858.1923,-2273.7803\"/>\n<polygon fill=\"#000000\" stroke=\"#000000\" points=\"861.4132,-2272.3858 854.8275,-2264.0864 854.8002,-2274.6812 861.4132,-2272.3858\"/>\n</g>\n<!-- 139633776674176 -->\n<g id=\"node133\" class=\"node\">\n<title>139633776674176</title>\n<polygon fill=\"#d3d3d3\" stroke=\"#000000\" points=\"873,-2082.5 772,-2082.5 772,-2063.5 873,-2063.5 873,-2082.5\"/>\n<text text-anchor=\"middle\" x=\"822.5\" y=\"-2070.5\" font-family=\"monospace\" font-size=\"10.00\" fill=\"#000000\">AccumulateGrad</text>\n</g>\n<!-- 139633776674176&#45;&gt;139633776674128 -->\n<g id=\"edge135\" class=\"edge\">\n<title>139633776674176&#45;&gt;139633776674128</title>\n<path fill=\"none\" stroke=\"#000000\" d=\"M822.5,-2063.2796C822.5,-2055.0376 822.5,-2042.9457 822.5,-2032.629\"/>\n<polygon fill=\"#000000\" stroke=\"#000000\" points=\"826.0001,-2032.3972 822.5,-2022.3972 819.0001,-2032.3973 826.0001,-2032.3972\"/>\n</g>\n<!-- 139633776843088 -->\n<g id=\"node134\" class=\"node\">\n<title>139633776843088</title>\n<polygon fill=\"#add8e6\" stroke=\"#000000\" points=\"924,-2154 769,-2154 769,-2124 924,-2124 924,-2154\"/>\n<text text-anchor=\"middle\" x=\"846.5\" y=\"-2142\" font-family=\"monospace\" font-size=\"10.00\" fill=\"#000000\">resnet.6.0.conv1.weight</text>\n<text text-anchor=\"middle\" x=\"846.5\" y=\"-2131\" font-family=\"monospace\" font-size=\"10.00\" fill=\"#000000\"> (256, 128, 3, 3)</text>\n</g>\n<!-- 139633776843088&#45;&gt;139633776674176 -->\n<g id=\"edge136\" class=\"edge\">\n<title>139633776843088&#45;&gt;139633776674176</title>\n<path fill=\"none\" stroke=\"#000000\" d=\"M840.9336,-2123.6924C837.5215,-2114.3092 833.1242,-2102.2165 829.4802,-2092.1956\"/>\n<polygon fill=\"#000000\" stroke=\"#000000\" points=\"832.7352,-2090.9049 826.0284,-2082.7031 826.1566,-2093.2971 832.7352,-2090.9049\"/>\n</g>\n<!-- 139633776674272 -->\n<g id=\"node135\" class=\"node\">\n<title>139633776674272</title>\n<polygon fill=\"#d3d3d3\" stroke=\"#000000\" points=\"1011,-2022 910,-2022 910,-2003 1011,-2003 1011,-2022\"/>\n<text text-anchor=\"middle\" x=\"960.5\" y=\"-2010\" font-family=\"monospace\" font-size=\"10.00\" fill=\"#000000\">AccumulateGrad</text>\n</g>\n<!-- 139633776674272&#45;&gt;139633776675664 -->\n<g id=\"edge137\" class=\"edge\">\n<title>139633776674272&#45;&gt;139633776675664</title>\n<path fill=\"none\" stroke=\"#000000\" d=\"M944.5939,-2002.7796C928.7896,-1993.1214 904.3345,-1978.1766 886.0401,-1966.9967\"/>\n<polygon fill=\"#000000\" stroke=\"#000000\" points=\"887.7245,-1963.9243 877.3666,-1961.6962 884.0743,-1969.8973 887.7245,-1963.9243\"/>\n</g>\n<!-- 139633776843008 -->\n<g id=\"node136\" class=\"node\">\n<title>139633776843008</title>\n<polygon fill=\"#add8e6\" stroke=\"#000000\" points=\"1034,-2088 891,-2088 891,-2058 1034,-2058 1034,-2088\"/>\n<text text-anchor=\"middle\" x=\"962.5\" y=\"-2076\" font-family=\"monospace\" font-size=\"10.00\" fill=\"#000000\">resnet.6.0.bn1.weight</text>\n<text text-anchor=\"middle\" x=\"962.5\" y=\"-2065\" font-family=\"monospace\" font-size=\"10.00\" fill=\"#000000\"> (256)</text>\n</g>\n<!-- 139633776843008&#45;&gt;139633776674272 -->\n<g id=\"edge138\" class=\"edge\">\n<title>139633776843008&#45;&gt;139633776674272</title>\n<path fill=\"none\" stroke=\"#000000\" d=\"M961.9953,-2057.7333C961.7407,-2050.0322 961.4288,-2040.5977 961.1559,-2032.3414\"/>\n<polygon fill=\"#000000\" stroke=\"#000000\" points=\"964.6455,-2031.9653 960.8169,-2022.0864 957.6493,-2032.1966 964.6455,-2031.9653\"/>\n</g>\n<!-- 139633776676144 -->\n<g id=\"node137\" class=\"node\">\n<title>139633776676144</title>\n<polygon fill=\"#d3d3d3\" stroke=\"#000000\" points=\"1149,-2022 1048,-2022 1048,-2003 1149,-2003 1149,-2022\"/>\n<text text-anchor=\"middle\" x=\"1098.5\" y=\"-2010\" font-family=\"monospace\" font-size=\"10.00\" fill=\"#000000\">AccumulateGrad</text>\n</g>\n<!-- 139633776676144&#45;&gt;139633776675664 -->\n<g id=\"edge139\" class=\"edge\">\n<title>139633776676144&#45;&gt;139633776675664</title>\n<path fill=\"none\" stroke=\"#000000\" d=\"M1061.208,-2002.9803C1020.0032,-1992.4618 953.5577,-1975.4999 908.7422,-1964.0597\"/>\n<polygon fill=\"#000000\" stroke=\"#000000\" points=\"909.5205,-1960.6462 898.9655,-1961.564 907.789,-1967.4287 909.5205,-1960.6462\"/>\n</g>\n<!-- 139633776843168 -->\n<g id=\"node138\" class=\"node\">\n<title>139633776843168</title>\n<polygon fill=\"#add8e6\" stroke=\"#000000\" points=\"1183,-2088 1052,-2088 1052,-2058 1183,-2058 1183,-2088\"/>\n<text text-anchor=\"middle\" x=\"1117.5\" y=\"-2076\" font-family=\"monospace\" font-size=\"10.00\" fill=\"#000000\">resnet.6.0.bn1.bias</text>\n<text text-anchor=\"middle\" x=\"1117.5\" y=\"-2065\" font-family=\"monospace\" font-size=\"10.00\" fill=\"#000000\"> (256)</text>\n</g>\n<!-- 139633776843168&#45;&gt;139633776676144 -->\n<g id=\"edge140\" class=\"edge\">\n<title>139633776843168&#45;&gt;139633776676144</title>\n<path fill=\"none\" stroke=\"#000000\" d=\"M1112.7055,-2057.7333C1110.232,-2049.8571 1107.1891,-2040.168 1104.555,-2031.7803\"/>\n<polygon fill=\"#000000\" stroke=\"#000000\" points=\"1107.8461,-2030.5783 1101.5106,-2022.0864 1101.1677,-2032.6757 1107.8461,-2030.5783\"/>\n</g>\n<!-- 139633776673264 -->\n<g id=\"node139\" class=\"node\">\n<title>139633776673264</title>\n<polygon fill=\"#d3d3d3\" stroke=\"#000000\" points=\"1058,-1895.5 957,-1895.5 957,-1876.5 1058,-1876.5 1058,-1895.5\"/>\n<text text-anchor=\"middle\" x=\"1007.5\" y=\"-1883.5\" font-family=\"monospace\" font-size=\"10.00\" fill=\"#000000\">AccumulateGrad</text>\n</g>\n<!-- 139633776673264&#45;&gt;139633776673792 -->\n<g id=\"edge141\" class=\"edge\">\n<title>139633776673264&#45;&gt;139633776673792</title>\n<path fill=\"none\" stroke=\"#000000\" d=\"M984.3659,-1876.4136C960.0178,-1866.3242 921.4929,-1850.3601 894.077,-1838.9994\"/>\n<polygon fill=\"#000000\" stroke=\"#000000\" points=\"895.104,-1835.6364 884.5259,-1835.0416 892.4243,-1842.1032 895.104,-1835.6364\"/>\n</g>\n<!-- 139633776843648 -->\n<g id=\"node140\" class=\"node\">\n<title>139633776843648</title>\n<polygon fill=\"#add8e6\" stroke=\"#000000\" points=\"1115,-1967 960,-1967 960,-1937 1115,-1937 1115,-1967\"/>\n<text text-anchor=\"middle\" x=\"1037.5\" y=\"-1955\" font-family=\"monospace\" font-size=\"10.00\" fill=\"#000000\">resnet.6.0.conv2.weight</text>\n<text text-anchor=\"middle\" x=\"1037.5\" y=\"-1944\" font-family=\"monospace\" font-size=\"10.00\" fill=\"#000000\"> (256, 256, 3, 3)</text>\n</g>\n<!-- 139633776843648&#45;&gt;139633776673264 -->\n<g id=\"edge142\" class=\"edge\">\n<title>139633776843648&#45;&gt;139633776673264</title>\n<path fill=\"none\" stroke=\"#000000\" d=\"M1030.542,-1936.6924C1026.232,-1927.2104 1020.6644,-1914.9616 1016.0817,-1904.8798\"/>\n<polygon fill=\"#000000\" stroke=\"#000000\" points=\"1019.2349,-1903.3584 1011.9105,-1895.7031 1012.8623,-1906.2551 1019.2349,-1903.3584\"/>\n</g>\n<!-- 139633776674992 -->\n<g id=\"node141\" class=\"node\">\n<title>139633776674992</title>\n<polygon fill=\"#d3d3d3\" stroke=\"#000000\" points=\"633,-1835 532,-1835 532,-1816 633,-1816 633,-1835\"/>\n<text text-anchor=\"middle\" x=\"582.5\" y=\"-1823\" font-family=\"monospace\" font-size=\"10.00\" fill=\"#000000\">AccumulateGrad</text>\n</g>\n<!-- 139633776674992&#45;&gt;139633776676384 -->\n<g id=\"edge143\" class=\"edge\">\n<title>139633776674992&#45;&gt;139633776676384</title>\n<path fill=\"none\" stroke=\"#000000\" d=\"M590.1642,-1815.9197C596.2719,-1808.2851 604.9907,-1797.3867 612.3567,-1788.1792\"/>\n<polygon fill=\"#000000\" stroke=\"#000000\" points=\"615.1134,-1790.336 618.6273,-1780.3408 609.6473,-1785.9631 615.1134,-1790.336\"/>\n</g>\n<!-- 139633776843568 -->\n<g id=\"node142\" class=\"node\">\n<title>139633776843568</title>\n<polygon fill=\"#add8e6\" stroke=\"#000000\" points=\"646,-1901 503,-1901 503,-1871 646,-1871 646,-1901\"/>\n<text text-anchor=\"middle\" x=\"574.5\" y=\"-1889\" font-family=\"monospace\" font-size=\"10.00\" fill=\"#000000\">resnet.6.0.bn2.weight</text>\n<text text-anchor=\"middle\" x=\"574.5\" y=\"-1878\" font-family=\"monospace\" font-size=\"10.00\" fill=\"#000000\"> (256)</text>\n</g>\n<!-- 139633776843568&#45;&gt;139633776674992 -->\n<g id=\"edge144\" class=\"edge\">\n<title>139633776843568&#45;&gt;139633776674992</title>\n<path fill=\"none\" stroke=\"#000000\" d=\"M576.5187,-1870.7333C577.5486,-1862.9447 578.813,-1853.3831 579.9135,-1845.0604\"/>\n<polygon fill=\"#000000\" stroke=\"#000000\" points=\"583.3912,-1845.459 581.2324,-1835.0864 576.4516,-1844.5413 583.3912,-1845.459\"/>\n</g>\n<!-- 139633776673840 -->\n<g id=\"node143\" class=\"node\">\n<title>139633776673840</title>\n<polygon fill=\"#d3d3d3\" stroke=\"#000000\" points=\"760,-1835 659,-1835 659,-1816 760,-1816 760,-1835\"/>\n<text text-anchor=\"middle\" x=\"709.5\" y=\"-1823\" font-family=\"monospace\" font-size=\"10.00\" fill=\"#000000\">AccumulateGrad</text>\n</g>\n<!-- 139633776673840&#45;&gt;139633776676384 -->\n<g id=\"edge145\" class=\"edge\">\n<title>139633776673840&#45;&gt;139633776676384</title>\n<path fill=\"none\" stroke=\"#000000\" d=\"M695.0425,-1815.9197C682.5037,-1807.6109 664.1312,-1795.4363 649.5632,-1785.7828\"/>\n<polygon fill=\"#000000\" stroke=\"#000000\" points=\"651.3396,-1782.7613 641.0703,-1780.155 647.4729,-1788.5964 651.3396,-1782.7613\"/>\n</g>\n<!-- 139633776843728 -->\n<g id=\"node144\" class=\"node\">\n<title>139633776843728</title>\n<polygon fill=\"#add8e6\" stroke=\"#000000\" points=\"795,-1901 664,-1901 664,-1871 795,-1871 795,-1901\"/>\n<text text-anchor=\"middle\" x=\"729.5\" y=\"-1889\" font-family=\"monospace\" font-size=\"10.00\" fill=\"#000000\">resnet.6.0.bn2.bias</text>\n<text text-anchor=\"middle\" x=\"729.5\" y=\"-1878\" font-family=\"monospace\" font-size=\"10.00\" fill=\"#000000\"> (256)</text>\n</g>\n<!-- 139633776843728&#45;&gt;139633776673840 -->\n<g id=\"edge146\" class=\"edge\">\n<title>139633776843728&#45;&gt;139633776673840</title>\n<path fill=\"none\" stroke=\"#000000\" d=\"M724.4532,-1870.7333C721.8495,-1862.8571 718.6464,-1853.168 715.8737,-1844.7803\"/>\n<polygon fill=\"#000000\" stroke=\"#000000\" points=\"719.131,-1843.4825 712.6691,-1835.0864 712.4847,-1845.6796 719.131,-1843.4825\"/>\n</g>\n<!-- 139633776674032 -->\n<g id=\"node145\" class=\"node\">\n<title>139633776674032</title>\n<polygon fill=\"#d3d3d3\" stroke=\"#000000\" points=\"525,-1961.5 364,-1961.5 364,-1942.5 525,-1942.5 525,-1961.5\"/>\n<text text-anchor=\"middle\" x=\"444.5\" y=\"-1949.5\" font-family=\"monospace\" font-size=\"10.00\" fill=\"#000000\">NativeBatchNormBackward0</text>\n</g>\n<!-- 139633776674032&#45;&gt;139633776672880 -->\n<g id=\"edge147\" class=\"edge\">\n<title>139633776674032&#45;&gt;139633776672880</title>\n<path fill=\"none\" stroke=\"#000000\" d=\"M446.7646,-1942.2136C455.1554,-1905.9536 484.5736,-1778.8249 495.9555,-1729.6386\"/>\n<polygon fill=\"#000000\" stroke=\"#000000\" points=\"499.4239,-1730.1747 498.2686,-1719.6431 492.6041,-1728.5965 499.4239,-1730.1747\"/>\n</g>\n<!-- 139633776675760&#45;&gt;139633776674032 -->\n<g id=\"edge148\" class=\"edge\">\n<title>139633776675760&#45;&gt;139633776674032</title>\n<path fill=\"none\" stroke=\"#000000\" d=\"M567.3659,-2002.9136C543.0178,-1992.8242 504.4929,-1976.8601 477.077,-1965.4994\"/>\n<polygon fill=\"#000000\" stroke=\"#000000\" points=\"478.104,-1962.1364 467.5259,-1961.5416 475.4243,-1968.6032 478.104,-1962.1364\"/>\n</g>\n<!-- 139633776673072 -->\n<g id=\"node147\" class=\"node\">\n<title>139633776673072</title>\n<polygon fill=\"#d3d3d3\" stroke=\"#000000\" points=\"641,-2082.5 540,-2082.5 540,-2063.5 641,-2063.5 641,-2082.5\"/>\n<text text-anchor=\"middle\" x=\"590.5\" y=\"-2070.5\" font-family=\"monospace\" font-size=\"10.00\" fill=\"#000000\">AccumulateGrad</text>\n</g>\n<!-- 139633776673072&#45;&gt;139633776675760 -->\n<g id=\"edge150\" class=\"edge\">\n<title>139633776673072&#45;&gt;139633776675760</title>\n<path fill=\"none\" stroke=\"#000000\" d=\"M590.5,-2063.2796C590.5,-2055.0376 590.5,-2042.9457 590.5,-2032.629\"/>\n<polygon fill=\"#000000\" stroke=\"#000000\" points=\"594.0001,-2032.3972 590.5,-2022.3972 587.0001,-2032.3973 594.0001,-2032.3972\"/>\n</g>\n<!-- 139633776842368 -->\n<g id=\"node148\" class=\"node\">\n<title>139633776842368</title>\n<polygon fill=\"#add8e6\" stroke=\"#000000\" points=\"644,-2154 447,-2154 447,-2124 644,-2124 644,-2154\"/>\n<text text-anchor=\"middle\" x=\"545.5\" y=\"-2142\" font-family=\"monospace\" font-size=\"10.00\" fill=\"#000000\">resnet.6.0.downsample.0.weight</text>\n<text text-anchor=\"middle\" x=\"545.5\" y=\"-2131\" font-family=\"monospace\" font-size=\"10.00\" fill=\"#000000\"> (256, 128, 1, 1)</text>\n</g>\n<!-- 139633776842368&#45;&gt;139633776673072 -->\n<g id=\"edge151\" class=\"edge\">\n<title>139633776842368&#45;&gt;139633776673072</title>\n<path fill=\"none\" stroke=\"#000000\" d=\"M555.937,-2123.6924C562.5367,-2114.0129 571.1022,-2101.4501 578.0551,-2091.2526\"/>\n<polygon fill=\"#000000\" stroke=\"#000000\" points=\"581.1427,-2092.937 583.8843,-2082.7031 575.3591,-2088.9937 581.1427,-2092.937\"/>\n</g>\n<!-- 139633776676048 -->\n<g id=\"node149\" class=\"node\">\n<title>139633776676048</title>\n<polygon fill=\"#d3d3d3\" stroke=\"#000000\" points=\"328,-2022 227,-2022 227,-2003 328,-2003 328,-2022\"/>\n<text text-anchor=\"middle\" x=\"277.5\" y=\"-2010\" font-family=\"monospace\" font-size=\"10.00\" fill=\"#000000\">AccumulateGrad</text>\n</g>\n<!-- 139633776676048&#45;&gt;139633776674032 -->\n<g id=\"edge152\" class=\"edge\">\n<title>139633776676048&#45;&gt;139633776674032</title>\n<path fill=\"none\" stroke=\"#000000\" d=\"M303.9616,-2002.9136C332.1783,-1992.6914 377.0405,-1976.4389 408.4685,-1965.0533\"/>\n<polygon fill=\"#000000\" stroke=\"#000000\" points=\"409.9523,-1968.2385 418.1622,-1961.5416 407.5679,-1961.657 409.9523,-1968.2385\"/>\n</g>\n<!-- 139633776842448 -->\n<g id=\"node150\" class=\"node\">\n<title>139633776842448</title>\n<polygon fill=\"#add8e6\" stroke=\"#000000\" points=\"319,-2088 122,-2088 122,-2058 319,-2058 319,-2088\"/>\n<text text-anchor=\"middle\" x=\"220.5\" y=\"-2076\" font-family=\"monospace\" font-size=\"10.00\" fill=\"#000000\">resnet.6.0.downsample.1.weight</text>\n<text text-anchor=\"middle\" x=\"220.5\" y=\"-2065\" font-family=\"monospace\" font-size=\"10.00\" fill=\"#000000\"> (256)</text>\n</g>\n<!-- 139633776842448&#45;&gt;139633776676048 -->\n<g id=\"edge153\" class=\"edge\">\n<title>139633776842448&#45;&gt;139633776676048</title>\n<path fill=\"none\" stroke=\"#000000\" d=\"M234.8835,-2057.7333C242.9636,-2049.157 253.069,-2038.4311 261.4113,-2029.5766\"/>\n<polygon fill=\"#000000\" stroke=\"#000000\" points=\"264.1582,-2031.765 268.4682,-2022.0864 259.0633,-2026.9648 264.1582,-2031.765\"/>\n</g>\n<!-- 139633776672832 -->\n<g id=\"node151\" class=\"node\">\n<title>139633776672832</title>\n<polygon fill=\"#d3d3d3\" stroke=\"#000000\" points=\"492,-2022 391,-2022 391,-2003 492,-2003 492,-2022\"/>\n<text text-anchor=\"middle\" x=\"441.5\" y=\"-2010\" font-family=\"monospace\" font-size=\"10.00\" fill=\"#000000\">AccumulateGrad</text>\n</g>\n<!-- 139633776672832&#45;&gt;139633776674032 -->\n<g id=\"edge154\" class=\"edge\">\n<title>139633776672832&#45;&gt;139633776674032</title>\n<path fill=\"none\" stroke=\"#000000\" d=\"M441.982,-2002.7796C442.3907,-1994.5376 442.9903,-1982.4457 443.5019,-1972.129\"/>\n<polygon fill=\"#000000\" stroke=\"#000000\" points=\"447.0096,-1972.0583 444.0092,-1961.8972 440.0182,-1971.7116 447.0096,-1972.0583\"/>\n</g>\n<!-- 139633776842528 -->\n<g id=\"node152\" class=\"node\">\n<title>139633776842528</title>\n<polygon fill=\"#add8e6\" stroke=\"#000000\" points=\"522,-2088 337,-2088 337,-2058 522,-2058 522,-2088\"/>\n<text text-anchor=\"middle\" x=\"429.5\" y=\"-2076\" font-family=\"monospace\" font-size=\"10.00\" fill=\"#000000\">resnet.6.0.downsample.1.bias</text>\n<text text-anchor=\"middle\" x=\"429.5\" y=\"-2065\" font-family=\"monospace\" font-size=\"10.00\" fill=\"#000000\"> (256)</text>\n</g>\n<!-- 139633776842528&#45;&gt;139633776672832 -->\n<g id=\"edge155\" class=\"edge\">\n<title>139633776842528&#45;&gt;139633776672832</title>\n<path fill=\"none\" stroke=\"#000000\" d=\"M432.5281,-2057.7333C434.073,-2049.9447 435.9695,-2040.3831 437.6203,-2032.0604\"/>\n<polygon fill=\"#000000\" stroke=\"#000000\" points=\"441.086,-2032.5763 439.5986,-2022.0864 434.2198,-2031.2143 441.086,-2032.5763\"/>\n</g>\n<!-- 139633776676000 -->\n<g id=\"node153\" class=\"node\">\n<title>139633776676000</title>\n<polygon fill=\"#d3d3d3\" stroke=\"#000000\" points=\"696,-1653.5 595,-1653.5 595,-1634.5 696,-1634.5 696,-1653.5\"/>\n<text text-anchor=\"middle\" x=\"645.5\" y=\"-1641.5\" font-family=\"monospace\" font-size=\"10.00\" fill=\"#000000\">AccumulateGrad</text>\n</g>\n<!-- 139633776676000&#45;&gt;139633776676240 -->\n<g id=\"edge156\" class=\"edge\">\n<title>139633776676000&#45;&gt;139633776676240</title>\n<path fill=\"none\" stroke=\"#000000\" d=\"M645.5,-1634.2796C645.5,-1626.0376 645.5,-1613.9457 645.5,-1603.629\"/>\n<polygon fill=\"#000000\" stroke=\"#000000\" points=\"649.0001,-1603.3972 645.5,-1593.3972 642.0001,-1603.3973 649.0001,-1603.3972\"/>\n</g>\n<!-- 139633776844128 -->\n<g id=\"node154\" class=\"node\">\n<title>139633776844128</title>\n<polygon fill=\"#add8e6\" stroke=\"#000000\" points=\"723,-1725 568,-1725 568,-1695 723,-1695 723,-1725\"/>\n<text text-anchor=\"middle\" x=\"645.5\" y=\"-1713\" font-family=\"monospace\" font-size=\"10.00\" fill=\"#000000\">resnet.6.1.conv1.weight</text>\n<text text-anchor=\"middle\" x=\"645.5\" y=\"-1702\" font-family=\"monospace\" font-size=\"10.00\" fill=\"#000000\"> (256, 256, 3, 3)</text>\n</g>\n<!-- 139633776844128&#45;&gt;139633776676000 -->\n<g id=\"edge157\" class=\"edge\">\n<title>139633776844128&#45;&gt;139633776676000</title>\n<path fill=\"none\" stroke=\"#000000\" d=\"M645.5,-1694.6924C645.5,-1685.5067 645.5,-1673.7245 645.5,-1663.8312\"/>\n<polygon fill=\"#000000\" stroke=\"#000000\" points=\"649.0001,-1663.703 645.5,-1653.7031 642.0001,-1663.7031 649.0001,-1663.703\"/>\n</g>\n<!-- 139633776673888 -->\n<g id=\"node155\" class=\"node\">\n<title>139633776673888</title>\n<polygon fill=\"#d3d3d3\" stroke=\"#000000\" points=\"855,-1593 754,-1593 754,-1574 855,-1574 855,-1593\"/>\n<text text-anchor=\"middle\" x=\"804.5\" y=\"-1581\" font-family=\"monospace\" font-size=\"10.00\" fill=\"#000000\">AccumulateGrad</text>\n</g>\n<!-- 139633776673888&#45;&gt;139633776674752 -->\n<g id=\"edge158\" class=\"edge\">\n<title>139633776673888&#45;&gt;139633776674752</title>\n<path fill=\"none\" stroke=\"#000000\" d=\"M806.91,-1573.7796C808.9752,-1565.4499 812.0154,-1553.188 814.5908,-1542.8004\"/>\n<polygon fill=\"#000000\" stroke=\"#000000\" points=\"818.0367,-1543.4457 817.0461,-1532.8972 811.2424,-1541.7611 818.0367,-1543.4457\"/>\n</g>\n<!-- 139633776844048 -->\n<g id=\"node156\" class=\"node\">\n<title>139633776844048</title>\n<polygon fill=\"#add8e6\" stroke=\"#000000\" points=\"867,-1659 724,-1659 724,-1629 867,-1629 867,-1659\"/>\n<text text-anchor=\"middle\" x=\"795.5\" y=\"-1647\" font-family=\"monospace\" font-size=\"10.00\" fill=\"#000000\">resnet.6.1.bn1.weight</text>\n<text text-anchor=\"middle\" x=\"795.5\" y=\"-1636\" font-family=\"monospace\" font-size=\"10.00\" fill=\"#000000\"> (256)</text>\n</g>\n<!-- 139633776844048&#45;&gt;139633776673888 -->\n<g id=\"edge159\" class=\"edge\">\n<title>139633776844048&#45;&gt;139633776673888</title>\n<path fill=\"none\" stroke=\"#000000\" d=\"M797.7711,-1628.7333C798.9297,-1620.9447 800.3521,-1611.3831 801.5902,-1603.0604\"/>\n<polygon fill=\"#000000\" stroke=\"#000000\" points=\"805.0643,-1603.4926 803.0739,-1593.0864 798.1405,-1602.4625 805.0643,-1603.4926\"/>\n</g>\n<!-- 139633776675184 -->\n<g id=\"node157\" class=\"node\">\n<title>139633776675184</title>\n<polygon fill=\"#d3d3d3\" stroke=\"#000000\" points=\"992,-1593 891,-1593 891,-1574 992,-1574 992,-1593\"/>\n<text text-anchor=\"middle\" x=\"941.5\" y=\"-1581\" font-family=\"monospace\" font-size=\"10.00\" fill=\"#000000\">AccumulateGrad</text>\n</g>\n<!-- 139633776675184&#45;&gt;139633776674752 -->\n<g id=\"edge160\" class=\"edge\">\n<title>139633776675184&#45;&gt;139633776674752</title>\n<path fill=\"none\" stroke=\"#000000\" d=\"M922.1687,-1573.9136C902.1801,-1564.0012 870.7569,-1548.4184 847.9361,-1537.1015\"/>\n<polygon fill=\"#000000\" stroke=\"#000000\" points=\"849.2547,-1533.8487 838.7408,-1532.5416 846.1448,-1540.12 849.2547,-1533.8487\"/>\n</g>\n<!-- 139633776844208 -->\n<g id=\"node158\" class=\"node\">\n<title>139633776844208</title>\n<polygon fill=\"#add8e6\" stroke=\"#000000\" points=\"1016,-1659 885,-1659 885,-1629 1016,-1629 1016,-1659\"/>\n<text text-anchor=\"middle\" x=\"950.5\" y=\"-1647\" font-family=\"monospace\" font-size=\"10.00\" fill=\"#000000\">resnet.6.1.bn1.bias</text>\n<text text-anchor=\"middle\" x=\"950.5\" y=\"-1636\" font-family=\"monospace\" font-size=\"10.00\" fill=\"#000000\"> (256)</text>\n</g>\n<!-- 139633776844208&#45;&gt;139633776675184 -->\n<g id=\"edge161\" class=\"edge\">\n<title>139633776844208&#45;&gt;139633776675184</title>\n<path fill=\"none\" stroke=\"#000000\" d=\"M948.2289,-1628.7333C947.0703,-1620.9447 945.6479,-1611.3831 944.4098,-1603.0604\"/>\n<polygon fill=\"#000000\" stroke=\"#000000\" points=\"947.8595,-1602.4625 942.9261,-1593.0864 940.9357,-1603.4926 947.8595,-1602.4625\"/>\n</g>\n<!-- 139633776676624 -->\n<g id=\"node159\" class=\"node\">\n<title>139633776676624</title>\n<polygon fill=\"#d3d3d3\" stroke=\"#000000\" points=\"1048,-1466.5 947,-1466.5 947,-1447.5 1048,-1447.5 1048,-1466.5\"/>\n<text text-anchor=\"middle\" x=\"997.5\" y=\"-1454.5\" font-family=\"monospace\" font-size=\"10.00\" fill=\"#000000\">AccumulateGrad</text>\n</g>\n<!-- 139633776676624&#45;&gt;139633776673600 -->\n<g id=\"edge162\" class=\"edge\">\n<title>139633776676624&#45;&gt;139633776673600</title>\n<path fill=\"none\" stroke=\"#000000\" d=\"M979.1195,-1447.4136C960.1987,-1437.5454 930.5026,-1422.0574 908.8287,-1410.7533\"/>\n<polygon fill=\"#000000\" stroke=\"#000000\" points=\"910.2796,-1407.5627 899.7946,-1406.0416 907.0425,-1413.7693 910.2796,-1407.5627\"/>\n</g>\n<!-- 139633776844688 -->\n<g id=\"node160\" class=\"node\">\n<title>139633776844688</title>\n<polygon fill=\"#add8e6\" stroke=\"#000000\" points=\"1075,-1538 920,-1538 920,-1508 1075,-1508 1075,-1538\"/>\n<text text-anchor=\"middle\" x=\"997.5\" y=\"-1526\" font-family=\"monospace\" font-size=\"10.00\" fill=\"#000000\">resnet.6.1.conv2.weight</text>\n<text text-anchor=\"middle\" x=\"997.5\" y=\"-1515\" font-family=\"monospace\" font-size=\"10.00\" fill=\"#000000\"> (256, 256, 3, 3)</text>\n</g>\n<!-- 139633776844688&#45;&gt;139633776676624 -->\n<g id=\"edge163\" class=\"edge\">\n<title>139633776844688&#45;&gt;139633776676624</title>\n<path fill=\"none\" stroke=\"#000000\" d=\"M997.5,-1507.6924C997.5,-1498.5067 997.5,-1486.7245 997.5,-1476.8312\"/>\n<polygon fill=\"#000000\" stroke=\"#000000\" points=\"1001.0001,-1476.703 997.5,-1466.7031 994.0001,-1476.7031 1001.0001,-1476.703\"/>\n</g>\n<!-- 139633776674368 -->\n<g id=\"node161\" class=\"node\">\n<title>139633776674368</title>\n<polygon fill=\"#d3d3d3\" stroke=\"#000000\" points=\"653,-1406 552,-1406 552,-1387 653,-1387 653,-1406\"/>\n<text text-anchor=\"middle\" x=\"602.5\" y=\"-1394\" font-family=\"monospace\" font-size=\"10.00\" fill=\"#000000\">AccumulateGrad</text>\n</g>\n<!-- 139633776674368&#45;&gt;139633776676288 -->\n<g id=\"edge164\" class=\"edge\">\n<title>139633776674368&#45;&gt;139633776676288</title>\n<path fill=\"none\" stroke=\"#000000\" d=\"M615.0414,-1386.9197C625.6478,-1378.8177 641.0659,-1367.0399 653.5439,-1357.5082\"/>\n<polygon fill=\"#000000\" stroke=\"#000000\" points=\"655.7954,-1360.1926 661.6175,-1351.3408 651.5461,-1354.6299 655.7954,-1360.1926\"/>\n</g>\n<!-- 139633776844608 -->\n<g id=\"node162\" class=\"node\">\n<title>139633776844608</title>\n<polygon fill=\"#add8e6\" stroke=\"#000000\" points=\"667,-1472 524,-1472 524,-1442 667,-1442 667,-1472\"/>\n<text text-anchor=\"middle\" x=\"595.5\" y=\"-1460\" font-family=\"monospace\" font-size=\"10.00\" fill=\"#000000\">resnet.6.1.bn2.weight</text>\n<text text-anchor=\"middle\" x=\"595.5\" y=\"-1449\" font-family=\"monospace\" font-size=\"10.00\" fill=\"#000000\"> (256)</text>\n</g>\n<!-- 139633776844608&#45;&gt;139633776674368 -->\n<g id=\"edge165\" class=\"edge\">\n<title>139633776844608&#45;&gt;139633776674368</title>\n<path fill=\"none\" stroke=\"#000000\" d=\"M597.2664,-1441.7333C598.1676,-1433.9447 599.2739,-1424.3831 600.2368,-1416.0604\"/>\n<polygon fill=\"#000000\" stroke=\"#000000\" points=\"603.7182,-1416.4224 601.3908,-1406.0864 596.7646,-1415.6178 603.7182,-1416.4224\"/>\n</g>\n<!-- 139633776675904 -->\n<g id=\"node163\" class=\"node\">\n<title>139633776675904</title>\n<polygon fill=\"#d3d3d3\" stroke=\"#000000\" points=\"780,-1406 679,-1406 679,-1387 780,-1387 780,-1406\"/>\n<text text-anchor=\"middle\" x=\"729.5\" y=\"-1394\" font-family=\"monospace\" font-size=\"10.00\" fill=\"#000000\">AccumulateGrad</text>\n</g>\n<!-- 139633776675904&#45;&gt;139633776676288 -->\n<g id=\"edge166\" class=\"edge\">\n<title>139633776675904&#45;&gt;139633776676288</title>\n<path fill=\"none\" stroke=\"#000000\" d=\"M719.9197,-1386.9197C712.1293,-1379.1293 700.9405,-1367.9405 691.6176,-1358.6176\"/>\n<polygon fill=\"#000000\" stroke=\"#000000\" points=\"693.8868,-1355.937 684.3408,-1351.3408 688.937,-1360.8868 693.8868,-1355.937\"/>\n</g>\n<!-- 139633776418880 -->\n<g id=\"node164\" class=\"node\">\n<title>139633776418880</title>\n<polygon fill=\"#add8e6\" stroke=\"#000000\" points=\"816,-1472 685,-1472 685,-1442 816,-1442 816,-1472\"/>\n<text text-anchor=\"middle\" x=\"750.5\" y=\"-1460\" font-family=\"monospace\" font-size=\"10.00\" fill=\"#000000\">resnet.6.1.bn2.bias</text>\n<text text-anchor=\"middle\" x=\"750.5\" y=\"-1449\" font-family=\"monospace\" font-size=\"10.00\" fill=\"#000000\"> (256)</text>\n</g>\n<!-- 139633776418880&#45;&gt;139633776675904 -->\n<g id=\"edge167\" class=\"edge\">\n<title>139633776418880&#45;&gt;139633776675904</title>\n<path fill=\"none\" stroke=\"#000000\" d=\"M745.2008,-1441.7333C742.4669,-1433.8571 739.1038,-1424.168 736.1923,-1415.7803\"/>\n<polygon fill=\"#000000\" stroke=\"#000000\" points=\"739.4132,-1414.3858 732.8275,-1406.0864 732.8002,-1416.6812 739.4132,-1414.3858\"/>\n</g>\n<!-- 139633776674080 -->\n<g id=\"node165\" class=\"node\">\n<title>139633776674080</title>\n<polygon fill=\"#d3d3d3\" stroke=\"#000000\" points=\"751,-1224.5 650,-1224.5 650,-1205.5 751,-1205.5 751,-1224.5\"/>\n<text text-anchor=\"middle\" x=\"700.5\" y=\"-1212.5\" font-family=\"monospace\" font-size=\"10.00\" fill=\"#000000\">AccumulateGrad</text>\n</g>\n<!-- 139633776674080&#45;&gt;139633776675328 -->\n<g id=\"edge169\" class=\"edge\">\n<title>139633776674080&#45;&gt;139633776675328</title>\n<path fill=\"none\" stroke=\"#000000\" d=\"M700.5,-1205.2796C700.5,-1197.0376 700.5,-1184.9457 700.5,-1174.629\"/>\n<polygon fill=\"#000000\" stroke=\"#000000\" points=\"704.0001,-1174.3972 700.5,-1164.3972 697.0001,-1174.3973 704.0001,-1174.3972\"/>\n</g>\n<!-- 139633776420000 -->\n<g id=\"node166\" class=\"node\">\n<title>139633776420000</title>\n<polygon fill=\"#add8e6\" stroke=\"#000000\" points=\"802,-1296 647,-1296 647,-1266 802,-1266 802,-1296\"/>\n<text text-anchor=\"middle\" x=\"724.5\" y=\"-1284\" font-family=\"monospace\" font-size=\"10.00\" fill=\"#000000\">resnet.7.0.conv1.weight</text>\n<text text-anchor=\"middle\" x=\"724.5\" y=\"-1273\" font-family=\"monospace\" font-size=\"10.00\" fill=\"#000000\"> (512, 256, 3, 3)</text>\n</g>\n<!-- 139633776420000&#45;&gt;139633776674080 -->\n<g id=\"edge170\" class=\"edge\">\n<title>139633776420000&#45;&gt;139633776674080</title>\n<path fill=\"none\" stroke=\"#000000\" d=\"M718.9336,-1265.6924C715.5215,-1256.3092 711.1242,-1244.2165 707.4802,-1234.1956\"/>\n<polygon fill=\"#000000\" stroke=\"#000000\" points=\"710.7352,-1232.9049 704.0284,-1224.7031 704.1566,-1235.2971 710.7352,-1232.9049\"/>\n</g>\n<!-- 139633776674704 -->\n<g id=\"node167\" class=\"node\">\n<title>139633776674704</title>\n<polygon fill=\"#d3d3d3\" stroke=\"#000000\" points=\"889,-1164 788,-1164 788,-1145 889,-1145 889,-1164\"/>\n<text text-anchor=\"middle\" x=\"838.5\" y=\"-1152\" font-family=\"monospace\" font-size=\"10.00\" fill=\"#000000\">AccumulateGrad</text>\n</g>\n<!-- 139633776674704&#45;&gt;139633776675520 -->\n<g id=\"edge171\" class=\"edge\">\n<title>139633776674704&#45;&gt;139633776675520</title>\n<path fill=\"none\" stroke=\"#000000\" d=\"M827.2533,-1144.7796C816.6011,-1135.5731 800.3911,-1121.563 787.6941,-1110.5892\"/>\n<polygon fill=\"#000000\" stroke=\"#000000\" points=\"789.8058,-1107.7882 779.9513,-1103.8972 785.2285,-1113.0843 789.8058,-1107.7882\"/>\n</g>\n<!-- 139633776419920 -->\n<g id=\"node168\" class=\"node\">\n<title>139633776419920</title>\n<polygon fill=\"#add8e6\" stroke=\"#000000\" points=\"912,-1230 769,-1230 769,-1200 912,-1200 912,-1230\"/>\n<text text-anchor=\"middle\" x=\"840.5\" y=\"-1218\" font-family=\"monospace\" font-size=\"10.00\" fill=\"#000000\">resnet.7.0.bn1.weight</text>\n<text text-anchor=\"middle\" x=\"840.5\" y=\"-1207\" font-family=\"monospace\" font-size=\"10.00\" fill=\"#000000\"> (512)</text>\n</g>\n<!-- 139633776419920&#45;&gt;139633776674704 -->\n<g id=\"edge172\" class=\"edge\">\n<title>139633776419920&#45;&gt;139633776674704</title>\n<path fill=\"none\" stroke=\"#000000\" d=\"M839.9953,-1199.7333C839.7407,-1192.0322 839.4288,-1182.5977 839.1559,-1174.3414\"/>\n<polygon fill=\"#000000\" stroke=\"#000000\" points=\"842.6455,-1173.9653 838.8169,-1164.0864 835.6493,-1174.1966 842.6455,-1173.9653\"/>\n</g>\n<!-- 139633776674608 -->\n<g id=\"node169\" class=\"node\">\n<title>139633776674608</title>\n<polygon fill=\"#d3d3d3\" stroke=\"#000000\" points=\"1027,-1164 926,-1164 926,-1145 1027,-1145 1027,-1164\"/>\n<text text-anchor=\"middle\" x=\"976.5\" y=\"-1152\" font-family=\"monospace\" font-size=\"10.00\" fill=\"#000000\">AccumulateGrad</text>\n</g>\n<!-- 139633776674608&#45;&gt;139633776675520 -->\n<g id=\"edge173\" class=\"edge\">\n<title>139633776674608&#45;&gt;139633776675520</title>\n<path fill=\"none\" stroke=\"#000000\" d=\"M943.5418,-1144.9136C907.7131,-1134.4923 850.3366,-1117.8034 811.1093,-1106.3936\"/>\n<polygon fill=\"#000000\" stroke=\"#000000\" points=\"811.8836,-1102.9738 801.304,-1103.5416 809.9285,-1109.6953 811.8836,-1102.9738\"/>\n</g>\n<!-- 139633776420080 -->\n<g id=\"node170\" class=\"node\">\n<title>139633776420080</title>\n<polygon fill=\"#add8e6\" stroke=\"#000000\" points=\"1061,-1230 930,-1230 930,-1200 1061,-1200 1061,-1230\"/>\n<text text-anchor=\"middle\" x=\"995.5\" y=\"-1218\" font-family=\"monospace\" font-size=\"10.00\" fill=\"#000000\">resnet.7.0.bn1.bias</text>\n<text text-anchor=\"middle\" x=\"995.5\" y=\"-1207\" font-family=\"monospace\" font-size=\"10.00\" fill=\"#000000\"> (512)</text>\n</g>\n<!-- 139633776420080&#45;&gt;139633776674608 -->\n<g id=\"edge174\" class=\"edge\">\n<title>139633776420080&#45;&gt;139633776674608</title>\n<path fill=\"none\" stroke=\"#000000\" d=\"M990.7055,-1199.7333C988.232,-1191.8571 985.1891,-1182.168 982.555,-1173.7803\"/>\n<polygon fill=\"#000000\" stroke=\"#000000\" points=\"985.8461,-1172.5783 979.5106,-1164.0864 979.1677,-1174.6757 985.8461,-1172.5783\"/>\n</g>\n<!-- 139633776673408 -->\n<g id=\"node171\" class=\"node\">\n<title>139633776673408</title>\n<polygon fill=\"#d3d3d3\" stroke=\"#000000\" points=\"965,-1037.5 864,-1037.5 864,-1018.5 965,-1018.5 965,-1037.5\"/>\n<text text-anchor=\"middle\" x=\"914.5\" y=\"-1025.5\" font-family=\"monospace\" font-size=\"10.00\" fill=\"#000000\">AccumulateGrad</text>\n</g>\n<!-- 139633776673408&#45;&gt;139633776676720 -->\n<g id=\"edge175\" class=\"edge\">\n<title>139633776673408&#45;&gt;139633776676720</title>\n<path fill=\"none\" stroke=\"#000000\" d=\"M891.3659,-1018.4136C867.0178,-1008.3242 828.4929,-992.3601 801.077,-980.9994\"/>\n<polygon fill=\"#000000\" stroke=\"#000000\" points=\"802.104,-977.6364 791.5259,-977.0416 799.4243,-984.1032 802.104,-977.6364\"/>\n</g>\n<!-- 139633776420560 -->\n<g id=\"node172\" class=\"node\">\n<title>139633776420560</title>\n<polygon fill=\"#add8e6\" stroke=\"#000000\" points=\"1022,-1109 867,-1109 867,-1079 1022,-1079 1022,-1109\"/>\n<text text-anchor=\"middle\" x=\"944.5\" y=\"-1097\" font-family=\"monospace\" font-size=\"10.00\" fill=\"#000000\">resnet.7.0.conv2.weight</text>\n<text text-anchor=\"middle\" x=\"944.5\" y=\"-1086\" font-family=\"monospace\" font-size=\"10.00\" fill=\"#000000\"> (512, 512, 3, 3)</text>\n</g>\n<!-- 139633776420560&#45;&gt;139633776673408 -->\n<g id=\"edge176\" class=\"edge\">\n<title>139633776420560&#45;&gt;139633776673408</title>\n<path fill=\"none\" stroke=\"#000000\" d=\"M937.542,-1078.6924C933.232,-1069.2104 927.6644,-1056.9616 923.0817,-1046.8798\"/>\n<polygon fill=\"#000000\" stroke=\"#000000\" points=\"926.2349,-1045.3584 918.9105,-1037.7031 919.8623,-1048.2551 926.2349,-1045.3584\"/>\n</g>\n<!-- 139633776675088 -->\n<g id=\"node173\" class=\"node\">\n<title>139633776675088</title>\n<polygon fill=\"#d3d3d3\" stroke=\"#000000\" points=\"548,-977 447,-977 447,-958 548,-958 548,-977\"/>\n<text text-anchor=\"middle\" x=\"497.5\" y=\"-965\" font-family=\"monospace\" font-size=\"10.00\" fill=\"#000000\">AccumulateGrad</text>\n</g>\n<!-- 139633776675088&#45;&gt;139633776673552 -->\n<g id=\"edge177\" class=\"edge\">\n<title>139633776675088&#45;&gt;139633776673552</title>\n<path fill=\"none\" stroke=\"#000000\" d=\"M508.6479,-957.9197C517.8945,-949.9735 531.2553,-938.4916 542.2296,-929.0605\"/>\n<polygon fill=\"#000000\" stroke=\"#000000\" points=\"544.7458,-931.513 550.0489,-922.3408 540.1834,-926.2041 544.7458,-931.513\"/>\n</g>\n<!-- 139633776420480 -->\n<g id=\"node174\" class=\"node\">\n<title>139633776420480</title>\n<polygon fill=\"#add8e6\" stroke=\"#000000\" points=\"553,-1043 410,-1043 410,-1013 553,-1013 553,-1043\"/>\n<text text-anchor=\"middle\" x=\"481.5\" y=\"-1031\" font-family=\"monospace\" font-size=\"10.00\" fill=\"#000000\">resnet.7.0.bn2.weight</text>\n<text text-anchor=\"middle\" x=\"481.5\" y=\"-1020\" font-family=\"monospace\" font-size=\"10.00\" fill=\"#000000\"> (512)</text>\n</g>\n<!-- 139633776420480&#45;&gt;139633776675088 -->\n<g id=\"edge178\" class=\"edge\">\n<title>139633776420480&#45;&gt;139633776675088</title>\n<path fill=\"none\" stroke=\"#000000\" d=\"M485.5375,-1012.7333C487.6204,-1004.8571 490.1828,-995.168 492.4011,-986.7803\"/>\n<polygon fill=\"#000000\" stroke=\"#000000\" points=\"495.7916,-987.6489 494.9648,-977.0864 489.0243,-985.8592 495.7916,-987.6489\"/>\n</g>\n<!-- 139633776675136 -->\n<g id=\"node175\" class=\"node\">\n<title>139633776675136</title>\n<polygon fill=\"#d3d3d3\" stroke=\"#000000\" points=\"677,-977 576,-977 576,-958 677,-958 677,-977\"/>\n<text text-anchor=\"middle\" x=\"626.5\" y=\"-965\" font-family=\"monospace\" font-size=\"10.00\" fill=\"#000000\">AccumulateGrad</text>\n</g>\n<!-- 139633776675136&#45;&gt;139633776673552 -->\n<g id=\"edge179\" class=\"edge\">\n<title>139633776675136&#45;&gt;139633776673552</title>\n<path fill=\"none\" stroke=\"#000000\" d=\"M615.1779,-957.9197C605.7868,-949.9735 592.2173,-938.4916 581.0715,-929.0605\"/>\n<polygon fill=\"#000000\" stroke=\"#000000\" points=\"583.0248,-926.1284 573.1301,-922.3408 578.5031,-931.4721 583.0248,-926.1284\"/>\n</g>\n<!-- 139633776420640 -->\n<g id=\"node176\" class=\"node\">\n<title>139633776420640</title>\n<polygon fill=\"#add8e6\" stroke=\"#000000\" points=\"702,-1043 571,-1043 571,-1013 702,-1013 702,-1043\"/>\n<text text-anchor=\"middle\" x=\"636.5\" y=\"-1031\" font-family=\"monospace\" font-size=\"10.00\" fill=\"#000000\">resnet.7.0.bn2.bias</text>\n<text text-anchor=\"middle\" x=\"636.5\" y=\"-1020\" font-family=\"monospace\" font-size=\"10.00\" fill=\"#000000\"> (512)</text>\n</g>\n<!-- 139633776420640&#45;&gt;139633776675136 -->\n<g id=\"edge180\" class=\"edge\">\n<title>139633776420640&#45;&gt;139633776675136</title>\n<path fill=\"none\" stroke=\"#000000\" d=\"M633.9766,-1012.7333C632.6892,-1004.9447 631.1088,-995.3831 629.7331,-987.0604\"/>\n<polygon fill=\"#000000\" stroke=\"#000000\" points=\"633.1685,-986.3817 628.0845,-977.0864 626.2622,-987.5233 633.1685,-986.3817\"/>\n</g>\n<!-- 139633776673456 -->\n<g id=\"node177\" class=\"node\">\n<title>139633776673456</title>\n<polygon fill=\"#d3d3d3\" stroke=\"#000000\" points=\"457,-1103.5 296,-1103.5 296,-1084.5 457,-1084.5 457,-1103.5\"/>\n<text text-anchor=\"middle\" x=\"376.5\" y=\"-1091.5\" font-family=\"monospace\" font-size=\"10.00\" fill=\"#000000\">NativeBatchNormBackward0</text>\n</g>\n<!-- 139633776673456&#45;&gt;139633776673120 -->\n<g id=\"edge181\" class=\"edge\">\n<title>139633776673456&#45;&gt;139633776673120</title>\n<path fill=\"none\" stroke=\"#000000\" d=\"M379.2499,-1084.2136C389.4601,-1047.8772 425.3113,-920.2892 439.0687,-871.3289\"/>\n<polygon fill=\"#000000\" stroke=\"#000000\" points=\"442.4547,-872.217 441.7904,-861.6431 435.7157,-870.3234 442.4547,-872.217\"/>\n</g>\n<!-- 139633776676096&#45;&gt;139633776673456 -->\n<g id=\"edge182\" class=\"edge\">\n<title>139633776676096&#45;&gt;139633776673456</title>\n<path fill=\"none\" stroke=\"#000000\" d=\"M453.7186,-1144.7796C439.2329,-1135.2537 416.9269,-1120.5851 400.0068,-1109.4583\"/>\n<polygon fill=\"#000000\" stroke=\"#000000\" points=\"401.5231,-1106.2664 391.2447,-1103.6962 397.6769,-1112.1151 401.5231,-1106.2664\"/>\n</g>\n<!-- 139633776675376 -->\n<g id=\"node179\" class=\"node\">\n<title>139633776675376</title>\n<polygon fill=\"#d3d3d3\" stroke=\"#000000\" points=\"519,-1224.5 418,-1224.5 418,-1205.5 519,-1205.5 519,-1224.5\"/>\n<text text-anchor=\"middle\" x=\"468.5\" y=\"-1212.5\" font-family=\"monospace\" font-size=\"10.00\" fill=\"#000000\">AccumulateGrad</text>\n</g>\n<!-- 139633776675376&#45;&gt;139633776676096 -->\n<g id=\"edge184\" class=\"edge\">\n<title>139633776675376&#45;&gt;139633776676096</title>\n<path fill=\"none\" stroke=\"#000000\" d=\"M468.5,-1205.2796C468.5,-1197.0376 468.5,-1184.9457 468.5,-1174.629\"/>\n<polygon fill=\"#000000\" stroke=\"#000000\" points=\"472.0001,-1174.3972 468.5,-1164.3972 465.0001,-1174.3973 472.0001,-1174.3972\"/>\n</g>\n<!-- 139633776419280 -->\n<g id=\"node180\" class=\"node\">\n<title>139633776419280</title>\n<polygon fill=\"#add8e6\" stroke=\"#000000\" points=\"522,-1296 325,-1296 325,-1266 522,-1266 522,-1296\"/>\n<text text-anchor=\"middle\" x=\"423.5\" y=\"-1284\" font-family=\"monospace\" font-size=\"10.00\" fill=\"#000000\">resnet.7.0.downsample.0.weight</text>\n<text text-anchor=\"middle\" x=\"423.5\" y=\"-1273\" font-family=\"monospace\" font-size=\"10.00\" fill=\"#000000\"> (512, 256, 1, 1)</text>\n</g>\n<!-- 139633776419280&#45;&gt;139633776675376 -->\n<g id=\"edge185\" class=\"edge\">\n<title>139633776419280&#45;&gt;139633776675376</title>\n<path fill=\"none\" stroke=\"#000000\" d=\"M433.937,-1265.6924C440.5367,-1256.0129 449.1022,-1243.4501 456.0551,-1233.2526\"/>\n<polygon fill=\"#000000\" stroke=\"#000000\" points=\"459.1427,-1234.937 461.8843,-1224.7031 453.3591,-1230.9937 459.1427,-1234.937\"/>\n</g>\n<!-- 139633776673696 -->\n<g id=\"node181\" class=\"node\">\n<title>139633776673696</title>\n<polygon fill=\"#d3d3d3\" stroke=\"#000000\" points=\"206,-1164 105,-1164 105,-1145 206,-1145 206,-1164\"/>\n<text text-anchor=\"middle\" x=\"155.5\" y=\"-1152\" font-family=\"monospace\" font-size=\"10.00\" fill=\"#000000\">AccumulateGrad</text>\n</g>\n<!-- 139633776673696&#45;&gt;139633776673456 -->\n<g id=\"edge186\" class=\"edge\">\n<title>139633776673696&#45;&gt;139633776673456</title>\n<path fill=\"none\" stroke=\"#000000\" d=\"M190.5181,-1144.9136C228.7477,-1134.448 290.0668,-1117.6616 331.7575,-1106.2485\"/>\n<polygon fill=\"#000000\" stroke=\"#000000\" points=\"332.9248,-1109.5578 341.6457,-1103.5416 331.0764,-1102.8062 332.9248,-1109.5578\"/>\n</g>\n<!-- 139633776419360 -->\n<g id=\"node182\" class=\"node\">\n<title>139633776419360</title>\n<polygon fill=\"#add8e6\" stroke=\"#000000\" points=\"197,-1230 0,-1230 0,-1200 197,-1200 197,-1230\"/>\n<text text-anchor=\"middle\" x=\"98.5\" y=\"-1218\" font-family=\"monospace\" font-size=\"10.00\" fill=\"#000000\">resnet.7.0.downsample.1.weight</text>\n<text text-anchor=\"middle\" x=\"98.5\" y=\"-1207\" font-family=\"monospace\" font-size=\"10.00\" fill=\"#000000\"> (512)</text>\n</g>\n<!-- 139633776419360&#45;&gt;139633776673696 -->\n<g id=\"edge187\" class=\"edge\">\n<title>139633776419360&#45;&gt;139633776673696</title>\n<path fill=\"none\" stroke=\"#000000\" d=\"M112.8835,-1199.7333C120.9636,-1191.157 131.069,-1180.4311 139.4113,-1171.5766\"/>\n<polygon fill=\"#000000\" stroke=\"#000000\" points=\"142.1582,-1173.765 146.4682,-1164.0864 137.0633,-1168.9648 142.1582,-1173.765\"/>\n</g>\n<!-- 139633776674848 -->\n<g id=\"node183\" class=\"node\">\n<title>139633776674848</title>\n<polygon fill=\"#d3d3d3\" stroke=\"#000000\" points=\"370,-1164 269,-1164 269,-1145 370,-1145 370,-1164\"/>\n<text text-anchor=\"middle\" x=\"319.5\" y=\"-1152\" font-family=\"monospace\" font-size=\"10.00\" fill=\"#000000\">AccumulateGrad</text>\n</g>\n<!-- 139633776674848&#45;&gt;139633776673456 -->\n<g id=\"edge188\" class=\"edge\">\n<title>139633776674848&#45;&gt;139633776673456</title>\n<path fill=\"none\" stroke=\"#000000\" d=\"M328.658,-1144.7796C337.1667,-1135.7485 350.0303,-1122.095 360.2767,-1111.2195\"/>\n<polygon fill=\"#000000\" stroke=\"#000000\" points=\"362.8654,-1113.5758 367.1753,-1103.8972 357.7704,-1108.7756 362.8654,-1113.5758\"/>\n</g>\n<!-- 139633776419440 -->\n<g id=\"node184\" class=\"node\">\n<title>139633776419440</title>\n<polygon fill=\"#add8e6\" stroke=\"#000000\" points=\"400,-1230 215,-1230 215,-1200 400,-1200 400,-1230\"/>\n<text text-anchor=\"middle\" x=\"307.5\" y=\"-1218\" font-family=\"monospace\" font-size=\"10.00\" fill=\"#000000\">resnet.7.0.downsample.1.bias</text>\n<text text-anchor=\"middle\" x=\"307.5\" y=\"-1207\" font-family=\"monospace\" font-size=\"10.00\" fill=\"#000000\"> (512)</text>\n</g>\n<!-- 139633776419440&#45;&gt;139633776674848 -->\n<g id=\"edge189\" class=\"edge\">\n<title>139633776419440&#45;&gt;139633776674848</title>\n<path fill=\"none\" stroke=\"#000000\" d=\"M310.5281,-1199.7333C312.073,-1191.9447 313.9695,-1182.3831 315.6203,-1174.0604\"/>\n<polygon fill=\"#000000\" stroke=\"#000000\" points=\"319.086,-1174.5763 317.5986,-1164.0864 312.2198,-1173.2143 319.086,-1174.5763\"/>\n</g>\n<!-- 139633776675472 -->\n<g id=\"node185\" class=\"node\">\n<title>139633776675472</title>\n<polygon fill=\"#d3d3d3\" stroke=\"#000000\" points=\"641,-795.5 540,-795.5 540,-776.5 641,-776.5 641,-795.5\"/>\n<text text-anchor=\"middle\" x=\"590.5\" y=\"-783.5\" font-family=\"monospace\" font-size=\"10.00\" fill=\"#000000\">AccumulateGrad</text>\n</g>\n<!-- 139633776675472&#45;&gt;139633776673744 -->\n<g id=\"edge190\" class=\"edge\">\n<title>139633776675472&#45;&gt;139633776673744</title>\n<path fill=\"none\" stroke=\"#000000\" d=\"M590.5,-776.2796C590.5,-768.0376 590.5,-755.9457 590.5,-745.629\"/>\n<polygon fill=\"#000000\" stroke=\"#000000\" points=\"594.0001,-745.3972 590.5,-735.3972 587.0001,-745.3973 594.0001,-745.3972\"/>\n</g>\n<!-- 139633776421040 -->\n<g id=\"node186\" class=\"node\">\n<title>139633776421040</title>\n<polygon fill=\"#add8e6\" stroke=\"#000000\" points=\"668,-867 513,-867 513,-837 668,-837 668,-867\"/>\n<text text-anchor=\"middle\" x=\"590.5\" y=\"-855\" font-family=\"monospace\" font-size=\"10.00\" fill=\"#000000\">resnet.7.1.conv1.weight</text>\n<text text-anchor=\"middle\" x=\"590.5\" y=\"-844\" font-family=\"monospace\" font-size=\"10.00\" fill=\"#000000\"> (512, 512, 3, 3)</text>\n</g>\n<!-- 139633776421040&#45;&gt;139633776675472 -->\n<g id=\"edge191\" class=\"edge\">\n<title>139633776421040&#45;&gt;139633776675472</title>\n<path fill=\"none\" stroke=\"#000000\" d=\"M590.5,-836.6924C590.5,-827.5067 590.5,-815.7245 590.5,-805.8312\"/>\n<polygon fill=\"#000000\" stroke=\"#000000\" points=\"594.0001,-805.703 590.5,-795.7031 587.0001,-805.7031 594.0001,-805.703\"/>\n</g>\n<!-- 139633776673024 -->\n<g id=\"node187\" class=\"node\">\n<title>139633776673024</title>\n<polygon fill=\"#d3d3d3\" stroke=\"#000000\" points=\"793,-735 692,-735 692,-716 793,-716 793,-735\"/>\n<text text-anchor=\"middle\" x=\"742.5\" y=\"-723\" font-family=\"monospace\" font-size=\"10.00\" fill=\"#000000\">AccumulateGrad</text>\n</g>\n<!-- 139633776673024&#45;&gt;139633777661936 -->\n<g id=\"edge192\" class=\"edge\">\n<title>139633776673024&#45;&gt;139633777661936</title>\n<path fill=\"none\" stroke=\"#000000\" d=\"M742.982,-715.7796C743.3907,-707.5376 743.9903,-695.4457 744.5019,-685.129\"/>\n<polygon fill=\"#000000\" stroke=\"#000000\" points=\"748.0096,-685.0583 745.0092,-674.8972 741.0182,-684.7116 748.0096,-685.0583\"/>\n</g>\n<!-- 139633776419680 -->\n<g id=\"node188\" class=\"node\">\n<title>139633776419680</title>\n<polygon fill=\"#add8e6\" stroke=\"#000000\" points=\"813,-801 670,-801 670,-771 813,-771 813,-801\"/>\n<text text-anchor=\"middle\" x=\"741.5\" y=\"-789\" font-family=\"monospace\" font-size=\"10.00\" fill=\"#000000\">resnet.7.1.bn1.weight</text>\n<text text-anchor=\"middle\" x=\"741.5\" y=\"-778\" font-family=\"monospace\" font-size=\"10.00\" fill=\"#000000\"> (512)</text>\n</g>\n<!-- 139633776419680&#45;&gt;139633776673024 -->\n<g id=\"edge193\" class=\"edge\">\n<title>139633776419680&#45;&gt;139633776673024</title>\n<path fill=\"none\" stroke=\"#000000\" d=\"M741.7523,-770.7333C741.8796,-763.0322 742.0356,-753.5977 742.172,-745.3414\"/>\n<polygon fill=\"#000000\" stroke=\"#000000\" points=\"745.6757,-745.1429 742.3415,-735.0864 738.6767,-745.0272 745.6757,-745.1429\"/>\n</g>\n<!-- 139633776674224 -->\n<g id=\"node189\" class=\"node\">\n<title>139633776674224</title>\n<polygon fill=\"#d3d3d3\" stroke=\"#000000\" points=\"930,-735 829,-735 829,-716 930,-716 930,-735\"/>\n<text text-anchor=\"middle\" x=\"879.5\" y=\"-723\" font-family=\"monospace\" font-size=\"10.00\" fill=\"#000000\">AccumulateGrad</text>\n</g>\n<!-- 139633776674224&#45;&gt;139633777661936 -->\n<g id=\"edge194\" class=\"edge\">\n<title>139633776674224&#45;&gt;139633777661936</title>\n<path fill=\"none\" stroke=\"#000000\" d=\"M858.2673,-715.9136C836.1165,-705.9127 801.1813,-690.1397 776.064,-678.7994\"/>\n<polygon fill=\"#000000\" stroke=\"#000000\" points=\"777.1877,-675.4666 766.6334,-674.5416 774.3072,-681.8465 777.1877,-675.4666\"/>\n</g>\n<!-- 139633776420960 -->\n<g id=\"node190\" class=\"node\">\n<title>139633776420960</title>\n<polygon fill=\"#add8e6\" stroke=\"#000000\" points=\"962,-801 831,-801 831,-771 962,-771 962,-801\"/>\n<text text-anchor=\"middle\" x=\"896.5\" y=\"-789\" font-family=\"monospace\" font-size=\"10.00\" fill=\"#000000\">resnet.7.1.bn1.bias</text>\n<text text-anchor=\"middle\" x=\"896.5\" y=\"-778\" font-family=\"monospace\" font-size=\"10.00\" fill=\"#000000\"> (512)</text>\n</g>\n<!-- 139633776420960&#45;&gt;139633776674224 -->\n<g id=\"edge195\" class=\"edge\">\n<title>139633776420960&#45;&gt;139633776674224</title>\n<path fill=\"none\" stroke=\"#000000\" d=\"M892.2102,-770.7333C889.997,-762.8571 887.2745,-753.168 884.9176,-744.7803\"/>\n<polygon fill=\"#000000\" stroke=\"#000000\" points=\"888.2684,-743.7667 882.1937,-735.0864 881.5294,-745.6604 888.2684,-743.7667\"/>\n</g>\n<!-- 139633777662944 -->\n<g id=\"node191\" class=\"node\">\n<title>139633777662944</title>\n<polygon fill=\"#d3d3d3\" stroke=\"#000000\" points=\"995,-608.5 894,-608.5 894,-589.5 995,-589.5 995,-608.5\"/>\n<text text-anchor=\"middle\" x=\"944.5\" y=\"-596.5\" font-family=\"monospace\" font-size=\"10.00\" fill=\"#000000\">AccumulateGrad</text>\n</g>\n<!-- 139633777662944&#45;&gt;139633777661840 -->\n<g id=\"edge196\" class=\"edge\">\n<title>139633777662944&#45;&gt;139633777661840</title>\n<path fill=\"none\" stroke=\"#000000\" d=\"M926.1195,-589.4136C907.1987,-579.5454 877.5026,-564.0574 855.8287,-552.7533\"/>\n<polygon fill=\"#000000\" stroke=\"#000000\" points=\"857.2796,-549.5627 846.7946,-548.0416 854.0425,-555.7693 857.2796,-549.5627\"/>\n</g>\n<!-- 139633776421520 -->\n<g id=\"node192\" class=\"node\">\n<title>139633776421520</title>\n<polygon fill=\"#add8e6\" stroke=\"#000000\" points=\"1022,-680 867,-680 867,-650 1022,-650 1022,-680\"/>\n<text text-anchor=\"middle\" x=\"944.5\" y=\"-668\" font-family=\"monospace\" font-size=\"10.00\" fill=\"#000000\">resnet.7.1.conv2.weight</text>\n<text text-anchor=\"middle\" x=\"944.5\" y=\"-657\" font-family=\"monospace\" font-size=\"10.00\" fill=\"#000000\"> (512, 512, 3, 3)</text>\n</g>\n<!-- 139633776421520&#45;&gt;139633777662944 -->\n<g id=\"edge197\" class=\"edge\">\n<title>139633776421520&#45;&gt;139633777662944</title>\n<path fill=\"none\" stroke=\"#000000\" d=\"M944.5,-649.6924C944.5,-640.5067 944.5,-628.7245 944.5,-618.8312\"/>\n<polygon fill=\"#000000\" stroke=\"#000000\" points=\"948.0001,-618.703 944.5,-608.7031 941.0001,-618.7031 948.0001,-618.703\"/>\n</g>\n<!-- 139633777663712 -->\n<g id=\"node193\" class=\"node\">\n<title>139633777663712</title>\n<polygon fill=\"#d3d3d3\" stroke=\"#000000\" points=\"608,-548 507,-548 507,-529 608,-529 608,-548\"/>\n<text text-anchor=\"middle\" x=\"557.5\" y=\"-536\" font-family=\"monospace\" font-size=\"10.00\" fill=\"#000000\">AccumulateGrad</text>\n</g>\n<!-- 139633777663712&#45;&gt;139633777660400 -->\n<g id=\"edge198\" class=\"edge\">\n<title>139633777663712&#45;&gt;139633777660400</title>\n<path fill=\"none\" stroke=\"#000000\" d=\"M568.6479,-528.9197C577.8945,-520.9735 591.2553,-509.4916 602.2296,-500.0605\"/>\n<polygon fill=\"#000000\" stroke=\"#000000\" points=\"604.7458,-502.513 610.0489,-493.3408 600.1834,-497.2041 604.7458,-502.513\"/>\n</g>\n<!-- 139633776421280 -->\n<g id=\"node194\" class=\"node\">\n<title>139633776421280</title>\n<polygon fill=\"#add8e6\" stroke=\"#000000\" points=\"614,-614 471,-614 471,-584 614,-584 614,-614\"/>\n<text text-anchor=\"middle\" x=\"542.5\" y=\"-602\" font-family=\"monospace\" font-size=\"10.00\" fill=\"#000000\">resnet.7.1.bn2.weight</text>\n<text text-anchor=\"middle\" x=\"542.5\" y=\"-591\" font-family=\"monospace\" font-size=\"10.00\" fill=\"#000000\"> (512)</text>\n</g>\n<!-- 139633776421280&#45;&gt;139633777663712 -->\n<g id=\"edge199\" class=\"edge\">\n<title>139633776421280&#45;&gt;139633777663712</title>\n<path fill=\"none\" stroke=\"#000000\" d=\"M546.2851,-583.7333C548.2162,-575.9447 550.5868,-566.3831 552.6503,-558.0604\"/>\n<polygon fill=\"#000000\" stroke=\"#000000\" points=\"556.1138,-558.6348 555.1232,-548.0864 549.3195,-556.9502 556.1138,-558.6348\"/>\n</g>\n<!-- 139633777663184 -->\n<g id=\"node195\" class=\"node\">\n<title>139633777663184</title>\n<polygon fill=\"#d3d3d3\" stroke=\"#000000\" points=\"737,-548 636,-548 636,-529 737,-529 737,-548\"/>\n<text text-anchor=\"middle\" x=\"686.5\" y=\"-536\" font-family=\"monospace\" font-size=\"10.00\" fill=\"#000000\">AccumulateGrad</text>\n</g>\n<!-- 139633777663184&#45;&gt;139633777660400 -->\n<g id=\"edge200\" class=\"edge\">\n<title>139633777663184&#45;&gt;139633777660400</title>\n<path fill=\"none\" stroke=\"#000000\" d=\"M675.1779,-528.9197C665.7868,-520.9735 652.2173,-509.4916 641.0715,-500.0605\"/>\n<polygon fill=\"#000000\" stroke=\"#000000\" points=\"643.0248,-497.1284 633.1301,-493.3408 638.5031,-502.4721 643.0248,-497.1284\"/>\n</g>\n<!-- 139633776421600 -->\n<g id=\"node196\" class=\"node\">\n<title>139633776421600</title>\n<polygon fill=\"#add8e6\" stroke=\"#000000\" points=\"763,-614 632,-614 632,-584 763,-584 763,-614\"/>\n<text text-anchor=\"middle\" x=\"697.5\" y=\"-602\" font-family=\"monospace\" font-size=\"10.00\" fill=\"#000000\">resnet.7.1.bn2.bias</text>\n<text text-anchor=\"middle\" x=\"697.5\" y=\"-591\" font-family=\"monospace\" font-size=\"10.00\" fill=\"#000000\"> (512)</text>\n</g>\n<!-- 139633776421600&#45;&gt;139633777663184 -->\n<g id=\"edge201\" class=\"edge\">\n<title>139633776421600&#45;&gt;139633777663184</title>\n<path fill=\"none\" stroke=\"#000000\" d=\"M694.7242,-583.7333C693.3081,-575.9447 691.5696,-566.3831 690.0564,-558.0604\"/>\n<polygon fill=\"#000000\" stroke=\"#000000\" points=\"693.4755,-557.299 688.243,-548.0864 686.5884,-558.5512 693.4755,-557.299\"/>\n</g>\n<!-- 139633777663568 -->\n<g id=\"node197\" class=\"node\">\n<title>139633777663568</title>\n<polygon fill=\"#d3d3d3\" stroke=\"#000000\" points=\"778,-251 701,-251 701,-232 778,-232 778,-251\"/>\n<text text-anchor=\"middle\" x=\"739.5\" y=\"-239\" font-family=\"monospace\" font-size=\"10.00\" fill=\"#000000\">TBackward0</text>\n</g>\n<!-- 139633777663568&#45;&gt;139633777660160 -->\n<g id=\"edge203\" class=\"edge\">\n<title>139633777663568&#45;&gt;139633777660160</title>\n<path fill=\"none\" stroke=\"#000000\" d=\"M715.6364,-231.9197C693.5731,-223.0622 660.5669,-209.8115 635.891,-199.9052\"/>\n<polygon fill=\"#000000\" stroke=\"#000000\" points=\"637.1339,-196.6326 626.5498,-196.155 634.5259,-203.1287 637.1339,-196.6326\"/>\n</g>\n<!-- 139633777662224 -->\n<g id=\"node198\" class=\"node\">\n<title>139633777662224</title>\n<polygon fill=\"#d3d3d3\" stroke=\"#000000\" points=\"791,-311.5 690,-311.5 690,-292.5 791,-292.5 791,-311.5\"/>\n<text text-anchor=\"middle\" x=\"740.5\" y=\"-299.5\" font-family=\"monospace\" font-size=\"10.00\" fill=\"#000000\">AccumulateGrad</text>\n</g>\n<!-- 139633777662224&#45;&gt;139633777663568 -->\n<g id=\"edge204\" class=\"edge\">\n<title>139633777662224&#45;&gt;139633777663568</title>\n<path fill=\"none\" stroke=\"#000000\" d=\"M740.3393,-292.2796C740.2031,-284.0376 740.0032,-271.9457 739.8327,-261.629\"/>\n<polygon fill=\"#000000\" stroke=\"#000000\" points=\"743.3285,-261.338 739.6636,-251.3972 736.3294,-261.4537 743.3285,-261.338\"/>\n</g>\n<!-- 139633783963456 -->\n<g id=\"node199\" class=\"node\">\n<title>139633783963456</title>\n<polygon fill=\"#add8e6\" stroke=\"#000000\" points=\"791,-383 690,-383 690,-353 791,-353 791,-383\"/>\n<text text-anchor=\"middle\" x=\"740.5\" y=\"-371\" font-family=\"monospace\" font-size=\"10.00\" fill=\"#000000\">dense_1.weight</text>\n<text text-anchor=\"middle\" x=\"740.5\" y=\"-360\" font-family=\"monospace\" font-size=\"10.00\" fill=\"#000000\"> (6, 512)</text>\n</g>\n<!-- 139633783963456&#45;&gt;139633777662224 -->\n<g id=\"edge205\" class=\"edge\">\n<title>139633783963456&#45;&gt;139633777662224</title>\n<path fill=\"none\" stroke=\"#000000\" d=\"M740.5,-352.6924C740.5,-343.5067 740.5,-331.7245 740.5,-321.8312\"/>\n<polygon fill=\"#000000\" stroke=\"#000000\" points=\"744.0001,-321.703 740.5,-311.7031 737.0001,-321.7031 744.0001,-321.703\"/>\n</g>\n<!-- 139633777660352 -->\n<g id=\"node200\" class=\"node\">\n<title>139633777660352</title>\n<polygon fill=\"#d3d3d3\" stroke=\"#000000\" points=\"293,-141 180,-141 180,-122 293,-122 293,-141\"/>\n<text text-anchor=\"middle\" x=\"236.5\" y=\"-129\" font-family=\"monospace\" font-size=\"10.00\" fill=\"#000000\">SoftmaxBackward0</text>\n</g>\n<!-- 139633777660352&#45;&gt;139633777662656 -->\n<g id=\"edge206\" class=\"edge\">\n<title>139633777660352&#45;&gt;139633777662656</title>\n<path fill=\"none\" stroke=\"#000000\" d=\"M263.4989,-121.9197C288.8701,-112.9171 327.0307,-99.3762 355.0863,-89.421\"/>\n<polygon fill=\"#000000\" stroke=\"#000000\" points=\"356.297,-92.7053 364.5509,-86.0626 353.9561,-86.1083 356.297,-92.7053\"/>\n</g>\n<!-- 139633777661744&#45;&gt;139633777660352 -->\n<g id=\"edge207\" class=\"edge\">\n<title>139633777661744&#45;&gt;139633777660352</title>\n<path fill=\"none\" stroke=\"#000000\" d=\"M216.6805,-176.9197C219.842,-169.6746 224.2861,-159.4903 228.165,-150.601\"/>\n<polygon fill=\"#000000\" stroke=\"#000000\" points=\"231.4142,-151.9061 232.2058,-141.3408 224.9984,-149.1064 231.4142,-151.9061\"/>\n</g>\n<!-- 139633777660688 -->\n<g id=\"node202\" class=\"node\">\n<title>139633777660688</title>\n<polygon fill=\"#d3d3d3\" stroke=\"#000000\" points=\"216,-251 115,-251 115,-232 216,-232 216,-251\"/>\n<text text-anchor=\"middle\" x=\"165.5\" y=\"-239\" font-family=\"monospace\" font-size=\"10.00\" fill=\"#000000\">AccumulateGrad</text>\n</g>\n<!-- 139633777660688&#45;&gt;139633777661744 -->\n<g id=\"edge208\" class=\"edge\">\n<title>139633777660688&#45;&gt;139633777661744</title>\n<path fill=\"none\" stroke=\"#000000\" d=\"M173.6868,-231.9197C180.2109,-224.2851 189.5241,-213.3867 197.3923,-204.1792\"/>\n<polygon fill=\"#000000\" stroke=\"#000000\" points=\"200.2548,-206.217 204.0906,-196.3408 194.9332,-201.6694 200.2548,-206.217\"/>\n</g>\n<!-- 139633776709280 -->\n<g id=\"node203\" class=\"node\">\n<title>139633776709280</title>\n<polygon fill=\"#add8e6\" stroke=\"#000000\" points=\"212,-317 123,-317 123,-287 212,-287 212,-317\"/>\n<text text-anchor=\"middle\" x=\"167.5\" y=\"-305\" font-family=\"monospace\" font-size=\"10.00\" fill=\"#000000\">dense_2.bias</text>\n<text text-anchor=\"middle\" x=\"167.5\" y=\"-294\" font-family=\"monospace\" font-size=\"10.00\" fill=\"#000000\"> (5)</text>\n</g>\n<!-- 139633776709280&#45;&gt;139633777660688 -->\n<g id=\"edge209\" class=\"edge\">\n<title>139633776709280&#45;&gt;139633777660688</title>\n<path fill=\"none\" stroke=\"#000000\" d=\"M166.9953,-286.7333C166.7407,-279.0322 166.4288,-269.5977 166.1559,-261.3414\"/>\n<polygon fill=\"#000000\" stroke=\"#000000\" points=\"169.6455,-260.9653 165.8169,-251.0864 162.6493,-261.1966 169.6455,-260.9653\"/>\n</g>\n<!-- 139633777659968 -->\n<g id=\"node204\" class=\"node\">\n<title>139633777659968</title>\n<polygon fill=\"#d3d3d3\" stroke=\"#000000\" points=\"96,-251 19,-251 19,-232 96,-232 96,-251\"/>\n<text text-anchor=\"middle\" x=\"57.5\" y=\"-239\" font-family=\"monospace\" font-size=\"10.00\" fill=\"#000000\">TBackward0</text>\n</g>\n<!-- 139633777659968&#45;&gt;139633777661744 -->\n<g id=\"edge211\" class=\"edge\">\n<title>139633777659968&#45;&gt;139633777661744</title>\n<path fill=\"none\" stroke=\"#000000\" d=\"M84.4989,-231.9197C109.8701,-222.9171 148.0307,-209.3762 176.0863,-199.421\"/>\n<polygon fill=\"#000000\" stroke=\"#000000\" points=\"177.297,-202.7053 185.5509,-196.0626 174.9561,-196.1083 177.297,-202.7053\"/>\n</g>\n<!-- 139633777662464 -->\n<g id=\"node205\" class=\"node\">\n<title>139633777662464</title>\n<polygon fill=\"#d3d3d3\" stroke=\"#000000\" points=\"105,-311.5 4,-311.5 4,-292.5 105,-292.5 105,-311.5\"/>\n<text text-anchor=\"middle\" x=\"54.5\" y=\"-299.5\" font-family=\"monospace\" font-size=\"10.00\" fill=\"#000000\">AccumulateGrad</text>\n</g>\n<!-- 139633777662464&#45;&gt;139633777659968 -->\n<g id=\"edge212\" class=\"edge\">\n<title>139633777662464&#45;&gt;139633777659968</title>\n<path fill=\"none\" stroke=\"#000000\" d=\"M54.982,-292.2796C55.3907,-284.0376 55.9903,-271.9457 56.5019,-261.629\"/>\n<polygon fill=\"#000000\" stroke=\"#000000\" points=\"60.0096,-261.5583 57.0092,-251.3972 53.0182,-261.2116 60.0096,-261.5583\"/>\n</g>\n<!-- 139633783905872 -->\n<g id=\"node206\" class=\"node\">\n<title>139633783905872</title>\n<polygon fill=\"#add8e6\" stroke=\"#000000\" points=\"105,-383 4,-383 4,-353 105,-353 105,-383\"/>\n<text text-anchor=\"middle\" x=\"54.5\" y=\"-371\" font-family=\"monospace\" font-size=\"10.00\" fill=\"#000000\">dense_2.weight</text>\n<text text-anchor=\"middle\" x=\"54.5\" y=\"-360\" font-family=\"monospace\" font-size=\"10.00\" fill=\"#000000\"> (5, 512)</text>\n</g>\n<!-- 139633783905872&#45;&gt;139633777662464 -->\n<g id=\"edge213\" class=\"edge\">\n<title>139633783905872&#45;&gt;139633777662464</title>\n<path fill=\"none\" stroke=\"#000000\" d=\"M54.5,-352.6924C54.5,-343.5067 54.5,-331.7245 54.5,-321.8312\"/>\n<polygon fill=\"#000000\" stroke=\"#000000\" points=\"58.0001,-321.703 54.5,-311.7031 51.0001,-321.7031 58.0001,-321.703\"/>\n</g>\n<!-- 139633777662320 -->\n<g id=\"node207\" class=\"node\">\n<title>139633777662320</title>\n<polygon fill=\"#d3d3d3\" stroke=\"#000000\" points=\"448,-141 335,-141 335,-122 448,-122 448,-141\"/>\n<text text-anchor=\"middle\" x=\"391.5\" y=\"-129\" font-family=\"monospace\" font-size=\"10.00\" fill=\"#000000\">SoftmaxBackward0</text>\n</g>\n<!-- 139633777662320&#45;&gt;139633777662656 -->\n<g id=\"edge214\" class=\"edge\">\n<title>139633777662320&#45;&gt;139633777662656</title>\n<path fill=\"none\" stroke=\"#000000\" d=\"M391.5,-121.9197C391.5,-114.9083 391.5,-105.1442 391.5,-96.4652\"/>\n<polygon fill=\"#000000\" stroke=\"#000000\" points=\"395.0001,-96.3408 391.5,-86.3408 388.0001,-96.3409 395.0001,-96.3408\"/>\n</g>\n<!-- 139633777660928&#45;&gt;139633777662320 -->\n<g id=\"edge215\" class=\"edge\">\n<title>139633777660928&#45;&gt;139633777662320</title>\n<path fill=\"none\" stroke=\"#000000\" d=\"M391.5,-176.9197C391.5,-169.9083 391.5,-160.1442 391.5,-151.4652\"/>\n<polygon fill=\"#000000\" stroke=\"#000000\" points=\"395.0001,-151.3408 391.5,-141.3408 388.0001,-151.3409 395.0001,-151.3408\"/>\n</g>\n<!-- 139633777663280 -->\n<g id=\"node209\" class=\"node\">\n<title>139633777663280</title>\n<polygon fill=\"#d3d3d3\" stroke=\"#000000\" points=\"335,-251 234,-251 234,-232 335,-232 335,-251\"/>\n<text text-anchor=\"middle\" x=\"284.5\" y=\"-239\" font-family=\"monospace\" font-size=\"10.00\" fill=\"#000000\">AccumulateGrad</text>\n</g>\n<!-- 139633777663280&#45;&gt;139633777660928 -->\n<g id=\"edge216\" class=\"edge\">\n<title>139633777663280&#45;&gt;139633777660928</title>\n<path fill=\"none\" stroke=\"#000000\" d=\"M303.138,-231.9197C319.8362,-223.3365 344.5598,-210.6281 363.6118,-200.8351\"/>\n<polygon fill=\"#000000\" stroke=\"#000000\" points=\"365.4228,-203.8395 372.7166,-196.155 362.2227,-197.6138 365.4228,-203.8395\"/>\n</g>\n<!-- 139633776706640 -->\n<g id=\"node210\" class=\"node\">\n<title>139633776706640</title>\n<polygon fill=\"#add8e6\" stroke=\"#000000\" points=\"323,-317 234,-317 234,-287 323,-287 323,-317\"/>\n<text text-anchor=\"middle\" x=\"278.5\" y=\"-305\" font-family=\"monospace\" font-size=\"10.00\" fill=\"#000000\">dense_3.bias</text>\n<text text-anchor=\"middle\" x=\"278.5\" y=\"-294\" font-family=\"monospace\" font-size=\"10.00\" fill=\"#000000\"> (5)</text>\n</g>\n<!-- 139633776706640&#45;&gt;139633777663280 -->\n<g id=\"edge217\" class=\"edge\">\n<title>139633776706640&#45;&gt;139633777663280</title>\n<path fill=\"none\" stroke=\"#000000\" d=\"M280.0141,-286.7333C280.7865,-278.9447 281.7347,-269.3831 282.5601,-261.0604\"/>\n<polygon fill=\"#000000\" stroke=\"#000000\" points=\"286.0452,-261.383 283.5493,-251.0864 279.0794,-260.6921 286.0452,-261.383\"/>\n</g>\n<!-- 139633777662992 -->\n<g id=\"node211\" class=\"node\">\n<title>139633777662992</title>\n<polygon fill=\"#d3d3d3\" stroke=\"#000000\" points=\"430,-251 353,-251 353,-232 430,-232 430,-251\"/>\n<text text-anchor=\"middle\" x=\"391.5\" y=\"-239\" font-family=\"monospace\" font-size=\"10.00\" fill=\"#000000\">TBackward0</text>\n</g>\n<!-- 139633777662992&#45;&gt;139633777660928 -->\n<g id=\"edge219\" class=\"edge\">\n<title>139633777662992&#45;&gt;139633777660928</title>\n<path fill=\"none\" stroke=\"#000000\" d=\"M391.5,-231.9197C391.5,-224.9083 391.5,-215.1442 391.5,-206.4652\"/>\n<polygon fill=\"#000000\" stroke=\"#000000\" points=\"395.0001,-206.3408 391.5,-196.3408 388.0001,-206.3409 395.0001,-206.3408\"/>\n</g>\n<!-- 139633776673984 -->\n<g id=\"node212\" class=\"node\">\n<title>139633776673984</title>\n<polygon fill=\"#d3d3d3\" stroke=\"#000000\" points=\"442,-311.5 341,-311.5 341,-292.5 442,-292.5 442,-311.5\"/>\n<text text-anchor=\"middle\" x=\"391.5\" y=\"-299.5\" font-family=\"monospace\" font-size=\"10.00\" fill=\"#000000\">AccumulateGrad</text>\n</g>\n<!-- 139633776673984&#45;&gt;139633777662992 -->\n<g id=\"edge220\" class=\"edge\">\n<title>139633776673984&#45;&gt;139633777662992</title>\n<path fill=\"none\" stroke=\"#000000\" d=\"M391.5,-292.2796C391.5,-284.0376 391.5,-271.9457 391.5,-261.629\"/>\n<polygon fill=\"#000000\" stroke=\"#000000\" points=\"395.0001,-261.3972 391.5,-251.3972 388.0001,-261.3973 395.0001,-261.3972\"/>\n</g>\n<!-- 139633776708560 -->\n<g id=\"node213\" class=\"node\">\n<title>139633776708560</title>\n<polygon fill=\"#add8e6\" stroke=\"#000000\" points=\"442,-383 341,-383 341,-353 442,-353 442,-383\"/>\n<text text-anchor=\"middle\" x=\"391.5\" y=\"-371\" font-family=\"monospace\" font-size=\"10.00\" fill=\"#000000\">dense_3.weight</text>\n<text text-anchor=\"middle\" x=\"391.5\" y=\"-360\" font-family=\"monospace\" font-size=\"10.00\" fill=\"#000000\"> (5, 512)</text>\n</g>\n<!-- 139633776708560&#45;&gt;139633776673984 -->\n<g id=\"edge221\" class=\"edge\">\n<title>139633776708560&#45;&gt;139633776673984</title>\n<path fill=\"none\" stroke=\"#000000\" d=\"M391.5,-352.6924C391.5,-343.5067 391.5,-331.7245 391.5,-321.8312\"/>\n<polygon fill=\"#000000\" stroke=\"#000000\" points=\"395.0001,-321.703 391.5,-311.7031 388.0001,-321.7031 395.0001,-321.703\"/>\n</g>\n</g>\n</svg>\n"
          },
          "metadata": {},
          "execution_count": 28
        }
      ]
    },
    {
      "cell_type": "markdown",
      "source": [
        "# Split train.csv into 8 folds"
      ],
      "metadata": {
        "id": "MsxXQTuONf6q"
      }
    },
    {
      "cell_type": "code",
      "source": [
        "val_sets, train_sets = [], []\n",
        "val_splits = np.int32((np.arange(FOLDS + 1)/FOLDS) * len(train_df))\n",
        "val_indices = [[val_splits[i], val_splits[i+1]] for i in range(FOLDS)]\n",
        "\n",
        "for fold in tqdm(range(FOLDS)):\n",
        "    val_idx = val_indices[fold]\n",
        "    if fold == FOLDS - 1: val_idx[1] -= 1\n",
        "    val_sets.append(train_df[val_idx[0]:val_idx[1]])\n",
        "    train_sets.append(pd.concat([train_df[:val_idx[0]], train_df[val_idx[1]:]]))"
      ],
      "metadata": {
        "colab": {
          "base_uri": "https://localhost:8080/",
          "height": 49,
          "referenced_widgets": [
            "f8401485d58643e9ac4af73d0f8ef095",
            "33945479017447718c76623ccba69405",
            "cf7b136a951849028167d985c8fbb914",
            "084a877ee8e848d58105e370c8724359",
            "f7642b5f2c01448b892bb9bef848f7fc",
            "e859750f82a84784817dd86662928a06",
            "40e87c8246174800b762de1aac443b75",
            "617417b8eb144583be2e31bbed1dbc16",
            "e49e862a2c5b4b599363214d17f6298d",
            "7f8aa8ddf1334655bd2074ec367ec4d4",
            "4e5566c865fd4ac2825400454a554aff"
          ]
        },
        "id": "ZEi_5ZLJNlyf",
        "outputId": "e3f9911e-d364-4ba8-d74b-ddb72e94ebd5"
      },
      "execution_count": 29,
      "outputs": [
        {
          "output_type": "display_data",
          "data": {
            "text/plain": [
              "  0%|          | 0/8 [00:00<?, ?it/s]"
            ],
            "application/vnd.jupyter.widget-view+json": {
              "version_major": 2,
              "version_minor": 0,
              "model_id": "f8401485d58643e9ac4af73d0f8ef095"
            }
          },
          "metadata": {}
        }
      ]
    },
    {
      "cell_type": "markdown",
      "source": [
        "# Define Cross Entropy and Accuracy"
      ],
      "metadata": {
        "id": "uIU6ARtANrSu"
      }
    },
    {
      "cell_type": "code",
      "source": [
        "def cel(inp, targ):\n",
        "    _, labels = targ.max(dim=1)\n",
        "    return nn.CrossEntropyLoss()(inp, labels)\n",
        "\n",
        "def acc(inp, targ):\n",
        "    inp_idx = inp.max(axis=1).indices\n",
        "    targ_idx = targ.max(axis=1).indices\n",
        "    return (inp_idx == targ_idx).float().sum(axis=0)/len(inp_idx)"
      ],
      "metadata": {
        "id": "N560HTc4Nv3D"
      },
      "execution_count": 30,
      "outputs": []
    },
    {
      "cell_type": "markdown",
      "source": [
        "# Define Custom PANDA Loss for Multitask Model"
      ],
      "metadata": {
        "id": "bTb8ubkxN1nE"
      }
    },
    {
      "cell_type": "code",
      "source": [
        "def panda_cel(inp, targ):\n",
        "    isup_loss = cel(inp[:, :6], targ[:, :6])\n",
        "    gleason_loss_0 = cel(inp[:, 6:11], targ[:, 6:11])\n",
        "    gleason_loss_1 = cel(inp[:, 11:16], targ[:, 11:16])\n",
        "    return [isup_loss, gleason_loss_0, gleason_loss_1],\\\n",
        "           isup_loss + gleason_loss_0 + gleason_loss_1\n",
        "\n",
        "def panda_acc(inp, targ):\n",
        "    isup_accuracy = acc(inp[:, :6], targ[:, :6])\n",
        "    gleason_accuracy_0 = acc(inp[:, 6:11], targ[:, 6:11])\n",
        "    gleason_accuracy_1 = acc(inp[:, 11:16], targ[:, 11:16])\n",
        "    return [isup_accuracy, gleason_accuracy_0, gleason_accuracy_1]"
      ],
      "metadata": {
        "id": "V53mtn-dN8BA"
      },
      "execution_count": 31,
      "outputs": []
    },
    {
      "cell_type": "markdown",
      "source": [
        "# Define Helper Function for Training Logs"
      ],
      "metadata": {
        "id": "qNAA8gLyN_6I"
      }
    },
    {
      "cell_type": "code",
      "source": [
        "def print_metric(data, fold, start, end, metric, typ):\n",
        "    r = Fore.RESET\n",
        "    n = [\"ISUP\", \"G-0\", \"G-1\"]\n",
        "    time = np.round(end - start, 1)\n",
        "    time = \"Time: {} s\".format(time)\n",
        "    c = [Fore.CYAN, Fore.YELLOW, Fore.MAGENTA]\n",
        "    \n",
        "    tick = Fore.GREEN + '\\u2714' + Fore.RESET\n",
        "    prefix = \"FOLD {} \".format(fold + 1) + tick + \"  \"\n",
        "    \n",
        "    string = prefix\n",
        "    for idx in range(3):\n",
        "        value = np.round(data[idx].item(), 3)\n",
        "        t = typ, n[idx], metric, c[idx], value, Fore.RESET\n",
        "        string = string + \"{} {} {}: {}{}{}\".format(*t) + \"  \"\n",
        "        \n",
        "    print(string + time)"
      ],
      "metadata": {
        "id": "kVCFEWQXOEm-"
      },
      "execution_count": 32,
      "outputs": []
    },
    {
      "cell_type": "markdown",
      "source": [
        "# Train model on all 8 TPU cores in parallel "
      ],
      "metadata": {
        "id": "QD7cPd4EOIMZ"
      }
    },
    {
      "cell_type": "code",
      "source": [
        "def train(fold):\n",
        "    val = val_sets[fold]\n",
        "    train = train_sets[fold]\n",
        "    device = xm.xla_device(fold + 1)\n",
        "    \n",
        "    def xla(tensor):\n",
        "        return tensor.to(device)\n",
        "   \n",
        "    val = val.reset_index(drop=True)\n",
        "    val_set = PANDADataset(val, TRAIN_IMG_PATH, is_val=True)\n",
        "    val_loader = DataLoader(val_set, batch_size=VAL_BATCH_SIZE)\n",
        "\n",
        "    train = train.reset_index(drop=True)\n",
        "    train_set = PANDADataset(train, TRAIN_IMG_PATH, is_train=True)\n",
        "    train_loader = DataLoader(train_set, batch_size=BATCH_SIZE, shuffle=True)\n",
        "\n",
        "    network = xla(ResNetDetector())\n",
        "    optimizer = Adam([{'params': network.resnet.parameters(), 'lr': LR[0]},\n",
        "                      {'params': network.dense_1.parameters(), 'lr': LR[1]},\n",
        "                      {'params': network.dense_2.parameters(), 'lr': LR[1]},\n",
        "                      {'params': network.dense_3.parameters(), 'lr': LR[1]}])\n",
        "\n",
        "    scheduler = ReduceLROnPlateau(optimizer, 'min', factor=0.5,\n",
        "                                  patience=2, verbose=True, eps=1e-6)\n",
        "\n",
        "    start = time.time()\n",
        "    for epoch in range(EPOCHS):\n",
        "        batch = 1\n",
        "        for train_batch in train_loader:\n",
        "            train_img, train_targs = train_batch\n",
        "\n",
        "            network = xla(network)\n",
        "            train_img = xla(train_img)\n",
        "            train_targs = xla(train_targs)\n",
        "            \n",
        "            network.train()\n",
        "            train_preds = network.forward(train_img)\n",
        "            train_acc = panda_acc(train_preds, train_targs.squeeze())\n",
        "            train_loss, total_loss = panda_cel(train_preds, train_targs.squeeze())\n",
        "\n",
        "            optimizer.zero_grad()\n",
        "            total_loss.backward()\n",
        "            xm.optimizer_step(optimizer, barrier=True)\n",
        "\n",
        "            batch = batch + 1\n",
        "           \n",
        "        network.eval()\n",
        "        for val_batch in val_loader:\n",
        "            img, targ = val_batch\n",
        "            val_preds, val_targs = [], []\n",
        "\n",
        "            with torch.no_grad():\n",
        "                img = xla(img)\n",
        "                network = xla(network)\n",
        "                pred = network.forward(img)\n",
        "                val_preds.append(pred); val_targs.append(targ)\n",
        "        \n",
        "        val_preds = torch.cat(val_preds, axis=0)\n",
        "        val_targs = torch.cat(val_targs, axis=0)\n",
        "        \n",
        "        val_targs = xla(val_targs)\n",
        "        val_acc = panda_acc(val_preds, val_targs.squeeze())\n",
        "        val_loss, _ = panda_cel(val_preds, val_targs.squeeze())\n",
        "       \n",
        "        scheduler.step(val_loss[0])\n",
        "       \n",
        "    end = time.time()\n",
        "    print_metric(val_acc, fold, start, end, metric=\"acc\", typ=\"Val\")\n",
        "    torch.save(network.state_dict(), MODEL_SAVE_PATH + \"_\" + str(fold + 1) + \".pt\")"
      ],
      "metadata": {
        "id": "99NcQgJAOKrV"
      },
      "execution_count": 33,
      "outputs": []
    },
    {
      "cell_type": "code",
      "source": [
        "#import torch xla problem..\n",
        "Parallel(n_jobs=FOLDS, backend=\"threading\")(delayed(train)(i) for i in range(FOLDS))"
      ],
      "metadata": {
        "colab": {
          "base_uri": "https://localhost:8080/",
          "height": 166
        },
        "id": "siW5-VggOOos",
        "outputId": "ec4a9281-db38-41c7-ecf9-887fb176d446"
      },
      "execution_count": 2,
      "outputs": [
        {
          "output_type": "error",
          "ename": "NameError",
          "evalue": "ignored",
          "traceback": [
            "\u001b[0;31m---------------------------------------------------------------------------\u001b[0m",
            "\u001b[0;31mNameError\u001b[0m                                 Traceback (most recent call last)",
            "\u001b[0;32m<ipython-input-2-50251bbed9b5>\u001b[0m in \u001b[0;36m<module>\u001b[0;34m\u001b[0m\n\u001b[0;32m----> 1\u001b[0;31m \u001b[0mParallel\u001b[0m\u001b[0;34m(\u001b[0m\u001b[0mn_jobs\u001b[0m\u001b[0;34m=\u001b[0m\u001b[0mFOLDS\u001b[0m\u001b[0;34m,\u001b[0m \u001b[0mbackend\u001b[0m\u001b[0;34m=\u001b[0m\u001b[0;34m\"threading\"\u001b[0m\u001b[0;34m)\u001b[0m\u001b[0;34m(\u001b[0m\u001b[0mdelayed\u001b[0m\u001b[0;34m(\u001b[0m\u001b[0mtrain\u001b[0m\u001b[0;34m)\u001b[0m\u001b[0;34m(\u001b[0m\u001b[0mi\u001b[0m\u001b[0;34m)\u001b[0m \u001b[0;32mfor\u001b[0m \u001b[0mi\u001b[0m \u001b[0;32min\u001b[0m \u001b[0mrange\u001b[0m\u001b[0;34m(\u001b[0m\u001b[0mFOLDS\u001b[0m\u001b[0;34m)\u001b[0m\u001b[0;34m)\u001b[0m\u001b[0;34m\u001b[0m\u001b[0;34m\u001b[0m\u001b[0m\n\u001b[0m",
            "\u001b[0;31mNameError\u001b[0m: name 'Parallel' is not defined"
          ]
        }
      ]
    }
  ]
}